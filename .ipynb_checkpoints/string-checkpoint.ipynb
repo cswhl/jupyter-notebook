{
 "cells": [
  {
   "cell_type": "code",
   "execution_count": 8,
   "metadata": {
    "scrolled": true
   },
   "outputs": [
    {
     "name": "stdout",
     "output_type": "stream",
     "text": [
      "my_add result:3\n"
     ]
    },
    {
     "data": {
      "text/plain": [
       "'<function <lambda> at 0x0000016B28B76558>'"
      ]
     },
     "execution_count": 8,
     "metadata": {},
     "output_type": "execute_result"
    }
   ],
   "source": [
    "func = f\"my_add result:{(lambda x,y:x+y) (1,2)}\"\n",
    "print(func)  # my_add result:3\n",
    "\n",
    "# lambda表达式：{(lambda表达式) (参数)}:lambda的\":\"会被f-string误认为是表达式和格式描述符之间的分隔符，为避免歧义需要lambda表达式置于括号内\n",
    "func= f'{(lambda x,y: x+y)}' \n",
    "func"
   ]
  }
 ],
 "metadata": {
  "kernelspec": {
   "display_name": "Python 3",
   "language": "python",
   "name": "python3"
  },
  "language_info": {
   "codemirror_mode": {
    "name": "ipython",
    "version": 3
   },
   "file_extension": ".py",
   "mimetype": "text/x-python",
   "name": "python",
   "nbconvert_exporter": "python",
   "pygments_lexer": "ipython3",
   "version": "3.7.6"
  }
 },
 "nbformat": 4,
 "nbformat_minor": 4
}
