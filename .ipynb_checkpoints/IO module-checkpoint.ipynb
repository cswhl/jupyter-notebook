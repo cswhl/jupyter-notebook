{
 "cells": [
  {
   "cell_type": "markdown",
   "metadata": {},
   "source": [
    "[io — Core tools for working with streams](https://docs.python.org/3/library/io.html)"
   ]
  },
  {
   "cell_type": "code",
   "execution_count": 13,
   "metadata": {},
   "outputs": [
    {
     "name": "stdout",
     "output_type": "stream",
     "text": [
      "<_io.StringIO object at 0x000001CD877A5318>\n",
      "some initial text data\n",
      "22\n",
      "24\n",
      "some initial text datacs\n"
     ]
    }
   ],
   "source": [
    "# StringIO用于操作内存将内存中的字符串文本流打包为StringIO对象使用\n",
    "import io\n",
    "f = io.StringIO(\"some initial text data\")\n",
    "print(f)\n",
    "print(f.read()) # 读取全部内容，流中指针会移动到最后的位置\n",
    "print(f.tell()) \n",
    "f.write('cs')   # 向文本流中写入信息，流中指针会移动2个位置\n",
    "print(f.tell()) #\n",
    "print(f.getvalue()) # 获取文本流缓存区中保持的全部字符串"
   ]
  },
  {
   "cell_type": "code",
   "execution_count": 2,
   "metadata": {},
   "outputs": [
    {
     "name": "stdout",
     "output_type": "stream",
     "text": [
      "<_io.TextIOWrapper name='testFile/myfile.txt' mode='r' encoding='utf-8'>\n",
      "some initial text data\n"
     ]
    }
   ],
   "source": [
    "# 使用磁盘的文件创建一个文本流，返回TextIOWrapper对象\n",
    "f = open(\"testFile/myfile.txt\", \"r\", encoding=\"utf-8\")\n",
    "print(f)\n",
    "print(f.read())"
   ]
  },
  {
   "cell_type": "code",
   "execution_count": 30,
   "metadata": {
    "collapsed": true
   },
   "outputs": [
    {
     "name": "stdout",
     "output_type": "stream",
     "text": [
      "b'some initial binary data: \\x00\\n\\x01'\n",
      "b'some initial binary data: \\x00\\n\\x01'\n"
     ]
    },
    {
     "ename": "ValueError",
     "evalue": "I/O operation on closed file.",
     "output_type": "error",
     "traceback": [
      "\u001b[1;31m---------------------------------------------------------------------------\u001b[0m",
      "\u001b[1;31mValueError\u001b[0m                                Traceback (most recent call last)",
      "\u001b[1;32m<ipython-input-30-85e6635f4e1e>\u001b[0m in \u001b[0;36m<module>\u001b[1;34m\u001b[0m\n\u001b[0;32m      4\u001b[0m \u001b[0mprint\u001b[0m\u001b[1;33m(\u001b[0m\u001b[0mf\u001b[0m\u001b[1;33m.\u001b[0m\u001b[0mread\u001b[0m\u001b[1;33m(\u001b[0m\u001b[1;33m)\u001b[0m\u001b[1;33m)\u001b[0m\u001b[1;33m\u001b[0m\u001b[1;33m\u001b[0m\u001b[0m\n\u001b[0;32m      5\u001b[0m \u001b[0mf\u001b[0m\u001b[1;33m.\u001b[0m\u001b[0mclose\u001b[0m\u001b[1;33m(\u001b[0m\u001b[1;33m)\u001b[0m\u001b[1;33m\u001b[0m\u001b[1;33m\u001b[0m\u001b[0m\n\u001b[1;32m----> 6\u001b[1;33m \u001b[0mf\u001b[0m\u001b[1;33m.\u001b[0m\u001b[0mread\u001b[0m\u001b[1;33m(\u001b[0m\u001b[1;33m)\u001b[0m\u001b[1;33m\u001b[0m\u001b[1;33m\u001b[0m\u001b[0m\n\u001b[0m\u001b[0;32m      7\u001b[0m \u001b[1;31m# f = open(\"myfile.jpg\", \"rb\")  # 使用图片创建创建一个字节流\u001b[0m\u001b[1;33m\u001b[0m\u001b[1;33m\u001b[0m\u001b[1;33m\u001b[0m\u001b[0m\n",
      "\u001b[1;31mValueError\u001b[0m: I/O operation on closed file."
     ]
    }
   ],
   "source": [
    "# 将内存中的字节串流打包为BytesIO objects使用\n",
    "f = io.BytesIO(b\"some initial binary data: \\x00\\n\\x01\")\n",
    "print(f.getvalue())\n",
    "print(f.read())\n",
    "f.close()\n",
    "f.read()\n",
    "# f = open(\"myfile.jpg\", \"rb\")  # 使用图片创建创建一个字节流"
   ]
  }
 ],
 "metadata": {
  "kernelspec": {
   "display_name": "Python 3",
   "language": "python",
   "name": "python3"
  },
  "language_info": {
   "codemirror_mode": {
    "name": "ipython",
    "version": 3
   },
   "file_extension": ".py",
   "mimetype": "text/x-python",
   "name": "python",
   "nbconvert_exporter": "python",
   "pygments_lexer": "ipython3",
   "version": "3.7.6"
  }
 },
 "nbformat": 4,
 "nbformat_minor": 4
}
