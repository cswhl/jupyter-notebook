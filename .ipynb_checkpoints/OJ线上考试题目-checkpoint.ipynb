{
 "cells": [
  {
   "cell_type": "markdown",
   "metadata": {},
   "source": [
    "[将字符串按8位断开，不足8位补零\n",
    " 思路：先将不时8整数倍得字符串补0变成8的整数倍，然后统一处理\n",
    "](https://www.nowcoder.com/practice/d9162298cb5a437aad722fccccaae8a7?tpId=37&&tqId=21227&rp=1&ru=/ta/huawei&qru=/ta/huawei/question-ranking)"
   ]
  },
  {
   "cell_type": "code",
   "execution_count": 38,
   "metadata": {},
   "outputs": [
    {
     "data": {
      "text/plain": [
       "1"
      ]
     },
     "execution_count": 38,
     "metadata": {},
     "output_type": "execute_result"
    }
   ],
   "source": [
    "while True:\n",
    "    try:\n",
    "        def fun(string):\n",
    "            # 获取字符串位数，得到不足8位得余数\n",
    "            cc = len(string)%8  \n",
    "            # 用0补足8位\n",
    "            if cc != 0: string += '0'*(8-cc)\n",
    "            for i in range(len(string)//8):\n",
    "                print(string[i*8:(i+1)*8],end='\\r')\n",
    "        str1 = input()\n",
    "        str2 = input()\n",
    "        fun(str1)\n",
    "        fun(str2)\n",
    "    except:\n",
    "        break"
   ]
  },
  {
   "cell_type": "code",
   "execution_count": 54,
   "metadata": {},
   "outputs": [
    {
     "name": "stdout",
     "output_type": "stream",
     "text": [
      "请输入0\n"
     ]
    },
    {
     "data": {
      "text/plain": [
       "0"
      ]
     },
     "execution_count": 54,
     "metadata": {},
     "output_type": "execute_result"
    }
   ],
   "source": [
    "num = input('请输入')\n",
    "count = 0\n",
    "for x in bin(int(num))[2:]:\n",
    "    count += int(x)\n",
    "count"
   ]
  },
  {
   "cell_type": "markdown",
   "metadata": {},
   "source": [
    "[A+B(1)](https://ac.nowcoder.com/acm/contest/5650/A):注意多行输入要用while循环，测试多个用例"
   ]
  },
  {
   "cell_type": "code",
   "execution_count": null,
   "metadata": {
    "scrolled": true
   },
   "outputs": [
    {
     "name": "stdout",
     "output_type": "stream",
     "text": [
      "2 4\n",
      "6\n"
     ]
    }
   ],
   "source": [
    "while True:\n",
    "    try:\n",
    "        s = input()\n",
    "        S = s.split()\n",
    "        print(int(S[0]) + int(S[1]))\n",
    "    except:\n",
    "        break"
   ]
  },
  {
   "cell_type": "markdown",
   "metadata": {},
   "source": [
    "[计算字符串最后一个单词的长度，单词以空格隔开](https://www.nowcoder.com/practice/8c949ea5f36f422594b306a2300315da?tpId=37&&tqId=21224&rp=1&ru=/ta/huawei&qru=/ta/huawei/question-ranking)"
   ]
  },
  {
   "cell_type": "code",
   "execution_count": null,
   "metadata": {},
   "outputs": [],
   "source": [
    "while True:\n",
    "    try:\n",
    "        print(len(input().split()[-1]))\n",
    "    except:\n",
    "        break"
   ]
  },
  {
   "cell_type": "markdown",
   "metadata": {},
   "source": [
    "[写出一个程序，接受一个由字母和数字组成的字符串，和一个字符，然后输出输入字符串中含有该字符的个数。不区分大小写](https://www.nowcoder.com/practice/a35ce98431874e3a820dbe4b2d0508b1?tpId=37&&tqId=21225&rp=1&ru=/ta/huawei&qru=/ta/huawei/question-ranking)"
   ]
  },
  {
   "cell_type": "code",
   "execution_count": null,
   "metadata": {},
   "outputs": [],
   "source": [
    "while True:\n",
    "    try:\n",
    "        str1 = input().lower() # 获取第一行输入\n",
    "        str2 = input().lower() # 获取第二行输入\n",
    "        print(str1.count(str2))\n",
    "    except:\n",
    "        break"
   ]
  },
  {
   "cell_type": "markdown",
   "metadata": {},
   "source": [
    "[明明的随机数：去重和排序](https://www.nowcoder.com/practice/3245215fffb84b7b81285493eae92ff0?tpId=37&&tqId=21226&rp=1&ru=/ta/huawei&qru=/ta/huawei/question-ranking)"
   ]
  },
  {
   "cell_type": "code",
   "execution_count": null,
   "metadata": {},
   "outputs": [],
   "source": [
    "while True:\n",
    "    try:\n",
    "        lineNum = int(input())\n",
    "        ss = set()\n",
    "        for i in range(lineNum):\n",
    "            ss.add(int(input()))\n",
    "        print('\\n'.join(str(x) for x in sorted(list(ss))))\n",
    "    except:\n",
    "        break"
   ]
  },
  {
   "cell_type": "markdown",
   "metadata": {},
   "source": [
    "[•连续输入字符串，请按长度为8拆分每个字符串后输出到新的字符串数组；\n",
    "•长度不是8整数倍的字符串请在后面补数字0，空字符串不处理。](https://www.nowcoder.com/practice/d9162298cb5a437aad722fccccaae8a7?tpId=37&tags=&title=&diffculty=0&judgeStatus=0&rp=1)"
   ]
  },
  {
   "cell_type": "code",
   "execution_count": null,
   "metadata": {},
   "outputs": [],
   "source": [
    "while True:\n",
    "    try:\n",
    "        def fun(string):\n",
    "            cc = len(string.rstrip())%8  # 除余运算，\n",
    "            if cc != 0: string += '0'*(8-cc)  # 排除空字符串和是8整数倍的字符串；不是8整数倍的输入字符串加0\n",
    "            for i in range(len(string)//8):\n",
    "                print(string[i*8:(i+1)*8])  # 切片\n",
    "        str1 = input()\n",
    "        str2 = input()\n",
    "        fun(str1)\n",
    "        fun(str2)\n",
    "    except:\n",
    "        break"
   ]
  },
  {
   "cell_type": "markdown",
   "metadata": {},
   "source": [
    "[写出一个程序，接受一个十六进制的数，输出该数值的十进制表示。](https://www.nowcoder.com/practice/8f3df50d2b9043208c5eed283d1d4da6?tpId=37&tags=&title=&diffculty=0&judgeStatus=0&rp=1)"
   ]
  },
  {
   "cell_type": "code",
   "execution_count": null,
   "metadata": {},
   "outputs": [],
   "source": [
    "while True:\n",
    "    try:\n",
    "        while True:\n",
    "            print(int(input(), 16)) # 直接用循环和input()读取输入就好，不要使用for line in sys.stdin:a = line.split()，这个太慢，运行时间超时\n",
    "    except:\n",
    "           break"
   ]
  },
  {
   "cell_type": "markdown",
   "metadata": {},
   "source": [
    "[功能:输入一个正整数，按照从小到大的顺序输出它的所有质因子（重复的也要列举）（如180的质因子为2 2 3 3 5 ）\n",
    "最后一个数后面也要有空格](https://www.nowcoder.com/practice/196534628ca6490ebce2e336b47b3607?tpId=37&tags=&title=&diffculty=0&judgeStatus=0&rp=1)"
   ]
  },
  {
   "cell_type": "code",
   "execution_count": null,
   "metadata": {},
   "outputs": [],
   "source": [
    "while True:\n",
    "    try:\n",
    "        # 递归实现: 目的是为了尽量减少计算次数，除数从2开始判断，到被除数和除数相等时截至\n",
    "        def fun(num, divNum):\n",
    "            if num <= divNum:\n",
    "                return None\n",
    "            else:\n",
    "                while num % divNum:\n",
    "                    divNum += 1\n",
    "                print(divNum, end=' ')\n",
    "                fun(num//divNum, divNum)\n",
    "        num = int(input())\n",
    "        fun(num, 2)\n",
    "    except:\n",
    "        break"
   ]
  },
  {
   "cell_type": "markdown",
   "metadata": {},
   "source": [
    "[写出一个程序，接受一个正浮点数值，输出该数值的近似整数值。如果小数点后数值大于等于5,向上取整；小于5，则向下取整](https://www.nowcoder.com/practice/3ab09737afb645cc82c35d56a5ce802a?tpId=37&tags=&title=&diffculty=0&judgeStatus=0&rp=1)"
   ]
  },
  {
   "cell_type": "code",
   "execution_count": null,
   "metadata": {},
   "outputs": [],
   "source": [
    "while True:\n",
    "    try:\n",
    "        num = float(input())\n",
    "        if num*10 % 10 >= 5: print(int(num)+1)   # Notic:不能使用round(num),因为round(4.5)=4；也可使用math.modf(x)分离处小数判断\n",
    "        else: print(int(num))\n",
    "    except:\n",
    "        break"
   ]
  },
  {
   "cell_type": "markdown",
   "metadata": {},
   "source": [
    "[数据表记录包含表索引和数值（int范围的整数），请对表索引相同的记录进行合并，即将相同索引的数值进行求和运算，输出按照key值升序进行输出](https://www.nowcoder.com/practice/de044e89123f4a7482bd2b214a685201?tpId=37&&tqId=21231&rp=1&ru=/ta/huawei&qru=/ta/huawei/question-rankingy)"
   ]
  },
  {
   "cell_type": "code",
   "execution_count": null,
   "metadata": {},
   "outputs": [],
   "source": [
    "while True:\n",
    "    try:\n",
    "        num = int(input())\n",
    "        dd = dict()\n",
    "        for i in range(num):\n",
    "            key, value = map(int, input().split())\n",
    "            dd[key] = dd.get(key, 0) + value  # 不存在的key，則設置为0\n",
    "        for key, value in sorted(dd.items()):  # 注意要排序\n",
    "            print(key, value)\n",
    "    except:\n",
    "        break"
   ]
  },
  {
   "cell_type": "code",
   "execution_count": null,
   "metadata": {},
   "outputs": [],
   "source": [
    "from collections import defaultdict\n",
    "while True:\n",
    "    try:\n",
    " \n",
    "        a,dd=int(input()),defaultdict(int)  # 不存在的key，其值默认为0(调用int()产生默认值)\n",
    "        for i in range(a):\n",
    "            key,val=map(int,input().split())\n",
    "            dd[key]+=val\n",
    "        for i in sorted(dd.keys()):\n",
    "            print(str(i)+\" \"+str(dd[i]))\n",
    " \n",
    "    except:\n",
    "        break"
   ]
  },
  {
   "cell_type": "markdown",
   "metadata": {},
   "source": [
    "[输入一个int型整数，按照从右向左的阅读顺序，返回一个不含重复数字的新的整数](https://www.nowcoder.com/practice/253986e66d114d378ae8de2e6c4577c1?tpId=37&tags=&title=&diffculty=0&judgeStatus=0&rp=1)"
   ]
  },
  {
   "cell_type": "code",
   "execution_count": null,
   "metadata": {},
   "outputs": [],
   "source": [
    "while True:\n",
    "    try:\n",
    "        from collections import Counter\n",
    "        string = input()\n",
    "        print(''.join(Counter(list(string[-1::-1])).keys())) # Counter不会改变key的顺序b\n",
    "    except:\n",
    "        break"
   ]
  },
  {
   "cell_type": "code",
   "execution_count": null,
   "metadata": {},
   "outputs": [],
   "source": [
    "while True:\n",
    "    try:\n",
    "        string = input()\n",
    "        ll = ''\n",
    "        for s in string[-1::-1]:  # 倒转\n",
    "            if s not in ll:     #使用 not in去重\n",
    "                ll += s\n",
    "        print(ll)\n",
    "    except:\n",
    "        break"
   ]
  },
  {
   "cell_type": "markdown",
   "metadata": {},
   "source": [
    "[编写一个函数，计算字符串中含有的不同字符的个数。字符在ACSII码范围内(0~127)，换行表示结束符，不算在字符里。不在范围内的不作统计。多个相同的字符只计算一次\n",
    "例如，对于字符串abaca而言，有a、b、c三种不同的字符，因此输出3。](https://www.nowcoder.com/practice/eb94f6a5b2ba49c6ac72d40b5ce95f50?tpId=37&tags=&title=&diffculty=0&judgeStatus=0&rp=1)"
   ]
  },
  {
   "cell_type": "code",
   "execution_count": null,
   "metadata": {},
   "outputs": [],
   "source": [
    "while True:\n",
    "    try:\n",
    "        string = input()\n",
    "        num = 0\n",
    "        if '\\n' in string:  # 如果有'\\n'即切片缩小范围提高运行速度\n",
    "            string = string[:string.index('\\n')]\n",
    "        for c in set(string):\n",
    "            if 0 <= ord(c) <= 127:\n",
    "               num  += 1\n",
    "        print(num)\n",
    "    except:\n",
    "        break"
   ]
  },
  {
   "cell_type": "markdown",
   "metadata": {},
   "source": [
    "[输入一个整数，将这个整数以字符串的形式逆序输出\n",
    "程序不考虑负数的情况，若数字含有0，则逆序形式也含有0，如输入为100，则输出为001](https://www.nowcoder.com/practice/ae809795fca34687a48b172186e3dafe?tpId=37&tags=&title=&diffculty=0&judgeStatus=0&rp=1)"
   ]
  },
  {
   "cell_type": "code",
   "execution_count": null,
   "metadata": {},
   "outputs": [],
   "source": [
    "while True:\n",
    "    try:\n",
    "        print(input()[::-1])\n",
    "    except:\n",
    "        break"
   ]
  },
  {
   "cell_type": "markdown",
   "metadata": {},
   "source": [
    "[将一个英文语句以单词为单位逆序排放。例如“I am a boy”，逆序排放后为“boy a am I”\n",
    "所有单词之间用一个空格隔开，语句中除了英文字母外，不再包含其他字符](https://www.nowcoder.com/practice/48b3cb4e3c694d9da5526e6255bb73c3?tpId=37&tags=&title=&diffculty=0&judgeStatus=0&rp=1)"
   ]
  },
  {
   "cell_type": "code",
   "execution_count": null,
   "metadata": {},
   "outputs": [],
   "source": [
    "while True:\n",
    "    try:\n",
    "        print(' '.join(input().split()[::-1]))  # \n",
    "    except:\n",
    "        break"
   ]
  },
  {
   "cell_type": "markdown",
   "metadata": {},
   "source": [
    "给定n个字符串，请对n个[字符串按照字典序排列](https://www.nowcoder.com/practice/5af18ba2eb45443aa91a11e848aa6723?tpId=37&tags=&title=&diffculty=0&judgeStatus=0&rp=1)"
   ]
  },
  {
   "cell_type": "code",
   "execution_count": null,
   "metadata": {},
   "outputs": [],
   "source": [
    "while True:\n",
    "    try:\n",
    "        num = int(input())\n",
    "        ll = [input() for i in range(num)]\n",
    "        print('\\n'.join(sorted(ll)))\n",
    "    except:\n",
    "        break\n",
    "          "
   ]
  },
  {
   "cell_type": "markdown",
   "metadata": {},
   "source": [
    "[输入一个int型的正整数，计算出该int型数据在内存中存储时1的个数](https://www.nowcoder.com/practice/440f16e490a0404786865e99c6ad91c9?tpId=37&tags=&title=&diffculty=0&judgeStatus=0&rp=1)"
   ]
  },
  {
   "cell_type": "code",
   "execution_count": null,
   "metadata": {},
   "outputs": [],
   "source": [
    "import sys\n",
    "while True:\n",
    "    try:\n",
    "        num = int(input())\n",
    "        num = bin(num)\n",
    "        print(num.count('1')) # 使用count计算\n",
    "    except:\n",
    "        break"
   ]
  },
  {
   "cell_type": "code",
   "execution_count": null,
   "metadata": {},
   "outputs": [],
   "source": [
    "import sys\n",
    "while True:\n",
    "    try:\n",
    "        num = int(input())\n",
    "        count = 0\n",
    "        while num:   # 利用与计算，第一次0101;  第二次0100=0101&0100; 然后0 = 0100 & 0011退出结束\n",
    "            count += 1\n",
    "            num &= num - 1\n",
    "        print(count)\n",
    "    except:\n",
    "        break"
   ]
  },
  {
   "cell_type": "markdown",
   "metadata": {},
   "source": [
    "[四则运算,如3+2*{1+2*[-4/(8-6)+7]}](https://www.nowcoder.com/practice/9999764a61484d819056f807d2a91f1e?tpId=37&&tqId=21273&rp=1&ru=/ta/huawei&qru=/ta/huawei/question-ranking)"
   ]
  },
  {
   "cell_type": "code",
   "execution_count": null,
   "metadata": {},
   "outputs": [],
   "source": [
    "while True:\n",
    "    try:\n",
    "        pass\n",
    "        string = input()\n",
    "        string.replace('{', '(')\n",
    "        string.replace('}', ')')\n",
    "        string.replace('[', '(')\n",
    "        string.replace(']', ')')\n",
    "        print(eval(string))\n",
    "    except:\n",
    "        break"
   ]
  },
  {
   "cell_type": "markdown",
   "metadata": {},
   "source": [
    "[有一只兔子，从出生后第3个月起每个月都生一只兔子，小兔子长到第三个月后每个月又生一只兔子，假如兔子都不死，问每个月的兔子总数为多少？](https://www.nowcoder.com/practice/1221ec77125d4370833fd3ad5ba72395?tpId=37&&tqId=21260&rp=1&ru=/ta/huawei&qru=/ta/huawei/question-ranking)"
   ]
  },
  {
   "cell_type": "code",
   "execution_count": null,
   "metadata": {},
   "outputs": [],
   "source": [
    "while True:\n",
    "    try:\n",
    "        def fanqi(n, cache):\n",
    "            if n == 1 or n == 2:\n",
    "                return 1\n",
    "            else:\n",
    "                if cache == None:\n",
    "                    cache = []\n",
    "                if n in cache:\n",
    "                    return cache.get(n)     # 如果hashmap中已经存储月份n，则直接获取其value后返回\n",
    "                value = fanqi(n-1, cache) + fanqi(n-2, cache)\n",
    "                return value\n",
    "                cache.update(n=value)  # 存储尚未备份的月份及其兔子数\n",
    "        while True:\n",
    "            print(fanqi(int(input()), []))\n",
    "    except:\n",
    "        break"
   ]
  },
  {
   "cell_type": "markdown",
   "metadata": {},
   "source": [
    "[假设一个球从任意高度自由落下，每次落地后反跳回原高度的一半; 再落下, 求它在第5次落地时，共经历多少米?第5次反弹多高？\n",
    "最后的误差判断是小数点6位](https://www.nowcoder.com/practice/2f6f9339d151410583459847ecc98446?tpId=37&tags=&title=&diffculty=0&judgeStatus=0&rp=1)"
   ]
  },
  {
   "cell_type": "code",
   "execution_count": null,
   "metadata": {},
   "outputs": [],
   "source": [
    "while True:\n",
    "    try:\n",
    "        high = int(input())\n",
    "        sum = high \n",
    "        for i in range(4):  # 计算出第4次落地反弹的高度除以2就是低5次会反弹的高度，\n",
    "            high /= 2\n",
    "            sum += high*2   # 完全反弹便计入总路程\n",
    "        high /= 2\n",
    "        print(f'{int(sum*10**6)/10**6}')   # 乘以10^6次方保留有效小数位，再处于10^6恢复原值\n",
    "        print(f'{int(high*10**6)/10**6}')\n",
    "    except:\n",
    "        break"
   ]
  },
  {
   "cell_type": "markdown",
   "metadata": {},
   "source": [
    "[Lily上课时使用字母数字图片教小朋友们学习英语单词，每次都需要把这些图片按照大小（ASCII码值从小到大）排列收好](https://www.nowcoder.com/practice/2de4127fda5e46858aa85d254af43941?tpId=37&&tqId=21257&rp=1&ru=/ta/huawei&qru=/ta/huawei/question-ranking)"
   ]
  },
  {
   "cell_type": "code",
   "execution_count": null,
   "metadata": {},
   "outputs": [],
   "source": [
    "while True:\n",
    "    try:\n",
    "        print(''.join(sorted(input())))\n",
    "    except:\n",
    "        break"
   ]
  },
  {
   "cell_type": "markdown",
   "metadata": {},
   "source": [
    "[蛇形矩阵是由1开始的自然数依次排列成的一个矩阵上三角形。\n",
    "例如，当输入5时，应该输出的三角形为](https://www.nowcoder.com/practice/649b210ef44446e3b1cd1be6fa4cab5e?tpId=37&&tqId=21258&rp=1&ru=/ta/huawei&qru=/ta/huawei/question-ranking)"
   ]
  },
  {
   "cell_type": "code",
   "execution_count": null,
   "metadata": {},
   "outputs": [],
   "source": [
    "while True:\n",
    "    try:\n",
    "        num = int(input())\n",
    "        line = [(n**2+n)//2 for n in range(num, 0, -1)]\n",
    "        for i in range(num):\n",
    "            for j in range(len(line)-1, -1, -1):\n",
    "                print(line[j], end=' ')  # 注意每个数字之间由空格\n",
    "            print('\\r') # 输出一行后要换行\n",
    "            line = [n-1 for n in line]\n",
    "            line.pop()\n",
    "    except:\n",
    "        break"
   ]
  },
  {
   "cell_type": "markdown",
   "metadata": {},
   "source": [
    "[对称加密](https://www.nowcoder.com/practice/e4af1fe682b54459b2a211df91a91cf3?tpId=37&tags=&title=&diffculty=0&judgeStatus=0&rp=1)"
   ]
  },
  {
   "cell_type": "code",
   "execution_count": null,
   "metadata": {},
   "outputs": [],
   "source": [
    "while True:\n",
    "    try:\n",
    "        key = input().upper()\n",
    "        string = list(input())\n",
    "        alpha = 'A B C D E F G H I J K L M N O P Q R S T U V W X Y Z'.split()\n",
    "        strKey = ''\n",
    "        def dealStr(sourString, dictString):\n",
    "            for c in dictString:\n",
    "                if len(sourString) >= len(dictString): break\n",
    "                if c not in sourString:\n",
    "                    sourString += c\n",
    "            return sourString\n",
    "\n",
    "        strKey = ''\n",
    "        # 明文去重\n",
    "        strKey = dealStr(strKey, key) \n",
    "        # 明文补全\n",
    "        strKey = dealStr(strKey, alpha)\n",
    "        # 明文加密\n",
    "        for i in range(len(string)):\n",
    "            if string[i].isalpha():\n",
    "                indx = alpha.index(string[i].upper()) # 获取当前字母在alpha中为位置\n",
    "                # 根据indx获取在密钥中对应字母\n",
    "                char = strKey[indx].lower() if string[i].islower() else strKey[indx]\n",
    "                string[i] = char\n",
    "        print(''.join(string))\n",
    "    except:\n",
    "        break"
   ]
  },
  {
   "cell_type": "markdown",
   "metadata": {},
   "source": [
    "[用子网掩码来判断任意两台计算机的IP地址是否属于同一子网络](https://www.nowcoder.com/practice/34a597ee15eb4fa2b956f4c595f03218?tpId=37&tags=&title=&diffculty=0&judgeStatus=0&rp=1m)"
   ]
  },
  {
   "cell_type": "code",
   "execution_count": null,
   "metadata": {},
   "outputs": [],
   "source": [
    "while True:\n",
    "    try:\n",
    "        # 检查子网掩码或ip地址是否合法, 判断的同时顺便转换数字列表\n",
    "        def isValidIp(ipStr, ipNum):\n",
    "            # 字符检查,出现数字或'.'之外的非字符非法\n",
    "            for c in ipStr:\n",
    "                if not c.isdigit() and c != '.':\n",
    "                    return False\n",
    "            ipStr = ipStr.split('.')\n",
    "            # 网址段数超过4或出现空字符时非法('.'在在第一位时或连续多个'.')\n",
    "            if len(ipStr) != 4 or '' in ipStr:\n",
    "                return False\n",
    "            # 转换位数字的同时,判断超过255也非法\n",
    "            for numStr in ipStr:\n",
    "                num = int(numStr)\n",
    "                if num > 255: \n",
    "                    return False\n",
    "                ipNum.append(num)\n",
    "            return True\n",
    "\n",
    "        # 检查ip1 和ip2是否在同一网段\n",
    "        def check(mask, ip1, ip2):\n",
    "            for num in range(4):\n",
    "                if (ip1[num] & mask[num] != ip2[num] & mask[num]):\n",
    "                    return False # 不同网络\n",
    "            return True # 同一网络\n",
    "        \n",
    "        maskStr, ip1Str, ip2Str = input(), input(), input()\n",
    "        mask, ip1, ip2 = [], [], []\n",
    "        \n",
    "        if isValidIp(maskStr, mask) and isValidIp(ip1Str, ip1) \\\n",
    "           and isValidIp(ip2Str, ip2):\n",
    "            if check(mask, ip1, ip2):\n",
    "                print(0)  # ip1和ip2同一网络\n",
    "            else:\n",
    "                print(2) # ip1合ip2在不同网络\n",
    "        else:\n",
    "            print(1) # mask或ip1或ip2格式非法\n",
    "    except:\n",
    "        break"
   ]
  },
  {
   "cell_type": "markdown",
   "metadata": {},
   "source": [
    "[输入一行字符，分别统计出包含英文字母、空格、数字和其它字符的个数。](https://www.nowcoder.com/practice/539054b4c33b4776bc350155f7abd8f5?tpId=37&&tqId=21263&rp=1&ru=/ta/huawei&qru=/ta/huawei/question-ranking)"
   ]
  },
  {
   "cell_type": "code",
   "execution_count": null,
   "metadata": {},
   "outputs": [],
   "source": [
    "while True:\n",
    "    try:\n",
    "        while True:\n",
    "            string = input()\n",
    "            mem = [0 for _ in range(4)]  # 用列表存储计数\n",
    "            for char in string:\n",
    "                if char.isalpha():\n",
    "                    mem[0] += 1\n",
    "                elif char == ' ':\n",
    "                    mem[1] += 1\n",
    "                elif char.isdigit():\n",
    "                    mem[2] += 1\n",
    "                else:\n",
    "                    mem[3] += 1\n",
    "            for num in mem:\n",
    "                print(num, end='\\r')\n",
    "        pass\n",
    "    except:\n",
    "        break"
   ]
  },
  {
   "cell_type": "markdown",
   "metadata": {},
   "source": [
    "[现有一组砝码，重量互不相等，分别为m1,m2,m3…mn；\n",
    "每种砝码对应的数量为x1,x2,x3...xn。现在要用这些砝码去称物体的重量(放在同一侧)，问能称出多少种不同的重量。\n",
    "注：\n",
    "称重重量包括0](https://www.nowcoder.com/practice/f9a4c19050fc477e9e27eb75f3bfd49c?tpId=37&&tqId=21264&rp=1&ru=/ta/huawei&qru=/ta/huawei/question-ranking)"
   ]
  },
  {
   "cell_type": "code",
   "execution_count": null,
   "metadata": {},
   "outputs": [],
   "source": [
    "while True:\n",
    "    try:\n",
    "        pass\n",
    "    # 1 获取数据并将砝码以重量方式汇入砝码总表\n",
    "        num = input()\n",
    "        packages = zip(input().split(), input().split())\n",
    "        weights = [int(package[0]) for package in packages \\\n",
    "            for _ in range(int(package[1]))]\n",
    "            \n",
    "    # 2 初始可称重种类：{0}\n",
    "        weightType = {0}    \n",
    "    # 3 逐个获取砝码，并更新可称重种类集合\n",
    "        for weight in weights:\n",
    "            # 初始一个临时集合，存储添加砝码后的重量种类集合\n",
    "            weightTemp = set()\n",
    "            for i in weightType:\n",
    "                weightTemp.add(i+weight)\n",
    "            weightType = weightType.union(weightTemp) # 并集操作会创建一个新的集合\n",
    "    # 4 输出可称重量种类\n",
    "        print(len(weightType))\n",
    "    except:\n",
    "        break"
   ]
  },
  {
   "cell_type": "markdown",
   "metadata": {},
   "source": [
    "[将数字转换成英文,数字位正整数，不超过九位](https://www.nowcoder.com/practice/1364723563ab43c99f3d38b5abef83bc?tpId=37&tags=&title=&diffculty=0&judgeStatus=0&rp=1)"
   ]
  },
  {
   "cell_type": "code",
   "execution_count": null,
   "metadata": {},
   "outputs": [],
   "source": [
    "while True:\n",
    "    try:\n",
    "        # 1、创建个位和十几、几十对应的单词表，\n",
    "        # 建立billion、million、thouand、hundred\n",
    "        num1 = (\"zero\",\"one\",\"two\",\"three\",\"four\",\"five\",\"six\",\\\n",
    "                \"seven\",\"eight\",\"nine\",\"ten\",\"eleven\",\"twelve\",\\\n",
    "                \"thirteen\",\"fourteen\",\"fifteen\",\"sixteen\",\\\n",
    "                \"seventeen\",\"eighteen\",\"nineteen\")\n",
    "        num2 = (\"zero\",\"ten\",\"twenty\",\"thirty\",\"forty\",\"fifty\",\\\n",
    "                \"sixty\",\"seventy\",\"eighty\",\"ninety\")\n",
    "        num3 = (\"billion\",\"million\",\"thousand\",\"\")\n",
    "\n",
    "        # 2、判断字符是否全数字,是则转为千位分隔符方式，并分拆为列表\n",
    "        numStrs = f'{int(input()):,}'.split(',')\n",
    "        # 3、从最高位段读起，每个位段转换方式基本一样，除开后缀不同\n",
    "        segNum = len(numStrs)\n",
    "        # 修改num3表，只要有用的单位\n",
    "        num3 = num3[len(num3)-segNum:]\n",
    "        string = ''\n",
    "        # 每个位段的读取,\n",
    "        for i in range(segNum):\n",
    "            num = int(numStrs[i])\n",
    "            # 除以100，求商和余数\n",
    "            quotient = num // 10**2\n",
    "            remainder = num % 10**2\n",
    "            # 商不为零，则商读\n",
    "            if quotient:\n",
    "                string += num1[quotient] + ' ' + 'hundred' + ' ' + 'and' +' '\n",
    "            # 余数 >=20，则继续除以10，求商和余数，商读，余数不为0也读\n",
    "            if remainder >= 20:\n",
    "                quotient = remainder // 10\n",
    "                remainder %= 10\n",
    "                string += num2[quotient] + ' '\n",
    "                if remainder:\n",
    "                    string += num1[remainder] + ' '\n",
    "            # 余数 <20 ，则余数直接读\n",
    "            else:\n",
    "                string += num1[remainder] +  ' '\n",
    "            string += num3[i] + ' '\n",
    "        print(string)\n",
    "    except:\n",
    "        break"
   ]
  }
 ],
 "metadata": {
  "kernelspec": {
   "display_name": "Python 3",
   "language": "python",
   "name": "python3"
  },
  "language_info": {
   "codemirror_mode": {
    "name": "ipython",
    "version": 3
   },
   "file_extension": ".py",
   "mimetype": "text/x-python",
   "name": "python",
   "nbconvert_exporter": "python",
   "pygments_lexer": "ipython3",
   "version": "3.7.6"
  }
 },
 "nbformat": 4,
 "nbformat_minor": 4
}
