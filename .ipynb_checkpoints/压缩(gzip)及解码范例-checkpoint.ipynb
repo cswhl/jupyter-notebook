{
 "cells": [
  {
   "cell_type": "code",
   "execution_count": 1,
   "metadata": {},
   "outputs": [
    {
     "name": "stdout",
     "output_type": "stream",
     "text": [
      "b'\\x1f\\x8b\\x08\\x00\\r\\x0f\\xc2_\\x02\\xff\\xf3\\xc9/)V\\xc8OSH\\xce\\xcf+I\\xcd+Q\\xc8H-J\\x05\\x00~u \\x8e\\x14\\x00\\x00\\x00'\n",
      "b'Lots of content here'\n"
     ]
    }
   ],
   "source": [
    "'''使用 GZIP 压缩及解压字节串示例'''\n",
    "import gzip\n",
    "s_in = b\"Lots of content here\"\n",
    "s_out = gzip.compress(s_in) # 将字节串压缩为gzip形式\n",
    "print(s_out)\n",
    "sIn = gzip.decompress(s_out) # 解压缩为字节串\n",
    "print(sIn)"
   ]
  },
  {
   "cell_type": "code",
   "execution_count": 2,
   "metadata": {},
   "outputs": [],
   "source": [
    "'''创建GZIP 文件示例'''\n",
    "import gzip\n",
    "content = b\"Lots of content here\"\n",
    "with gzip.open('G:/jupyter_notebook/testFile/file.txt.gz', 'wb') as f:\n",
    "    f.write(content)"
   ]
  },
  {
   "cell_type": "code",
   "execution_count": 4,
   "metadata": {},
   "outputs": [
    {
     "name": "stdout",
     "output_type": "stream",
     "text": [
      "b'Lots of content here'\n"
     ]
    }
   ],
   "source": [
    "'''读取压缩文件示例'''\n",
    "import gzip\n",
    "with gzip.open('G:/jupyter_notebook/testFile/file.txt.gz', 'rb') as f:\n",
    "    file_content = f.read()\n",
    "    print(file_content)"
   ]
  },
  {
   "cell_type": "code",
   "execution_count": null,
   "metadata": {},
   "outputs": [],
   "source": [
    "'''使用 GZIP 压缩已有的文件示例'''\n",
    "import gzip\n",
    "import shutil\n",
    "with open('/home/joe/file.txt', 'rb') as f_in:\n",
    "    with gzip.open('/home/joe/file.txt.gz', 'wb') as f_out:\n",
    "        shutil.copyfileobj(f_in, f_out)"
   ]
  }
 ],
 "metadata": {
  "kernelspec": {
   "display_name": "Python 3",
   "language": "python",
   "name": "python3"
  },
  "language_info": {
   "codemirror_mode": {
    "name": "ipython",
    "version": 3
   },
   "file_extension": ".py",
   "mimetype": "text/x-python",
   "name": "python",
   "nbconvert_exporter": "python",
   "pygments_lexer": "ipython3",
   "version": "3.7.6"
  }
 },
 "nbformat": 4,
 "nbformat_minor": 4
}
