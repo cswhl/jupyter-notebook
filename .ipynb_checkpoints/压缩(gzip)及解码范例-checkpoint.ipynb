{
 "cells": [
  {
   "cell_type": "markdown",
   "metadata": {},
   "source": [
    "[1. gzip --- 对 gzip 格式的支持](https://docs.python.org/zh-cn/3/library/gzip.html)"
   ]
  },
  {
   "cell_type": "code",
   "execution_count": 1,
   "metadata": {},
   "outputs": [
    {
     "name": "stdout",
     "output_type": "stream",
     "text": [
      "b'\\x1f\\x8b\\x08\\x00\\r\\x0f\\xc2_\\x02\\xff\\xf3\\xc9/)V\\xc8OSH\\xce\\xcf+I\\xcd+Q\\xc8H-J\\x05\\x00~u \\x8e\\x14\\x00\\x00\\x00'\n",
      "b'Lots of content here'\n"
     ]
    }
   ],
   "source": [
    "'''使用 GZIP 压缩及解压字节串示例'''\n",
    "import gzip\n",
    "s_in = b\"Lots of content here\"\n",
    "s_out = gzip.compress(s_in) # 将字节串压缩为gzip形式\n",
    "print(s_out)\n",
    "sIn = gzip.decompress(s_out) # 解压缩为字节串\n",
    "print(sIn)"
   ]
  },
  {
   "cell_type": "code",
   "execution_count": 2,
   "metadata": {},
   "outputs": [],
   "source": [
    "'''创建GZIP 文件示例'''\n",
    "import gzip\n",
    "content = b\"Lots of content here\"\n",
    "with gzip.open('G:/jupyter_notebook/testFile/file.txt.gz', 'wb') as f:\n",
    "    f.write(content)"
   ]
  },
  {
   "cell_type": "code",
   "execution_count": 4,
   "metadata": {},
   "outputs": [
    {
     "name": "stdout",
     "output_type": "stream",
     "text": [
      "b'Lots of content here'\n"
     ]
    }
   ],
   "source": [
    "'''读取压缩文件示例'''\n",
    "import gzip\n",
    "with gzip.open('G:/jupyter_notebook/testFile/file.txt.gz', 'rb') as f:\n",
    "    file_content = f.read()\n",
    "    print(file_content)"
   ]
  },
  {
   "cell_type": "code",
   "execution_count": null,
   "metadata": {},
   "outputs": [],
   "source": [
    "'''使用 GZIP 压缩已有的文件示例'''\n",
    "import gzip\n",
    "import shutil\n",
    "with open('G:/jupyter_notebook/testFile/file.txt', 'rb') as f_in:\n",
    "    with gzip.open('G:/jupyter_notebook/testFile/file.txt.gz', 'wb') as f_out:\n",
    "        shutil.copyfileobj(f_in, f_out)"
   ]
  },
  {
   "cell_type": "code",
   "execution_count": 7,
   "metadata": {},
   "outputs": [
    {
     "name": "stdout",
     "output_type": "stream",
     "text": [
      "<_io.BytesIO object at 0x00000203BB6A4BE8>\n",
      "<gzip _io.BytesIO object at 0x00000203BB6A4BE8 0x203bb6500c8>\n"
     ]
    },
    {
     "data": {
      "text/plain": [
       "b'Lots of content here'"
      ]
     },
     "execution_count": 7,
     "metadata": {},
     "output_type": "execute_result"
    }
   ],
   "source": [
    "# 使用构造函数gzip.GzipFile产生一个GzipFile类，该类的方法类似于file object的大部分方法 \n",
    "from io import BytesIO\n",
    "content = b'\\x1f\\x8b\\x08\\x00\\r\\x0f\\xc2_\\x02\\xff\\xf3\\xc9/)V\\xc8OSH\\xce\\xcf+I\\xcd+Q\\xc8H-J\\x05\\x00~u \\x8e\\x14\\x00\\x00\\x00'\n",
    "compressedstream = BytesIO(content)\n",
    "print(compressedstream)\n",
    "# 使用文件对象fileobj构造GzipFile类；也可以使用文件名构造该类\n",
    "gzipper = gzip.GzipFile(fileobj=compressedstream) \n",
    "print(gzipper)\n",
    "content=gzipper.read()\n",
    "content"
   ]
  },
  {
   "cell_type": "markdown",
   "metadata": {},
   "source": [
    "[2.chunk --- 读取 IFF 分块数据](https://docs.python.org/zh-cn/3/library/chunk.html)"
   ]
  },
  {
   "cell_type": "code",
   "execution_count": null,
   "metadata": {},
   "outputs": [],
   "source": [
    "def decode_chunked(content):\n",
    "    # 自定义chunked解码\n",
    "    newContent = b''\n",
    "    offset = 0\n",
    "    while True:\n",
    "        pos = content.find(b'\\r\\n', offset)  # 找chunked块的前一个\\r\\n\n",
    "        chunk_size = int(content[offset: pos], 16)\n",
    "        if chunk_size > 0:\n",
    "            offset = pos + 2\n",
    "            newContent += content[offset: offset+chunk_size]\n",
    "            pos = content.find(b'\\r\\n', offset+chunk_size)   # 找chunked块的后一个\\r\\n\n",
    "            offset = pos + 2\n",
    "        else: break\n",
    "    return newContent\n",
    "        \n",
    "chunks = b'''\n",
    "4\\r\\nWiki \\r\\n\n",
    "\n",
    "6\\r\\npedia \\r\\n\n",
    "\n",
    "E\\r\\nin \\r\\n\\r\\nchunks.\\r\\n\n",
    "\n",
    "0\\r\\n\n",
    "\\r\\n'''\n",
    "\n",
    "print(decode_chunked(chunks).decode('utf-8'))"
   ]
  },
  {
   "cell_type": "markdown",
   "metadata": {},
   "source": [
    "3.[base64 — Base16, Base32, Base64, Base85 Data Encodings](https://docs.python.org/3/library/base64.html)"
   ]
  },
  {
   "cell_type": "code",
   "execution_count": 23,
   "metadata": {
    "collapsed": true
   },
   "outputs": [
    {
     "name": "stdout",
     "output_type": "stream",
     "text": [
      "b'ZGF0YSB0byBiZSBlbmNvZGVk'\n",
      "b'data to be encoded'\n",
      "b'NA0KIApXaWtpDQogCgo2DQogCnBlZGlhIA0KIAoKRQ0KIAppbiANCgoNCgpjaHVua3MuDQogCgowDQogCg0K'\n",
      "4\r\n",
      " \n",
      "Wiki\r\n",
      " \n",
      "\n",
      "6\r\n",
      " \n",
      "pedia \r\n",
      " \n",
      "\n",
      "E\r\n",
      " \n",
      "in \r\n",
      "\n",
      "\r\n",
      "\n",
      "chunks.\r\n",
      " \n",
      "\n",
      "0\r\n",
      " \n",
      "\r\n",
      "\n"
     ]
    }
   ],
   "source": [
    "import base64\n",
    "# 用Base64 将字节串编码，并返回新的字节串\n",
    "encoded = base64.b64encode(b'data to be encoded')\n",
    "print(encoded)\n",
    "# 用Base64重新将字节串解码，返回原字节串\n",
    "data = base64.b64decode(encoded)\n",
    "print(data)\n",
    "\n",
    "string = '''4\\r\\n \n",
    "Wiki\\r\\n \n",
    "\n",
    "6\\r\\n \n",
    "pedia \\r\\n \n",
    "\n",
    "E\\r\\n \n",
    "in \\r\\n\n",
    "\\r\\n\n",
    "chunks.\\r\\n \n",
    "\n",
    "0\\r\\n \n",
    "\\r\\n'''\n",
    "encoded = base64.b64encode(string.encode('utf-8'))\n",
    "print(encoded)\n",
    "# 用Base64重新将字节串解码，返回原字节串\n",
    "data = base64.b64decode(encoded)\n",
    "print(data.decode('utf-8'))"
   ]
  }
 ],
 "metadata": {
  "kernelspec": {
   "display_name": "Python 3",
   "language": "python",
   "name": "python3"
  },
  "language_info": {
   "codemirror_mode": {
    "name": "ipython",
    "version": 3
   },
   "file_extension": ".py",
   "mimetype": "text/x-python",
   "name": "python",
   "nbconvert_exporter": "python",
   "pygments_lexer": "ipython3",
   "version": "3.7.6"
  }
 },
 "nbformat": 4,
 "nbformat_minor": 4
}
