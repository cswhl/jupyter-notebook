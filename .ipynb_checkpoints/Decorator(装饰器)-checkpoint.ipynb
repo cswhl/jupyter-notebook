{
 "cells": [
  {
   "cell_type": "code",
   "execution_count": 25,
   "metadata": {},
   "outputs": [
    {
     "name": "stdout",
     "output_type": "stream",
     "text": [
      "countdown 0.0468747615814209\n",
      "countdown\n",
      "Counts down\n",
      "{'n': <class 'int'>, 'return': None}\n",
      "<function countdown at 0x000001DF551FA3A8>\n"
     ]
    }
   ],
   "source": [
    "import time\n",
    "from functools import wraps\n",
    "def timethis(func):\n",
    "    @wraps(func)  # @wraps会复制被装饰器函数元信息给装饰器\n",
    "    def wrapper(*args, **kwargs):\n",
    "        start = time.time()\n",
    "        result = func(*args, **kwargs)\n",
    "        end = time.time()\n",
    "        print(func.__name__, end-start)\n",
    "        return result\n",
    "    return wrapper\n",
    "\n",
    "@timethis\n",
    "def countdown(n: int) -> None:\n",
    "    '''Counts down'''\n",
    "    while n > 0:\n",
    "        n -= 1\n",
    "        \n",
    "countdown(10**6)\n",
    "print(countdown.__name__)\n",
    "print(countdown.__doc__)\n",
    "print(countdown.__annotations__)\n",
    "print(countdown.__wrapped__) # @wraps能让你通过属性__wrapped__直接访问被装饰函数\n",
    "from inspect import signature\n",
    "print(signature(countdown)) # __wrapped__能让被装饰函数正确暴露底层的参数签名信息"
   ]
  },
  {
   "cell_type": "code",
   "execution_count": 24,
   "metadata": {},
   "outputs": [
    {
     "name": "stdout",
     "output_type": "stream",
     "text": [
      "countdown 0.045876502990722656\n",
      "wrapper\n",
      "None\n",
      "{}\n"
     ]
    }
   ],
   "source": [
    "import time\n",
    "from functools import wraps\n",
    "def timethis(func):\n",
    "    '''\n",
    "    Decorator that reports the execution time.\n",
    "    '''\n",
    "    def wrapper(*args, **kwargs):\n",
    "        start = time.time()\n",
    "        result = func(*args, **kwargs)\n",
    "        end = time.time()\n",
    "        print(func.__name__, end-start)\n",
    "        return result\n",
    "    return wrapper\n",
    "\n",
    "@timethis\n",
    "def countdown(n: int) -> None:\n",
    "    '''Counts down'''\n",
    "    while n > 0:\n",
    "        n -= 1\n",
    "        \n",
    "countdown(10**6)\n",
    "# 没有使用@wraps则被装饰器函数countdown丢失所有元信息\n",
    "print(countdown.__name__)\n",
    "print(countdown.__doc__)\n",
    "print(countdown.__annotations__)"
   ]
  },
  {
   "cell_type": "code",
   "execution_count": 35,
   "metadata": {},
   "outputs": [
    {
     "name": "stdout",
     "output_type": "stream",
     "text": [
      "(x, y, z=42)\n",
      "OrderedDict([('x', <class 'int'>), ('z', <class 'int'>)])\n",
      "1 2 3\n"
     ]
    }
   ],
   "source": [
    "from inspect import signature\n",
    "from functools import wraps\n",
    "\n",
    "# 利用装饰器强制函数上的类型检查\n",
    "def typeassert(*ty_args, **ty_kwargs):\n",
    "    def decorate(func):\n",
    "        # If in optimized mode, disable type checking\n",
    "        if not __debug__:\n",
    "            return func\n",
    "\n",
    "        # Map function argument names to supplied types\n",
    "        sig = signature(func)\n",
    "#         print(sig)\n",
    "        bound_types = sig.bind_partial(*ty_args, **ty_kwargs).arguments\n",
    "#         print(bound_types)\n",
    "\n",
    "        @wraps(func)\n",
    "        def wrapper(*args, **kwargs):\n",
    "            bound_values = sig.bind(*args, **kwargs)\n",
    "            # Enforce type assertions across supplied arguments\n",
    "            for name, value in bound_values.arguments.items():\n",
    "                if name in bound_types:\n",
    "                    if not isinstance(value, bound_types[name]):\n",
    "                        raise TypeError(\n",
    "                            'Argument {} must be {}'.format(name, bound_types[name])\n",
    "                            )\n",
    "            return func(*args, **kwargs)\n",
    "        return wrapper\n",
    "    return decorate\n",
    "\n",
    "@typeassert(int, z=int)\n",
    "def spam(x, y, z=42):\n",
    "    print(x, y, z)\n",
    "\n",
    "spam(1, 2, 3)"
   ]
  },
  {
   "cell_type": "code",
   "execution_count": 45,
   "metadata": {},
   "outputs": [],
   "source": [
    "class C:\n",
    "    def __init__(self):\n",
    "          self.__x=None\n",
    "    def getx(self):\n",
    "          return self.__x\n",
    "    def setx(self,value):\n",
    "          self.__x=value\n",
    "    def delx(self):\n",
    "          del self.__x\n",
    "    x=property(getx,setx,delx,'')\n",
    "c = C()\n",
    "c.x = 2\n",
    "c.x\n",
    "del c.x"
   ]
  },
  {
   "cell_type": "code",
   "execution_count": 53,
   "metadata": {},
   "outputs": [
    {
     "name": "stdout",
     "output_type": "stream",
     "text": [
      "3\n"
     ]
    }
   ],
   "source": [
    "class C(object):\n",
    "    def __init__(self):\n",
    "        self._x = None\n",
    "\n",
    "    @property    \n",
    "    def x(self):\n",
    "        return self._x\n",
    "    \n",
    "    @x.setter\n",
    "    def x(self, value):\n",
    "        self._x = value\n",
    "\n",
    "    @x.deleter\n",
    "    def x(self):\n",
    "        del self._x\n",
    "\n",
    "c = C()\n",
    "c.x = 3\n",
    "print(c.x)"
   ]
  },
  {
   "cell_type": "code",
   "execution_count": 459,
   "metadata": {},
   "outputs": [
    {
     "name": "stdout",
     "output_type": "stream",
     "text": [
      "<property object at 0x000001DF56F840E8>\n"
     ]
    }
   ],
   "source": [
    "class C(object):\n",
    "    def __init__(self):\n",
    "        self._x = None\n",
    "\n",
    "    x = property()\n",
    "\n",
    "    @x.getter\n",
    "    def x(self):\n",
    "        return self._x\n",
    "\n",
    "    @x.setter\n",
    "    def x(self, value):\n",
    "        self._x = value\n",
    "\n",
    "    @x.deleter\n",
    "    def x(self):\n",
    "        del self._x\n",
    "\n",
    "c = C()\n",
    "print(C.x)"
   ]
  },
  {
   "cell_type": "code",
   "execution_count": 50,
   "metadata": {},
   "outputs": [
    {
     "name": "stdout",
     "output_type": "stream",
     "text": [
      "<__main__.logit object at 0x000001DF55E68DC8>\n"
     ]
    },
    {
     "data": {
      "text/plain": [
       "<function __main__.test()>"
      ]
     },
     "execution_count": 50,
     "metadata": {},
     "output_type": "execute_result"
    }
   ],
   "source": [
    "from functools import wraps\n",
    " \n",
    "class logit(object):\n",
    "    def __init__(self, logfile='out.log'):\n",
    "        self.logfile = logfile\n",
    " \n",
    "    def __call__(self, func):\n",
    "        @wraps(func)\n",
    "        def wrapped_function(*args, **kwargs):\n",
    "            log_string = func.__name__ + \" was called\"\n",
    "            print(log_string)\n",
    "            # 打开logfile并写入\n",
    "            with open(self.logfile, 'a') as opened_file:\n",
    "                # 现在将日志打到指定的文件\n",
    "                opened_file.write(log_string + '\\n')\n",
    "            # 现在，发送一个通知\n",
    "            self.notify()\n",
    "            return func(*args, **kwargs)\n",
    "        return wrapped_function\n",
    " \n",
    "    def notify(self):\n",
    "        # logit只打日志，不做别的\n",
    "        pass\n",
    "\n",
    "kk = logit() \n",
    "print(kk)\n",
    "def test():\n",
    "    pass\n",
    "cc = kk(test)\n",
    "cc"
   ]
  },
  {
   "cell_type": "code",
   "execution_count": 96,
   "metadata": {
    "scrolled": true
   },
   "outputs": [
    {
     "name": "stdout",
     "output_type": "stream",
     "text": [
      "Decorator 2\n",
      "5\n",
      "2\n"
     ]
    }
   ],
   "source": [
    "from functools import wraps\n",
    "\n",
    "class A:\n",
    "    # Decorator as an instance method\n",
    "    def decorator1(self, func):\n",
    "        @wraps(func)\n",
    "        def wrapper(*args, **kwargs):\n",
    "            print('Decorator 1')\n",
    "            return func(*args, **kwargs)\n",
    "        return wrapper\n",
    "\n",
    "    # Decorator as a class method\n",
    "    @classmethod\n",
    "    def decorator2(cls, func):\n",
    "        @wraps(func)\n",
    "        def wrapper(*args, **kwargs):\n",
    "            print('Decorator 2')\n",
    "            print(args[0].a)\n",
    "            return func(*args, **kwargs)\n",
    "        return wrapper\n",
    "\n",
    "class B(A):\n",
    "    a = 5\n",
    "    @A.decorator2\n",
    "    def bar(self):\n",
    "        return 2\n",
    "b = B()\n",
    "print(b.bar())"
   ]
  },
  {
   "cell_type": "code",
   "execution_count": 116,
   "metadata": {},
   "outputs": [
    {
     "name": "stdout",
     "output_type": "stream",
     "text": [
      "OrderedDict([('x', <Parameter \"x\">), ('y', <Parameter \"y\">)])\n",
      "[<Parameter \"x\">, <Parameter \"y\">]\n",
      "[<Parameter \"x\">, <Parameter \"y\">, <Parameter \"debug=False\">]\n",
      "(x, y, *, debug=False)\n"
     ]
    }
   ],
   "source": [
    "from functools import wraps\n",
    "import inspect\n",
    "\n",
    "def optional_debug(func):\n",
    "    if 'debug' in inspect.signature(func).parameters:\n",
    "        raise TypeError('debug argument already defined')\n",
    "\n",
    "    @wraps(func)\n",
    "    def wrapper(*args, debug=False, **kwargs):\n",
    "        if debug:\n",
    "            print('Calling', func.__name__)\n",
    "        return func(*args, **kwargs)\n",
    "\n",
    "    sig = inspect.signature(func)\n",
    "    print(sig.parameters)\n",
    "    parms = list(sig.parameters.values())\n",
    "    print(parms)\n",
    "    parms.append(inspect.Parameter('debug',\n",
    "                inspect.Parameter.KEYWORD_ONLY,\n",
    "                default=False))\n",
    "    print(parms)\n",
    "    wrapper.__signature__ = sig.replace(parameters=parms)\n",
    "    return wrapper\n",
    "\n",
    "@optional_debug\n",
    "def add(x, y):\n",
    "    return x+y\n",
    "\n",
    "print(inspect.signature(add))\n"
   ]
  },
  {
   "cell_type": "code",
   "execution_count": 119,
   "metadata": {},
   "outputs": [
    {
     "name": "stdout",
     "output_type": "stream",
     "text": [
      "getting: x\n",
      "2\n",
      "getting: spam\n",
      "None\n"
     ]
    }
   ],
   "source": [
    "def log_getattribute(cls):\n",
    "    # Get the original implementation\n",
    "    orig_getattribute = cls.__getattribute__\n",
    "\n",
    "    # Make a new definition\n",
    "    def new_getattribute(self, name):\n",
    "        print('getting:', name)\n",
    "        return orig_getattribute(self, name)\n",
    "\n",
    "    # Attach to the class and return\n",
    "    cls.__getattribute__ = new_getattribute\n",
    "    return cls\n",
    "\n",
    "# Example use\n",
    "@log_getattribute\n",
    "class A:\n",
    "    def __init__(self,x):\n",
    "        self.x = x\n",
    "    def spam(self):\n",
    "        pass\n",
    "\n",
    "a = A(2)\n",
    "print(a.x)\n",
    "print(a.spam())"
   ]
  },
  {
   "cell_type": "code",
   "execution_count": 125,
   "metadata": {},
   "outputs": [],
   "source": [
    "# 创建不能实例化对象的类\n",
    "class NoInstances(type):\n",
    "    pass\n",
    "    def __call__(self, *args, **kwargs):\n",
    "        raise TypeError(\"Can't instantiate directly\")\n",
    "\n",
    "# Example\n",
    "class Spam(metaclass=NoInstances):\n",
    "    @staticmethod\n",
    "    def grok(x):\n",
    "        print('Spam.grok')"
   ]
  },
  {
   "cell_type": "code",
   "execution_count": 409,
   "metadata": {},
   "outputs": [
    {
     "name": "stdout",
     "output_type": "stream",
     "text": [
      "Creating Spam\n"
     ]
    },
    {
     "data": {
      "text/plain": [
       "True"
      ]
     },
     "execution_count": 409,
     "metadata": {},
     "output_type": "execute_result"
    }
   ],
   "source": [
    "# 创建单例\n",
    "class Singleton(type):\n",
    "    def __init__(self, *args, **kwargs): # 被父元类的__call__方法调用，初始化创建的类对象Spam\n",
    "        self.__instance = None # 类对象的属性__instance设置为None\n",
    "        super().__init__(*args, **kwargs)\n",
    "\n",
    "    def __call__(cls, *args, **kwargs): # cls是类Spam,创建实例对象是，该方法吧隐式被类Spam调用，创建Spam的实例对象\n",
    "        if cls.__instance is None:\n",
    "            cls.__instance = super().__call__(*args, **kwargs) # 调用类的超类的__call__方法，返回类的实例对象\n",
    "            return cls.__instance\n",
    "        else:\n",
    "            return cls.__instance\n",
    "\n",
    "# Example\n",
    "class Spam(metaclass=Singleton):\n",
    "    def __init__(self):\n",
    "        print('Creating Spam')\n",
    "\n",
    "cc = Spam()\n",
    "cc2 = Spam()\n",
    "cc == cc2"
   ]
  },
  {
   "cell_type": "code",
   "execution_count": 168,
   "metadata": {},
   "outputs": [
    {
     "data": {
      "text/plain": [
       "True"
      ]
     },
     "execution_count": 168,
     "metadata": {},
     "output_type": "execute_result"
    }
   ],
   "source": [
    "import weakref\n",
    "\n",
    "class Cache(object):\n",
    "    def __init__(self):\n",
    "        super().__init__(*args, **kwargs)\n",
    "        self.__cache = weakref.WeakValueDictionary() # 创建一个弱引用值的映射:值删除后,弱引用隐射对应的元素项也会被垃圾回收删除\n",
    "    \n",
    "    def __call__(self, *args):\n",
    "        if args in self.__cache:\n",
    "            return sefl.__cache[args]\n",
    "        else:\n",
    "            obj = super.__call__(*args)\n",
    "            self.__cache[args] = obj\n",
    "            return obj\n",
    "a = Spam('GG')\n",
    "b = Spam('GG')\n",
    "a == b # 显示为True"
   ]
  },
  {
   "cell_type": "code",
   "execution_count": 209,
   "metadata": {},
   "outputs": [
    {
     "data": {
      "text/plain": [
       "'good,100,490.1'"
      ]
     },
     "execution_count": 209,
     "metadata": {},
     "output_type": "execute_result"
    }
   ],
   "source": [
    "from collections import OrderedDict\n",
    "\n",
    "\n",
    "# A set of descriptors for various types\n",
    "class Typed:\n",
    "    '''数据描述器'''\n",
    "    _expected_type = type(None)\n",
    "    def __init__(self, name=None):\n",
    "        self._name = name\n",
    "\n",
    "    def __set__(self, instance, value): # 访问描述器对象设置属性时，隐式调用该方法_\n",
    "        if not isinstance(value, self._expected_type):\n",
    "            raise TypeError('Expected ' + str(self._expected_type))\n",
    "        instance.__dict__[self._name] = value # 设置实例的__dict__命名空间\n",
    "\n",
    "class Integer(Typed):\n",
    "    _expected_type = int\n",
    "\n",
    "class Float(Typed):\n",
    "    _expected_type = float\n",
    "\n",
    "class String(Typed):\n",
    "    _expected_type = str\n",
    "\n",
    "# Metaclass that uses an OrderedDict for class body\n",
    "class OrderedMeta(type):\n",
    "    ''' 捕获类的定义信息'''\n",
    "    def __new__(cls, clsname, bases, clsdict):\n",
    "        d = dict(clsdict) # clsdict即空间钩子__prepare__返回的OrderedDict()，也是类的namespace\n",
    "        order = []\n",
    "        for name, value in clsdict.items(): # 找出类属性中所有Typed的实例组成dict，放入类的'_order’属性中\n",
    "            if isinstance(value, Typed):\n",
    "                value._name = name # 修改类型对象的_name属性值为属性名，实例属性名和类属性名相同时，只会访问实例属性，类的属性会被隐藏\n",
    "                order.append(name)\n",
    "        d['_order'] = order\n",
    "        return type.__new__(cls, clsname, bases, d)\n",
    "\n",
    "    @classmethod\n",
    "    def __prepare__(cls, clsname, bases): # 创建namespace:类属性字典clsdict，返回类型为OrderdDict\n",
    "        return OrderedDict()\n",
    "\n",
    "class Structure(metaclass=OrderedMeta):\n",
    "    def as_csv(self):\n",
    "        return ','.join(str(getattr(self,name)) for name in self._order)\n",
    "\n",
    "# Example use\n",
    "class Stock(Structure):\n",
    "    name = String() # 创建规定的类对象，实例化时必须按按照类型顺序传入构造函数__init__\n",
    "    shares = Integer()\n",
    "    price = Float()\n",
    "\n",
    "    def __init__(self, name, shares, price): # 要求传入数据的类型顺序为String、Interger、Float，否者属性访问时就会抛出错误\n",
    "        self.name = name\n",
    "        self.shares = shares\n",
    "        self.price = price\n",
    "s = Stock('good', 100, 490.1)\n",
    "s.as_csv()"
   ]
  },
  {
   "cell_type": "code",
   "execution_count": 222,
   "metadata": {
    "scrolled": true
   },
   "outputs": [
    {
     "name": "stdout",
     "output_type": "stream",
     "text": [
      "NoDupOrderedDict([('__module__', '__main__'), ('__qualname__', 'A'), ('test', <function A.test at 0x000001DF55727168>), ('test2', <function A.test2 at 0x000001DF55727798>)])\n"
     ]
    }
   ],
   "source": [
    "from collections import OrderedDict\n",
    "\n",
    "class NoDupOrderedDict(OrderedDict):\n",
    "    '''自己构造的类字典对象，重复定义则抛出异常'''\n",
    "    def __init__(self, clsname):\n",
    "        self.clsname = clsname\n",
    "        super().__init__()\n",
    "        \n",
    "    def __setitem__(self, name, value): # 隐式设置dict时(即将要创建的类的类属性放入该dict种)，name()已key经定义则抛出异常\n",
    "        if name in self:  \n",
    "            raise TypeError(f'{name} already defined in {self.clsname}')\n",
    "        super().__setitem__(name, value)\n",
    "\n",
    "class OrderedMeta(type):\n",
    "    def __new__(cls, clsname, bases, clsdict):\n",
    "        d = dict(clsdict)\n",
    "        print(clsdict)\n",
    "        d['_order'] = [name for name in clsdict if name[0] != '_'] # 取出非'_'开头的key组成一个字典元素\n",
    "        return type.__new__(cls, clsname, bases, d)\n",
    "    \n",
    "    @classmethod\n",
    "    def __prepare__(cls, clsname, bases): # 在__new__方法之前执行，创建namespace，就是字典类对象\n",
    "        return NoDupOrderedDict(clsname)\n",
    "\n",
    "class A(metaclass=OrderedMeta):\n",
    "    def test(self):\n",
    "        pass\n",
    "    def test2(self):\n",
    "        pass"
   ]
  },
  {
   "cell_type": "code",
   "execution_count": 286,
   "metadata": {},
   "outputs": [
    {
     "data": {
      "text/plain": [
       "<Signature (x, y=42, *, z=None)>"
      ]
     },
     "execution_count": 286,
     "metadata": {},
     "output_type": "execute_result"
    }
   ],
   "source": [
    "from inspect import signature, Signature, Parameter\n",
    "\n",
    "def func(x, y=42, *, z=None):\n",
    "    pass\n",
    "\n",
    "signature(func) # 创建函数签名:<Signature (x, y=42, *, z=None)>"
   ]
  },
  {
   "cell_type": "code",
   "execution_count": 307,
   "metadata": {
    "scrolled": true
   },
   "outputs": [
    {
     "name": "stdout",
     "output_type": "stream",
     "text": [
      "x 1\n",
      "y 2\n",
      "z 3\n"
     ]
    }
   ],
   "source": [
    "from inspect import Signature, Parameter\n",
    "\n",
    "parms = [ Parameter('x', Parameter.POSITIONAL_OR_KEYWORD),\n",
    "         Parameter('y', Parameter.POSITIONAL_OR_KEYWORD, default=42),\n",
    "         Parameter('z', Parameter.KEYWORD_ONLY, default=None) ]\n",
    "\n",
    "sig = Signature(parms) #  创建函数签名:<Signature (x, y=42, *, z=None)>\n",
    "\n",
    "def func(*args, **kwargs):\n",
    "    bound_values = sig.bind(*args, **kwargs)\n",
    "    for name, value in bound_values.arguments.items():\n",
    "        print(name, value)\n",
    "\n",
    "func(1, 2, z=3)"
   ]
  },
  {
   "cell_type": "code",
   "execution_count": 310,
   "metadata": {},
   "outputs": [
    {
     "name": "stdout",
     "output_type": "stream",
     "text": [
      "(name, shares, price)\n"
     ]
    }
   ],
   "source": [
    "from inspect import signature, Signature, Parameter\n",
    "\n",
    "def make_sig(*names):\n",
    "    parms = [Parameter(name, Parameter.POSITIONAL_OR_KEYWORD)\n",
    "            for name in names]\n",
    "    return Signature(parms)\n",
    "\n",
    "class StructureMeta(type):\n",
    "    def __new__(cls, clsname, bases, clsdict):\n",
    "        clsdict['__signature__'] = make_sig(*clsdict.get('_fields',[])) # 使用类属性_field创建类的签名属性__signature__\n",
    "        return super().__new__(cls, clsname, bases, clsdict)\n",
    "\n",
    "class Structure(metaclass=StructureMeta):\n",
    "    _fields = []\n",
    "    def __init__(self, *args, **kwargs):\n",
    "        bound_values = self.__signature__.bind(*args, **kwargs) # 强制签名检查\n",
    "        for name, value in bound_values.arguments.items():\n",
    "            setattr(self, name, value)\n",
    "\n",
    "# Example\n",
    "class Stock(Structure):\n",
    "    _fields = ['name', 'shares', 'price']\n",
    "\n",
    "class Point(Structure):\n",
    "    _fields = ['x', 'y']\n",
    "    \n",
    "print(signature(Stock)) # 将签名存储在特定的属性 __signature__中，在inspect模块执行内省的代码就能发现签名并将它作为调用约定"
   ]
  },
  {
   "cell_type": "code",
   "execution_count": 312,
   "metadata": {},
   "outputs": [
    {
     "name": "stderr",
     "output_type": "stream",
     "text": [
      "WARNING:root:Signature mismatch in B.foo. (self, x, y) != (self, a, b)\n",
      "WARNING:root:Signature mismatch in B.spam. (self, x, *, z) != (self, x, z)\n"
     ]
    }
   ],
   "source": [
    "from inspect import signature\n",
    "import logging\n",
    "\n",
    "class MatchSignaturesMeta(type):\n",
    "\n",
    "    def __init__(self, clsname, bases, clsdict):\n",
    "        super().__init__(clsname, bases, clsdict)\n",
    "        sup = super(self, self)\n",
    "        for name, value in clsdict.items():\n",
    "            if name.startswith('_') or not callable(value):\n",
    "                continue\n",
    "            # Get the previous definition (if any) and compare the signatures\n",
    "            prev_dfn = getattr(sup,name,None) # 获取父类被重载的方法\n",
    "            if prev_dfn:\n",
    "                prev_sig = signature(prev_dfn) # 获取父类的被重载方法的参数签名\n",
    "                val_sig = signature(value) # 获取子类重载方法的参数签名\n",
    "                if prev_sig != val_sig: # 参数签名不等及抛出警告信息\n",
    "                    logging.warning('Signature mismatch in %s. %s != %s',\n",
    "                                    value.__qualname__, prev_sig, val_sig)\n",
    "\n",
    "# Example\n",
    "class Root(metaclass=MatchSignaturesMeta):\n",
    "    pass\n",
    "\n",
    "class A(Root):\n",
    "    def foo(self, x, y):\n",
    "        pass\n",
    "\n",
    "    def spam(self, x, *, z):\n",
    "        pass\n",
    "\n",
    "# Class with redefined methods, but slightly different signatures\n",
    "class B(A):\n",
    "    def foo(self, a, b):\n",
    "        pass\n",
    "\n",
    "    def spam(self,x,z):\n",
    "        pass"
   ]
  },
  {
   "cell_type": "code",
   "execution_count": 336,
   "metadata": {},
   "outputs": [
    {
     "name": "stdout",
     "output_type": "stream",
     "text": [
      "<__main__.Stock object at 0x000001DF5685A5C8>\n"
     ]
    }
   ],
   "source": [
    "\n",
    "# stock.py\n",
    "# Example of making a class manually from parts\n",
    "\n",
    "# Methods\n",
    "def __init__(self, name, shares, price):\n",
    "    self.name = name\n",
    "    self.shares = shares\n",
    "    self.price = price\n",
    "def cost(self):\n",
    "    return self.shares * self.price\n",
    "\n",
    "cls_dict = {\n",
    "    '__init__' : __init__,\n",
    "    'cost' : cost,\n",
    "}\n",
    "class Base:\n",
    "    def __init_subclass__(cls, **kwargs):\n",
    "        pass\n",
    "\n",
    "# Make a class\n",
    "import types\n",
    "import abc\n",
    "\n",
    "Stock = types.new_class('Stock', (Base,), {'metaclass': abc.ABCMeta, 'debug': True}, lambda ns: ns.update(cls_dict))\n",
    "Stock.__module__ = __name__\n",
    "d = Stock('ACME', 50, 91.1)\n",
    "print(d)"
   ]
  },
  {
   "cell_type": "code",
   "execution_count": 339,
   "metadata": {},
   "outputs": [
    {
     "name": "stdout",
     "output_type": "stream",
     "text": [
      "<class '__main__.Stock'>\n",
      "Stock(name='cc', shares=100, price=99)\n",
      "cc\n",
      "cc\n"
     ]
    }
   ],
   "source": [
    "import collections\n",
    "\n",
    "Stock = collections.namedtuple('Stock', ['name', 'shares', 'price'])\n",
    "stock = Stock('cc', 100, 99)\n",
    "print(Stock)\n",
    "print(stock)\n",
    "print(stock.name)\n",
    "print(stock[0])"
   ]
  },
  {
   "cell_type": "code",
   "execution_count": 378,
   "metadata": {},
   "outputs": [
    {
     "name": "stdout",
     "output_type": "stream",
     "text": [
      "<class '__main__.Point'>\n",
      "(4, 5)\n",
      "(4, 5)\n",
      "4\n"
     ]
    }
   ],
   "source": [
    "import operator\n",
    "import types\n",
    "import sys\n",
    "\n",
    "def named_tuple(classname, fieldnames):\n",
    "    # 使用property对象填充字典，访问name就是以属性的方式来访问operator.itemgetter(n)\n",
    "    cls_dict = { name: property(operator.itemgetter(n))\n",
    "                for n, name in enumerate(fieldnames) }\n",
    "\n",
    "    # Make a __new__ function and add to the class dict\n",
    "    def __new__(cls, *args):\n",
    "        print(args)\n",
    "        if len(args) != len(fieldnames):\n",
    "            raise TypeError('Expected {} arguments'.format(len(fieldnames)))\n",
    "        return tuple.__new__(cls, args)\n",
    "    \n",
    "    def __init__(self, *args):\n",
    "        print(args)\n",
    "\n",
    "    cls_dict['__new__'] = __new__\n",
    "    cls_dict['__init__'] = __init__\n",
    "    # Make the class\n",
    "    cls = types.new_class(classname, (tuple,), {},\n",
    "                        lambda ns: ns.update(cls_dict))\n",
    "\n",
    "    # Set the module to that of the caller\n",
    "    cls.__module__ = sys._getframe(1).f_globals['__name__']\n",
    "    return cls\n",
    "\n",
    "Point = named_tuple('Point', ['x', 'y'])\n",
    "print(Point)\n",
    "print(Point(4, 5).x)"
   ]
  },
  {
   "cell_type": "code",
   "execution_count": 406,
   "metadata": {},
   "outputs": [
    {
     "name": "stdout",
     "output_type": "stream",
     "text": [
      "(4, 5)\n",
      "4\n"
     ]
    }
   ],
   "source": [
    "class NameTuple(tuple):\n",
    "    def __new__(cls, *args):\n",
    "        return super().__new__(cls, args)\n",
    "    \n",
    "    def __init__(self, *args):\n",
    "        self.x = args[0]\n",
    "        self.y = args[1]\n",
    "cc = NameTuple(4, 5)   \n",
    "print(cc)\n",
    "print(cc.x)"
   ]
  },
  {
   "cell_type": "code",
   "execution_count": 433,
   "metadata": {},
   "outputs": [
    {
     "name": "stdout",
     "output_type": "stream",
     "text": [
      "<class 'type'> {} {}\n"
     ]
    }
   ],
   "source": [
    "import types\n",
    "metaclass, kwargs, ns = types.prepare_class('Stock', (), {'metaclass': type})\n",
    "print(metaclass, kwargs, ns)"
   ]
  },
  {
   "cell_type": "code",
   "execution_count": 453,
   "metadata": {},
   "outputs": [
    {
     "name": "stdout",
     "output_type": "stream",
     "text": [
      "operator.itemgetter(0)\n",
      "ACME\n"
     ]
    }
   ],
   "source": [
    "import operator\n",
    "\n",
    "class StructTupleMeta(type):\n",
    "    def __init__(cls, *args, **kwargs):\n",
    "        super().__init__(*args, **kwargs)\n",
    "        for n, name in enumerate(cls._fields):\n",
    "#             setattr(cls, name, property(operator.itemgetter(n))) \n",
    "            setattr(cls, name, operator.itemgetter(n)) \n",
    "\n",
    "class StructTuple(tuple, metaclass=StructTupleMeta):\n",
    "    _fields = []\n",
    "    def __new__(cls, *args):\n",
    "        if len(args) != len(cls._fields):\n",
    "            raise ValueError('{} arguments required'.format(len(cls._fields)))\n",
    "        return super().__new__(cls,args)\n",
    "\n",
    "class Stock(StructTuple):\n",
    "    _fields = ['name', 'shares', 'price']\n",
    "\n",
    "class Point(StructTuple):\n",
    "    _fields = ['x', 'y']\n",
    "\n",
    "s = Stock('ACME', 50, 91.1)\n",
    "print(s.name) # ('ACME', 50, 91.1)\n",
    "print(operator.itemgetter(0)(s))"
   ]
  },
  {
   "cell_type": "code",
   "execution_count": 469,
   "metadata": {},
   "outputs": [
    {
     "name": "stdout",
     "output_type": "stream",
     "text": [
      "<class 'int'>\n"
     ]
    }
   ],
   "source": [
    "def bar(x:int, y:int):\n",
    "        print('Bar 1:', x, y)\n",
    "\n",
    "import inspect\n",
    "\n",
    "print(inspect.signature(bar).parameters['x'].annotation)\n"
   ]
  },
  {
   "cell_type": "code",
   "execution_count": 533,
   "metadata": {},
   "outputs": [
    {
     "name": "stdout",
     "output_type": "stream",
     "text": [
      "<__main__.MultiMethod object at 0x000001DF56D15048>\n",
      "(<__main__.Spam object at 0x000001DF56E86308>, 2, 3)\n",
      "Bar 1: 2 3\n"
     ]
    }
   ],
   "source": [
    "# 利用函数注解实现方法重载\n",
    "\n",
    "# multiple.py\n",
    "import inspect\n",
    "import types\n",
    "\n",
    "class MultiMethod:\n",
    "    '''\n",
    "    Represents a single multimethod.\n",
    "    '''\n",
    "    def __init__(self, name):\n",
    "        self._methods = {}\n",
    "        self.__name__ = name\n",
    "\n",
    "    def register(self, meth):\n",
    "        '''\n",
    "        注册一个方法为重载方法，核心思想：将参数注解和方法建立映射关系，方法同名时，可根据参数注解找到对应的方法\n",
    "        '''\n",
    "        sig = inspect.signature(meth)\n",
    "\n",
    "        # Build a type signature from the method's annotations\n",
    "        types = []\n",
    "        for name, parm in sig.parameters.items():\n",
    "            if name == 'self':\n",
    "                continue\n",
    "            if parm.annotation is inspect.Parameter.empty:\n",
    "                raise TypeError(\n",
    "                    'Argument {} must be annotated with a type'.format(name)\n",
    "                )\n",
    "            if not isinstance(parm.annotation, type):\n",
    "                raise TypeError(\n",
    "                    'Argument {} annotation must be a type'.format(name)\n",
    "                )\n",
    "            if parm.default is not inspect.Parameter.empty: # 有默认值则应先创建一个映射关系，因为默认值参数允许不传值\n",
    "                self._methods[tuple(types)] = meth\n",
    "            types.append(parm.annotation) # 存储方法的所有参数注解\n",
    "\n",
    "        self._methods[tuple(types)] = meth # 将参数注解和方法映射，利用参数注解就可找到方法\n",
    "\n",
    "    def __call__(self, *args):\n",
    "        '''\n",
    "        Call a method based on type signature of the arguments\n",
    "        '''\n",
    "        types = tuple(type(arg) for arg in args[1:]) # 去除被绑定的instance对象,获取参数的类型，查找对应重载方法\n",
    "        meth = self._methods.get(types, None)\n",
    "        print(self)\n",
    "        print(args)\n",
    "        if meth:\n",
    "            return meth(*args)\n",
    "        else:\n",
    "            raise TypeError('No matching method for types {}'.format(types))\n",
    "\n",
    "    def __get__(self, instance, cls):\n",
    "        '''\n",
    "        Descriptor method needed to make calls work in a class\n",
    "        '''\n",
    "        if instance is not None:\n",
    "            # 将实例对象instance(这里指Spam的实例对象)绑定到callable的MultiMethod对象上:将instance作为MultiMethod对象的第一个参数\n",
    "            return types.MethodType(self, instance) \n",
    "        else:\n",
    "            return self\n",
    "\n",
    "class MultiDict(dict):\n",
    "    '''\n",
    "    Special dictionary to build multimethods in a metaclass\n",
    "    '''\n",
    "    def __setitem__(self, key, value): # key\\value分别为要创建类的属性名和值(值对于方法来说就是函数对象)\n",
    "        if key in self:\n",
    "            # If key already exists, it must be a multimethod or callable\n",
    "            current_value = self[key]\n",
    "            if isinstance(current_value, Mult iMethod): #该key对应的方法已创建MultiMethod对象\n",
    "                current_value.register(value) # 注册重载方法\n",
    "            else:\n",
    "                mvalue = MultiMethod(key)  # 出现第二个同名方法时，创建MultiMethod对象\n",
    "                mvalue.register(current_value) # 注册重载方法\n",
    "                mvalue.register(value) # 注册重载方法\n",
    "                super().__setitem__(key, mvalue) # 将重载对象添加到命名空间\n",
    "        else:\n",
    "            super().__setitem__(key, value) # 第一个方法直接添加到命名空间\n",
    "\n",
    "class MultipleMeta(type):\n",
    "    '''\n",
    "    Metaclass that allows multiple dispatch of methods\n",
    "    '''\n",
    "    def __new__(cls, clsname, bases, clsdict):\n",
    "        return type.__new__(cls, clsname, bases, dict(clsdict))\n",
    "\n",
    "    @classmethod\n",
    "    def __prepare__(cls, clsname, bases): \n",
    "        return MultiDict() # 类的命名空间使用自定义字典111111111111111111111111，隐式以\"MultiDict[类的属性key] = 类的属性值\"方式填充\n",
    "\n",
    "# 应用\n",
    "class Spam(metaclass=MultipleMeta):\n",
    "    def bar(self, x:int, y:int):\n",
    "        print('Bar 1:', x, y)\n",
    "\n",
    "    def bar(self, s:str, n:int = 0):\n",
    "        print('Bar 2:', s, n)\n",
    "\n",
    "s = Spam()\n",
    "s.bar(2, 3) # bar是描述器，调用它的__get__方法\n",
    "s.bar('hello')"
   ]
  },
  {
   "cell_type": "code",
   "execution_count": 542,
   "metadata": {},
   "outputs": [
    {
     "name": "stdout",
     "output_type": "stream",
     "text": [
      "<__main__.Spam object at 0x000001DF564CDEC8> 5\n",
      "None\n"
     ]
    }
   ],
   "source": [
    "class A:\n",
    "    def __call__(self, *args):\n",
    "        print(*args)\n",
    "\n",
    "class B:\n",
    "    pass\n",
    "\n",
    "a = A()\n",
    "\n",
    "import types\n",
    "b.test = types.MethodType(a, b)\n",
    "b.test(5)"
   ]
  }
 ],
 "metadata": {
  "kernelspec": {
   "display_name": "Python 3",
   "language": "python",
   "name": "python3"
  },
  "language_info": {
   "codemirror_mode": {
    "name": "ipython",
    "version": 3
   },
   "file_extension": ".py",
   "mimetype": "text/x-python",
   "name": "python",
   "nbconvert_exporter": "python",
   "pygments_lexer": "ipython3",
   "version": "3.7.6"
  }
 },
 "nbformat": 4,
 "nbformat_minor": 4
}
