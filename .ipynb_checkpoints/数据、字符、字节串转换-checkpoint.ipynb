{
 "cells": [
  {
   "cell_type": "code",
   "execution_count": 22,
   "metadata": {},
   "outputs": [
    {
     "name": "stdout",
     "output_type": "stream",
     "text": [
      "b'2'\n",
      "b'\\x02'\n",
      "b'\\x02'\n",
      "b'\\x00\\x02'\n",
      "b'\\x02\\x00'\n",
      "b'\\x02\\x00'\n",
      "b'\\x00\\x02'\n"
     ]
    }
   ],
   "source": [
    "num = 2\n",
    "# 将整数转换为bytes\n",
    "print(str(num).encode('utf8'))  # 将int转换为bytes\n",
    "print(bytes([2])) # 将int转为bytes\n",
    "\n",
    "import struct\n",
    "print(struct.pack('B', 2))\n",
    "print(struct.pack('>H', 2))  # 大端模式\n",
    "print(struct.pack('<H', 2))\n",
    "print((2).to_bytes(2, byteorder=\"little\"))\n",
    "print((2).to_bytes(2, byteorder=\"big\"))"
   ]
  }
 ],
 "metadata": {
  "kernelspec": {
   "display_name": "Python 3",
   "language": "python",
   "name": "python3"
  },
  "language_info": {
   "codemirror_mode": {
    "name": "ipython",
    "version": 3
   },
   "file_extension": ".py",
   "mimetype": "text/x-python",
   "name": "python",
   "nbconvert_exporter": "python",
   "pygments_lexer": "ipython3",
   "version": "3.7.6"
  }
 },
 "nbformat": 4,
 "nbformat_minor": 4
}
