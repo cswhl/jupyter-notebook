{
 "cells": [
  {
   "cell_type": "markdown",
   "metadata": {},
   "source": []
  },
  {
   "cell_type": "code",
   "execution_count": 18,
   "metadata": {},
   "outputs": [
    {
     "data": {
      "text/plain": [
       "'b'"
      ]
     },
     "execution_count": 18,
     "metadata": {},
     "output_type": "execute_result"
    }
   ],
   "source": [
    "# 1、max的使用\n",
    "dd = {'a': 2, 'b': 3, 'c': 1}\n",
    "max(dd.keys(), key=dd.get) # max接收iterable对象，指定key函数提取interable对象所有元素的比较键-value；返回有最大value值的key"
   ]
  },
  {
   "cell_type": "code",
   "execution_count": 20,
   "metadata": {},
   "outputs": [
    {
     "name": "stdout",
     "output_type": "stream",
     "text": [
      "True\n",
      "False\n"
     ]
    }
   ],
   "source": [
    "# 2.规约函数any的使用(具有短路求值性质，即如果迭代器中某个元素返回True，那么就不会对后面的元素求值):\n",
    "print(any([False, '', (), 1]))  # 如果序列中任何一个元素为True，返回True\n",
    "print(any([]))  # 可迭代对象为空，则返回False\n",
    "# ret = any(self.calc_and_ret(e) for e in element) # 具有短路求值性质，即如果迭代器中某个元素返回True，那么就不会对后面的元素求值"
   ]
  },
  {
   "cell_type": "code",
   "execution_count": 19,
   "metadata": {},
   "outputs": [
    {
     "name": "stdout",
     "output_type": "stream",
     "text": [
      "False\n",
      "True\n"
     ]
    }
   ],
   "source": [
    "# 3.规约函数all的使用(具有短路求值性质，即如果迭代器中某个元素返回False，那么就不会对后面的元素求值):\n",
    "print(all([False, '', (), 1]))  # 如果序列中所有元素为True，则返回True\n",
    "print(all([]))  # 可迭代对象为空，则返回True"
   ]
  },
  {
   "cell_type": "code",
   "execution_count": null,
   "metadata": {},
   "outputs": [],
   "source": []
  }
 ],
 "metadata": {
  "kernelspec": {
   "display_name": "Python 3",
   "language": "python",
   "name": "python3"
  },
  "language_info": {
   "codemirror_mode": {
    "name": "ipython",
    "version": 3
   },
   "file_extension": ".py",
   "mimetype": "text/x-python",
   "name": "python",
   "nbconvert_exporter": "python",
   "pygments_lexer": "ipython3",
   "version": "3.7.6"
  }
 },
 "nbformat": 4,
 "nbformat_minor": 4
}
