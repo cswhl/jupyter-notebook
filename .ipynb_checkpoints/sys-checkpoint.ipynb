{
 "cells": [
  {
   "cell_type": "code",
   "execution_count": 11,
   "metadata": {},
   "outputs": [],
   "source": [
    "import sys"
   ]
  },
  {
   "cell_type": "code",
   "execution_count": 12,
   "metadata": {
    "scrolled": false
   },
   "outputs": [
    {
     "name": "stdout",
     "output_type": "stream",
     "text": [
      "23323\n"
     ]
    }
   ],
   "source": [
    "sys.stdout.write('23323\\n') # 将字符串或字节串写到stream流：即stdout标准输出;只能输出一个str，而print能输出多个str，且用一个空格隔开"
   ]
  },
  {
   "cell_type": "code",
   "execution_count": 15,
   "metadata": {},
   "outputs": [
    {
     "name": "stdout",
     "output_type": "stream",
     "text": [
      "0 1 2 3 4 "
     ]
    }
   ],
   "source": [
    "import time\n",
    "import sys\n",
    "\n",
    "for i in range(5):\n",
    "    # linux的特殊现象：\n",
    "       # 默认情况下sys.stdout会在得到相应的指令后才将缓冲区的内容输出，\n",
    "       # 这个指令就是新增换行符'\\n',因为print函数的end默认值为'\\n'，所以会立即输出\n",
    "       # 如果将print的end=' '，那么sys.stdout的内容就不会立即输出；但你如果将print的flush=True就又会立即输出\n",
    "    print(i, end=' ') \n",
    "    # flush的作用是让sys.stdout的缓冲区内容显式的立即输出\n",
    "    sys.stdout.flush()  \n",
    "    time.sleep(1)"
   ]
  }
 ],
 "metadata": {
  "kernelspec": {
   "display_name": "Python 3",
   "language": "python",
   "name": "python3"
  },
  "language_info": {
   "codemirror_mode": {
    "name": "ipython",
    "version": 3
   },
   "file_extension": ".py",
   "mimetype": "text/x-python",
   "name": "python",
   "nbconvert_exporter": "python",
   "pygments_lexer": "ipython3",
   "version": "3.7.6"
  }
 },
 "nbformat": 4,
 "nbformat_minor": 4
}
