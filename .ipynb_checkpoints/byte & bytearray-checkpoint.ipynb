{
 "cells": [
  {
   "cell_type": "code",
   "execution_count": 8,
   "metadata": {},
   "outputs": [
    {
     "name": "stdout",
     "output_type": "stream",
     "text": [
      "bytearray(b'')\n",
      "bytearray(b'')\n",
      "bytearray(b'\\x00\\x00\\x00\\x00\\x00')\n",
      "bytearray(b'\\x02\\x04')\n",
      "bytearray(b'1234')\n"
     ]
    }
   ],
   "source": [
    "print(bytearray())  # 创建空实例\n",
    "print(bytearray(b'')) # 创建实例\n",
    "print(bytearray(5))   # 创建长度为5，以0填充的实例\n",
    "print(bytearray([2,4])) # 以可迭代对象创建实例\n",
    "print(bytearray(b'1234')) # 从缓冲区复制现有字节串创建实例"
   ]
  },
  {
   "cell_type": "code",
   "execution_count": 13,
   "metadata": {},
   "outputs": [
    {
     "name": "stdout",
     "output_type": "stream",
     "text": [
      "bytearray(b'\\x08\\x03\\x05\\x07\\t')\n",
      "bytearray(b'\\x08\\x03\\x05\\x07\\t\\n')\n"
     ]
    },
    {
     "ename": "TypeError",
     "evalue": "'bytearray' object cannot be interpreted as an integer",
     "output_type": "error",
     "traceback": [
      "\u001b[1;31m---------------------------------------------------------------------------\u001b[0m",
      "\u001b[1;31mTypeError\u001b[0m                                 Traceback (most recent call last)",
      "\u001b[1;32m<ipython-input-13-a7ec76fbc571>\u001b[0m in \u001b[0;36m<module>\u001b[1;34m\u001b[0m\n\u001b[0;32m      4\u001b[0m \u001b[0mba\u001b[0m\u001b[1;33m.\u001b[0m\u001b[0mappend\u001b[0m\u001b[1;33m(\u001b[0m\u001b[1;36m10\u001b[0m\u001b[1;33m)\u001b[0m\u001b[1;33m\u001b[0m\u001b[1;33m\u001b[0m\u001b[0m\n\u001b[0;32m      5\u001b[0m \u001b[0mprint\u001b[0m\u001b[1;33m(\u001b[0m\u001b[0mba\u001b[0m\u001b[1;33m)\u001b[0m\u001b[1;33m\u001b[0m\u001b[1;33m\u001b[0m\u001b[0m\n\u001b[1;32m----> 6\u001b[1;33m \u001b[0mba\u001b[0m\u001b[1;33m.\u001b[0m\u001b[0mappend\u001b[0m\u001b[1;33m(\u001b[0m\u001b[0mbytearray\u001b[0m\u001b[1;33m(\u001b[0m\u001b[1;34mb'\\x08'\u001b[0m\u001b[1;33m)\u001b[0m\u001b[1;33m)\u001b[0m\u001b[1;33m\u001b[0m\u001b[1;33m\u001b[0m\u001b[0m\n\u001b[0m",
      "\u001b[1;31mTypeError\u001b[0m: 'bytearray' object cannot be interpreted as an integer"
     ]
    }
   ],
   "source": [
    "ba = bytearray((1,3,5,7,9))\n",
    "ba[0]= 8\n",
    "print(ba)\n",
    "ba.append(10) # 似乎只能是整数\n",
    "print(ba)"
   ]
  }
 ],
 "metadata": {
  "kernelspec": {
   "display_name": "Python 3",
   "language": "python",
   "name": "python3"
  },
  "language_info": {
   "codemirror_mode": {
    "name": "ipython",
    "version": 3
   },
   "file_extension": ".py",
   "mimetype": "text/x-python",
   "name": "python",
   "nbconvert_exporter": "python",
   "pygments_lexer": "ipython3",
   "version": "3.7.6"
  }
 },
 "nbformat": 4,
 "nbformat_minor": 4
}
