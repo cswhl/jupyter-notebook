{
 "cells": [
  {
   "cell_type": "code",
   "execution_count": 2,
   "metadata": {
    "scrolled": true
   },
   "outputs": [
    {
     "name": "stdout",
     "output_type": "stream",
     "text": [
      "[[1, 2, 3], 123, 123.123, 'abc', {'key1': (1, 2, 3), 'key2': (4, 5, 6)}]\n",
      "[[1, 2, 3], 123, 123.123, \"abc\", {\"key1\": [1, 2, 3], \"key2\": [4, 5, 6]}]\n",
      "[[1, 2, 3], 123, 123.123, 'abc', {'key1': [1, 2, 3], 'key2': [4, 5, 6]}]\n"
     ]
    }
   ],
   "source": [
    "import json\n",
    "obj = [[1,2,3],123,123.123,'abc',{'key1':(1,2,3),'key2':(4,5,6)}] # 转换列表为JSON字符串\n",
    "encodedjson = json.dumps(obj)\n",
    "print(repr(obj))\n",
    "print(encodedjson)\n",
    "print(json.loads(encodedjson))"
   ]
  },
  {
   "cell_type": "code",
   "execution_count": 38,
   "metadata": {},
   "outputs": [
    {
     "data": {
      "text/plain": [
       "b'12345678900'"
      ]
     },
     "execution_count": 38,
     "metadata": {},
     "output_type": "execute_result"
    }
   ],
   "source": [
    "json.dumps(12345678900).encode('utf8') # 转换整数b"
   ]
  },
  {
   "cell_type": "code",
   "execution_count": null,
   "metadata": {},
   "outputs": [],
   "source": [
    "data = {'b':789,'c':456,'a':123}\n",
    "print(json.dumps(data, sort_keys=True, indent=4))"
   ]
  },
  {
   "cell_type": "code",
   "execution_count": null,
   "metadata": {},
   "outputs": [],
   "source": [
    "data = {'b':789,'c':456,'a':123}\n",
    "json.dumps(data, separators=(',', ':'))"
   ]
  },
  {
   "cell_type": "code",
   "execution_count": null,
   "metadata": {},
   "outputs": [],
   "source": [
    "json.dumps([1, 2, 3, {'4': 5, '6': 7}], separators=(',', ':')) "
   ]
  },
  {
   "cell_type": "code",
   "execution_count": null,
   "metadata": {
    "scrolled": true
   },
   "outputs": [],
   "source": [
    "data = {'b':789,'c':456,(1,2):123}\n",
    "print(json.dumps(data,skipkeys=True))"
   ]
  },
  {
   "cell_type": "code",
   "execution_count": null,
   "metadata": {},
   "outputs": [],
   "source": [
    "def df(obj): \n",
    "    if isinstance(obj, complex): \n",
    "        return {'__complex__': True, 'real': obj.real, 'imag': obj.imag}\n",
    "    return json.JSONEncoder.default(obj) \n",
    "\n",
    "\n",
    "data = json.dumps(1+2j, default=df)\n",
    "print(data)\n",
    "\n",
    "def as_complex(dct):\n",
    "    try:\n",
    "        if dct['__complex__']:\n",
    "            return complex(dct['real'], dct['imag'])\n",
    "    except KeyError:\n",
    "        pass\n",
    "    return dct\n",
    "\n",
    "print(json.loads(data, object_hook=as_complex))"
   ]
  },
  {
   "cell_type": "code",
   "execution_count": 30,
   "metadata": {},
   "outputs": [
    {
     "name": "stdout",
     "output_type": "stream",
     "text": [
      "{'__class__': 'Person', '__module__': '__main__', 'name': 'ccc', 'age': 25}\n",
      "{\"__class__\": \"Person\", \"__module__\": \"__main__\", \"name\": \"ccc\", \"age\": 25}\n",
      "Person(ccc,25)\n"
     ]
    }
   ],
   "source": [
    "class Person(object):\n",
    "    def __init__(self, name, age):\n",
    "        self.name = name\n",
    "        self.age = age\n",
    "    def __repr__(self):\n",
    "        return f\"Person({self.name},{self.age})\"\n",
    "         \n",
    "person = Person('ccc', 25)\n",
    "    \n",
    "def obj_to_dict(obj):\n",
    "    dd ={}\n",
    "    dd['__class__'] = obj.__class__.__name__\n",
    "    dd['__module__'] = obj.__module__\n",
    "    dd.update(obj.__dict__)\n",
    "    return dd\n",
    "\n",
    "print(obj_to_dict(person))\n",
    "\n",
    "\n",
    "def dict_to_obj(dd):\n",
    "    try:\n",
    "        class_name = dd.pop('__class__')\n",
    "        module_name = dd.pop('__module__')\n",
    "        module = __import__(module_name, fromlist=[class_name])\n",
    "        cls = getattr(module, class_name)\n",
    "#         cls = globals()[class_name]\n",
    "        instan = cls(**dd)\n",
    "    except KeyError:\n",
    "        instan = dd\n",
    "    \n",
    "    return instan\n",
    "    \n",
    "dict_to_obj(obj_to_dict(person))\n",
    "\n",
    "dump = json.dumps(person, default=obj_to_dict)\n",
    "print(dump)\n",
    "\n",
    "load = json.loads(dump, object_hook=dict_to_obj)\n",
    "print(load)"
   ]
  },
  {
   "cell_type": "code",
   "execution_count": 25,
   "metadata": {},
   "outputs": [
    {
     "name": "stdout",
     "output_type": "stream",
     "text": [
      "call obj_to_dict\n",
      "{\"__class__\": \"Person\", \"__module__\": \"__main__\", \"name\": \"ccc\", \"age\": 25}\n"
     ]
    }
   ],
   "source": [
    "def obj_to_dict(obj):\n",
    "    print(f'call obj_to_dict')\n",
    "    dd ={}\n",
    "    dd['__class__'] = obj.__class__.__name__\n",
    "    dd['__module__'] = obj.__module__\n",
    "    dd.update(obj.__dict__)\n",
    "    return dd\n",
    "\n",
    "class MyEncoder(json.JSONEncoder):\n",
    "    def default(self, obj):\n",
    "        print(f\"call MyEncoder's default\")\n",
    "        dd ={}\n",
    "        dd['__class__'] = obj.__class__.__name__\n",
    "        dd['__module__'] = obj.__module__\n",
    "        dd.update(obj.__dict__)\n",
    "        return dd\n",
    "\n",
    "dump = json.dumps(person, cls=MyEncoder, default=obj_to_dict)\n",
    "print(dump)\n"
   ]
  },
  {
   "cell_type": "code",
   "execution_count": 36,
   "metadata": {},
   "outputs": [
    {
     "name": "stdout",
     "output_type": "stream",
     "text": [
      "{\"__class__\": \"Person\", \"__module__\": \"__main__\", \"name\": \"ccc\", \"age\": 25}\n",
      "Person(ccc,25)\n"
     ]
    }
   ],
   "source": [
    "class MyEncoder(json.JSONEncoder):\n",
    "    def default(self, obj):\n",
    "        dd ={}\n",
    "        dd['__class__'] = obj.__class__.__name__\n",
    "        dd['__module__'] = obj.__module__\n",
    "        dd.update(obj.__dict__)\n",
    "        return dd\n",
    "    \n",
    "class MyDecoder(json.JSONDecoder):\n",
    "    def __init__(self):\n",
    "        pass\n",
    "        super().__init__(object_hook=self.dict_to_obj)\n",
    "    \n",
    "    def dict_to_obj(self,dd):\n",
    "        try:\n",
    "            class_name = dd.pop('__class__')\n",
    "            module_name = dd.pop('__module__')\n",
    "            module = __import__(module_name, fromlist=[class_name])\n",
    "            cls = getattr(module, class_name)\n",
    "            instan = cls(**dd)\n",
    "        except KeyError:\n",
    "            instan = dd\n",
    "\n",
    "        return instan\n",
    "    \n",
    "dump = json.dumps(person, cls=MyEncoder)\n",
    "print(dump)\n",
    "\n",
    "# load = json.loads(dump, cls=MyDecoder, object_hook=dict_to_obj)  # 不能同时指定cls和object_hook，会出现冲突\n",
    "load = json.loads(dump, cls=MyDecoder)\n",
    "print(load)"
   ]
  }
 ],
 "metadata": {
  "kernelspec": {
   "display_name": "Python 3",
   "language": "python",
   "name": "python3"
  },
  "language_info": {
   "codemirror_mode": {
    "name": "ipython",
    "version": 3
   },
   "file_extension": ".py",
   "mimetype": "text/x-python",
   "name": "python",
   "nbconvert_exporter": "python",
   "pygments_lexer": "ipython3",
   "version": "3.7.6"
  }
 },
 "nbformat": 4,
 "nbformat_minor": 4
}
