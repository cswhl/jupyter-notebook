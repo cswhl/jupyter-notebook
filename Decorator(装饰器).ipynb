{
 "cells": [
  {
   "cell_type": "code",
   "execution_count": 25,
   "metadata": {},
   "outputs": [
    {
     "name": "stdout",
     "output_type": "stream",
     "text": [
      "countdown 0.0468747615814209\n",
      "countdown\n",
      "Counts down\n",
      "{'n': <class 'int'>, 'return': None}\n",
      "<function countdown at 0x000001DF551FA3A8>\n"
     ]
    }
   ],
   "source": [
    "import time\n",
    "from functools import wraps\n",
    "def timethis(func):\n",
    "    @wraps(func)  # @wraps会复制被装饰器函数元信息给装饰器\n",
    "    def wrapper(*args, **kwargs):\n",
    "        start = time.time()\n",
    "        result = func(*args, **kwargs)\n",
    "        end = time.time()\n",
    "        print(func.__name__, end-start)\n",
    "        return result\n",
    "    return wrapper\n",
    "\n",
    "@timethis\n",
    "def countdown(n: int) -> None:\n",
    "    '''Counts down'''\n",
    "    while n > 0:\n",
    "        n -= 1\n",
    "        \n",
    "countdown(10**6)\n",
    "print(countdown.__name__)\n",
    "print(countdown.__doc__)\n",
    "print(countdown.__annotations__)\n",
    "print(countdown.__wrapped__) # @wraps能让你通过属性__wrapped__直接访问被装饰函数\n",
    "from inspect import signature\n",
    "print(signature(countdown)) # __wrapped__能让被装饰函数正确暴露底层的参数签名信息"
   ]
  },
  {
   "cell_type": "code",
   "execution_count": 24,
   "metadata": {},
   "outputs": [
    {
     "name": "stdout",
     "output_type": "stream",
     "text": [
      "countdown 0.045876502990722656\n",
      "wrapper\n",
      "None\n",
      "{}\n"
     ]
    }
   ],
   "source": [
    "import time\n",
    "from functools import wraps\n",
    "def timethis(func):\n",
    "    '''\n",
    "    Decorator that reports the execution time.\n",
    "    '''\n",
    "    def wrapper(*args, **kwargs):\n",
    "        start = time.time()\n",
    "        result = func(*args, **kwargs)\n",
    "        end = time.time()\n",
    "        print(func.__name__, end-start)\n",
    "        return result\n",
    "    return wrapper\n",
    "\n",
    "@timethis\n",
    "def countdown(n: int) -> None:\n",
    "    '''Counts down'''\n",
    "    while n > 0:\n",
    "        n -= 1\n",
    "        \n",
    "countdown(10**6)\n",
    "# 没有使用@wraps则被装饰器函数countdown丢失所有元信息\n",
    "print(countdown.__name__)\n",
    "print(countdown.__doc__)\n",
    "print(countdown.__annotations__)"
   ]
  },
  {
   "cell_type": "code",
   "execution_count": 35,
   "metadata": {},
   "outputs": [
    {
     "name": "stdout",
     "output_type": "stream",
     "text": [
      "(x, y, z=42)\n",
      "OrderedDict([('x', <class 'int'>), ('z', <class 'int'>)])\n",
      "1 2 3\n"
     ]
    }
   ],
   "source": [
    "from inspect import signature\n",
    "from functools import wraps\n",
    "\n",
    "# 利用装饰器强制函数上的类型检查\n",
    "def typeassert(*ty_args, **ty_kwargs):\n",
    "    def decorate(func):\n",
    "        # If in optimized mode, disable type checking\n",
    "        if not __debug__:\n",
    "            return func\n",
    "\n",
    "        # Map function argument names to supplied types\n",
    "        sig = signature(func)\n",
    "        print(sig)\n",
    "        bound_types = sig.bind_partial(*ty_args, **ty_kwargs).arguments\n",
    "        print(bound_types)\n",
    "\n",
    "        @wraps(func)\n",
    "        def wrapper(*args, **kwargs):\n",
    "            bound_values = sig.bind(*args, **kwargs)\n",
    "            # Enforce type assertions across supplied arguments\n",
    "            for name, value in bound_values.arguments.items():\n",
    "                if name in bound_types:\n",
    "                    if not isinstance(value, bound_types[name]):\n",
    "                        raise TypeError(\n",
    "                            'Argument {} must be {}'.format(name, bound_types[name])\n",
    "                            )\n",
    "            return func(*args, **kwargs)\n",
    "        return wrapper\n",
    "    return decorate\n",
    "\n",
    "@typeassert(int, z=int)\n",
    "def spam(x, y, z=42):\n",
    "    print(x, y, z)\n",
    "\n",
    "spam(1, 2, 3)"
   ]
  },
  {
   "cell_type": "code",
   "execution_count": 45,
   "metadata": {},
   "outputs": [],
   "source": [
    "class C:\n",
    "    def __init__(self):\n",
    "          self.__x=None\n",
    "    def getx(self):\n",
    "          return self.__x\n",
    "    def setx(self,value):\n",
    "          self.__x=value\n",
    "    def delx(self):\n",
    "          del self.__x\n",
    "    x=property(getx,setx,delx,'')\n",
    "c = C()\n",
    "c.x = 2\n",
    "c.x\n",
    "del c.x"
   ]
  },
  {
   "cell_type": "code",
   "execution_count": 53,
   "metadata": {},
   "outputs": [
    {
     "name": "stdout",
     "output_type": "stream",
     "text": [
      "3\n"
     ]
    }
   ],
   "source": [
    "class C(object):\n",
    "    def __init__(self):\n",
    "        self._x = None\n",
    "\n",
    "    @property    \n",
    "    def x(self):\n",
    "        return self._x\n",
    "    \n",
    "    @x.setter\n",
    "    def x(self, value):\n",
    "        self._x = value\n",
    "\n",
    "    @x.deleter\n",
    "    def x(self):\n",
    "        del self._x\n",
    "\n",
    "c = C()\n",
    "c.x = 3\n",
    "print(c.x)"
   ]
  },
  {
   "cell_type": "code",
   "execution_count": 44,
   "metadata": {},
   "outputs": [
    {
     "name": "stdout",
     "output_type": "stream",
     "text": [
      "2\n"
     ]
    }
   ],
   "source": [
    "class C(object):\n",
    "    def __init__(self):\n",
    "        self._x = None\n",
    "\n",
    "    x = property()\n",
    "\n",
    "    @x.getter\n",
    "    def x(self):\n",
    "        return self._x\n",
    "\n",
    "    @x.setter\n",
    "    def x(self, value):\n",
    "        self._x = value\n",
    "\n",
    "    @x.deleter\n",
    "    def x(self):\n",
    "        del self._x\n",
    "\n",
    "c = C()\n",
    "c.x = 2\n",
    "print(c.x)"
   ]
  },
  {
   "cell_type": "code",
   "execution_count": 50,
   "metadata": {},
   "outputs": [
    {
     "name": "stdout",
     "output_type": "stream",
     "text": [
      "<__main__.logit object at 0x000001DF55E68DC8>\n"
     ]
    },
    {
     "data": {
      "text/plain": [
       "<function __main__.test()>"
      ]
     },
     "execution_count": 50,
     "metadata": {},
     "output_type": "execute_result"
    }
   ],
   "source": [
    "from functools import wraps\n",
    " \n",
    "class logit(object):\n",
    "    def __init__(self, logfile='out.log'):\n",
    "        self.logfile = logfile\n",
    " \n",
    "    def __call__(self, func):\n",
    "        @wraps(func)\n",
    "        def wrapped_function(*args, **kwargs):\n",
    "            log_string = func.__name__ + \" was called\"\n",
    "            print(log_string)\n",
    "            # 打开logfile并写入\n",
    "            with open(self.logfile, 'a') as opened_file:\n",
    "                # 现在将日志打到指定的文件\n",
    "                opened_file.write(log_string + '\\n')\n",
    "            # 现在，发送一个通知\n",
    "            self.notify()\n",
    "            return func(*args, **kwargs)\n",
    "        return wrapped_function\n",
    " \n",
    "    def notify(self):\n",
    "        # logit只打日志，不做别的\n",
    "        pass\n",
    "\n",
    "kk = logit() \n",
    "print(kk)\n",
    "def test():\n",
    "    pass\n",
    "cc = kk(test)\n",
    "cc"
   ]
  },
  {
   "cell_type": "code",
   "execution_count": 96,
   "metadata": {
    "scrolled": true
   },
   "outputs": [
    {
     "name": "stdout",
     "output_type": "stream",
     "text": [
      "Decorator 2\n",
      "5\n",
      "2\n"
     ]
    }
   ],
   "source": [
    "from functools import wraps\n",
    "\n",
    "class A:\n",
    "    # Decorator as an instance method\n",
    "    def decorator1(self, func):\n",
    "        @wraps(func)\n",
    "        def wrapper(*args, **kwargs):\n",
    "            print('Decorator 1')\n",
    "            return func(*args, **kwargs)\n",
    "        return wrapper\n",
    "\n",
    "    # Decorator as a class method\n",
    "    @classmethod\n",
    "    def decorator2(cls, func):\n",
    "        @wraps(func)\n",
    "        def wrapper(*args, **kwargs):\n",
    "            print('Decorator 2')\n",
    "            print(args[0].a)\n",
    "            return func(*args, **kwargs)\n",
    "        return wrapper\n",
    "\n",
    "class B(A):\n",
    "    a = 5\n",
    "    @A.decorator2\n",
    "    def bar(self):\n",
    "        return 2\n",
    "b = B()\n",
    "print(b.bar())"
   ]
  },
  {
   "cell_type": "code",
   "execution_count": 116,
   "metadata": {},
   "outputs": [
    {
     "name": "stdout",
     "output_type": "stream",
     "text": [
      "OrderedDict([('x', <Parameter \"x\">), ('y', <Parameter \"y\">)])\n",
      "[<Parameter \"x\">, <Parameter \"y\">]\n",
      "[<Parameter \"x\">, <Parameter \"y\">, <Parameter \"debug=False\">]\n",
      "(x, y, *, debug=False)\n"
     ]
    }
   ],
   "source": [
    "from functools import wraps\n",
    "import inspect\n",
    "\n",
    "def optional_debug(func):\n",
    "    if 'debug' in inspect.signature(func).parameters:\n",
    "        raise TypeError('debug argument already defined')\n",
    "\n",
    "    @wraps(func)\n",
    "    def wrapper(*args, debug=False, **kwargs):\n",
    "        if debug:\n",
    "            print('Calling', func.__name__)\n",
    "        return func(*args, **kwargs)\n",
    "\n",
    "    sig = inspect.signature(func)\n",
    "    print(sig.parameters)\n",
    "    parms = list(sig.parameters.values())\n",
    "    print(parms)\n",
    "    parms.append(inspect.Parameter('debug',\n",
    "                inspect.Parameter.KEYWORD_ONLY,\n",
    "                default=False))\n",
    "    print(parms)\n",
    "    wrapper.__signature__ = sig.replace(parameters=parms)\n",
    "    return wrapper\n",
    "\n",
    "@optional_debug\n",
    "def add(x, y):\n",
    "    return x+y\n",
    "\n",
    "print(inspect.signature(add))\n"
   ]
  },
  {
   "cell_type": "code",
   "execution_count": 119,
   "metadata": {},
   "outputs": [
    {
     "name": "stdout",
     "output_type": "stream",
     "text": [
      "getting: x\n",
      "2\n",
      "getting: spam\n",
      "None\n"
     ]
    }
   ],
   "source": [
    "def log_getattribute(cls):\n",
    "    # Get the original implementation\n",
    "    orig_getattribute = cls.__getattribute__\n",
    "\n",
    "    # Make a new definition\n",
    "    def new_getattribute(self, name):\n",
    "        print('getting:', name)\n",
    "        return orig_getattribute(self, name)\n",
    "\n",
    "    # Attach to the class and return\n",
    "    cls.__getattribute__ = new_getattribute\n",
    "    return cls\n",
    "\n",
    "# Example use\n",
    "@log_getattribute\n",
    "class A:\n",
    "    def __init__(self,x):\n",
    "        self.x = x\n",
    "    def spam(self):\n",
    "        pass\n",
    "\n",
    "a = A(2)\n",
    "print(a.x)\n",
    "print(a.spam())"
   ]
  },
  {
   "cell_type": "code",
   "execution_count": 125,
   "metadata": {},
   "outputs": [],
   "source": [
    "# 创建不能实例化对象的类\n",
    "class NoInstances(type):\n",
    "    pass\n",
    "    def __call__(self, *args, **kwargs):\n",
    "        raise TypeError(\"Can't instantiate directly\")\n",
    "\n",
    "# Example\n",
    "class Spam(metaclass=NoInstances):\n",
    "    @staticmethod\n",
    "    def grok(x):\n",
    "        print('Spam.grok')"
   ]
  },
  {
   "cell_type": "code",
   "execution_count": 163,
   "metadata": {},
   "outputs": [
    {
     "name": "stdout",
     "output_type": "stream",
     "text": [
      "Creating Spam\n"
     ]
    },
    {
     "data": {
      "text/plain": [
       "True"
      ]
     },
     "execution_count": 163,
     "metadata": {},
     "output_type": "execute_result"
    }
   ],
   "source": [
    "# 创建单例\n",
    "class Singleton(type):\n",
    "    def __init__(self, *args, **kwargs): # 被父元类的__call__方法调用，初始化创建的类对象Spam\n",
    "        self.__instance = None # 类对象的属性__instance设置为None\n",
    "        super().__init__(*args, **kwargs)\n",
    "\n",
    "    def __call__(self, *args, **kwargs): # 隐式被类Spam调用，创建Spam的实例对象\n",
    "        if self.__instance is None:\n",
    "            self.__instance = super().__call__(*args, **kwargs) # 调用类的超类的__call__方法，返回类的实例对象\n",
    "            return self.__instance\n",
    "        else:\n",
    "            return self.__instance\n",
    "\n",
    "# Example\n",
    "class Spam(metaclass=Singleton):\n",
    "    def __init__(self):\n",
    "        print('Creating Spam')\n",
    "\n",
    "cc = Spam()\n",
    "cc2 = Spam()\n",
    "cc == cc2"
   ]
  },
  {
   "cell_type": "code",
   "execution_count": 168,
   "metadata": {},
   "outputs": [
    {
     "data": {
      "text/plain": [
       "True"
      ]
     },
     "execution_count": 168,
     "metadata": {},
     "output_type": "execute_result"
    }
   ],
   "source": [
    "import weakref\n",
    "\n",
    "class Cache(object):\n",
    "    def __init__(self):\n",
    "        super().__init__(*args, **kwargs)\n",
    "        self.__cache = weakref.WeakValueDictionary() # 创建一个弱引用值的映射:值删除后,弱引用隐射对应的元素项也会被垃圾回收删除\n",
    "    \n",
    "    def __call__(self, *args):\n",
    "        if args in self.__cache:\n",
    "            return sefl.__cache[args]\n",
    "        else:\n",
    "            obj = super.__call__(*args)\n",
    "            self.__cache[args] = obj\n",
    "            return obj\n",
    "a = Spam('GG')\n",
    "b = Spam('GG')\n",
    "a == b # 显示为True"
   ]
  },
  {
   "cell_type": "code",
   "execution_count": 209,
   "metadata": {},
   "outputs": [
    {
     "data": {
      "text/plain": [
       "'good,100,490.1'"
      ]
     },
     "execution_count": 209,
     "metadata": {},
     "output_type": "execute_result"
    }
   ],
   "source": [
    "from collections import OrderedDict\n",
    "\n",
    "\n",
    "# A set of descriptors for various types\n",
    "class Typed:\n",
    "    '''数据描述器'''\n",
    "    _expected_type = type(None)\n",
    "    def __init__(self, name=None):\n",
    "        self._name = name\n",
    "\n",
    "    def __set__(self, instance, value): # 访问描述器对象设置属性时，隐式调用该方法_\n",
    "        if not isinstance(value, self._expected_type):\n",
    "            raise TypeError('Expected ' + str(self._expected_type))\n",
    "        instance.__dict__[self._name] = value # 设置实例的__dict__命名空间\n",
    "\n",
    "class Integer(Typed):\n",
    "    _expected_type = int\n",
    "\n",
    "class Float(Typed):\n",
    "    _expected_type = float\n",
    "\n",
    "class String(Typed):\n",
    "    _expected_type = str\n",
    "\n",
    "# Metaclass that uses an OrderedDict for class body\n",
    "class OrderedMeta(type):\n",
    "    ''' 捕获类的定义信息'''\n",
    "    def __new__(cls, clsname, bases, clsdict):\n",
    "        d = dict(clsdict) # clsdict即空间钩子__prepare__返回的OrderedDict()，也是类的namespace\n",
    "        order = []\n",
    "        for name, value in clsdict.items(): # 找出类属性中所有Typed的实例组成dict，放入类的'_order’属性中\n",
    "            if isinstance(value, Typed):\n",
    "                value._name = name # 修改类型对象的_name属性值为属性名，实例属性名和类属性名相同时，只会访问实例属性，类的属性会被隐藏\n",
    "                order.append(name)\n",
    "        d['_order'] = order\n",
    "        return type.__new__(cls, clsname, bases, d)\n",
    "\n",
    "    @classmethod\n",
    "    def __prepare__(cls, clsname, bases): # 创建namespace:类属性字典clsdict，返回类型为OrderdDict\n",
    "        return OrderedDict()\n",
    "\n",
    "class Structure(metaclass=OrderedMeta):\n",
    "    def as_csv(self):\n",
    "        return ','.join(str(getattr(self,name)) for name in self._order)\n",
    "\n",
    "# Example use\n",
    "class Stock(Structure):\n",
    "    name = String() # 创建规定的类对象，实例化时必须按按照类型顺序传入构造函数__init__\n",
    "    shares = Integer()\n",
    "    price = Float()\n",
    "\n",
    "    def __init__(self, name, shares, price): # 要求传入数据的类型顺序为String、Interger、Float，否者属性访问时就会抛出错误\n",
    "        self.name = name\n",
    "        self.shares = shares\n",
    "        self.price = price\n",
    "s = Stock('good', 100, 490.1)\n",
    "s.as_csv()"
   ]
  },
  {
   "cell_type": "code",
   "execution_count": 222,
   "metadata": {},
   "outputs": [
    {
     "name": "stdout",
     "output_type": "stream",
     "text": [
      "NoDupOrderedDict([('__module__', '__main__'), ('__qualname__', 'A'), ('test', <function A.test at 0x000001DF55727168>), ('test2', <function A.test2 at 0x000001DF55727798>)])\n"
     ]
    }
   ],
   "source": [
    "from collections import OrderedDict\n",
    "\n",
    "class NoDupOrderedDict(OrderedDict):\n",
    "    '''自己构造的类字典对象，重复定义则抛出异常'''\n",
    "    def __init__(self, clsname):\n",
    "        self.clsname = clsname\n",
    "        super().__init__()\n",
    "        \n",
    "    def __setitem__(self, name, value): # 隐式设置dict时(即将要创建的类的类属性放入该dict种)，name()已key经定义则抛出异常\n",
    "        if name in self:  \n",
    "            raise TypeError(f'{name} already defined in {self.clsname}')\n",
    "        super().__setitem__(name, value)\n",
    "\n",
    "class OrderedMeta(type):\n",
    "    def __new__(cls, clsname, bases, clsdict):\n",
    "        d = dict(clsdict)\n",
    "        print(clsdict)\n",
    "        d['_order'] = [name for name in clsdict if name[0] != '_'] # 取出非'_'开头的key组成一个字典元素\n",
    "        return type.__new__(cls, clsname, bases, d)\n",
    "    \n",
    "    @classmethod\n",
    "    def __prepare__(cls, clsname, bases): # 在__new__方法之前执行，创建namespace，就是字典类对象\n",
    "        return NoDupOrderedDict(clsname)\n",
    "\n",
    "class A(metaclass=OrderedMeta):\n",
    "    def test(self):\n",
    "        pass\n",
    "    def test2(self):\n",
    "        pass"
   ]
  },
  {
   "cell_type": "code",
   "execution_count": 229,
   "metadata": {},
   "outputs": [
    {
     "data": {
      "text/plain": [
       "{}"
      ]
     },
     "execution_count": 229,
     "metadata": {},
     "output_type": "execute_result"
    }
   ],
   "source": [
    "def test():\n",
    "    a = 5\n",
    "    print(a)\n",
    "test.__dict__"
   ]
  }
 ],
 "metadata": {
  "kernelspec": {
   "display_name": "Python 3",
   "language": "python",
   "name": "python3"
  },
  "language_info": {
   "codemirror_mode": {
    "name": "ipython",
    "version": 3
   },
   "file_extension": ".py",
   "mimetype": "text/x-python",
   "name": "python",
   "nbconvert_exporter": "python",
   "pygments_lexer": "ipython3",
   "version": "3.7.6"
  }
 },
 "nbformat": 4,
 "nbformat_minor": 4
}
