{
 "cells": [
  {
   "cell_type": "code",
   "execution_count": null,
   "metadata": {},
   "outputs": [],
   "source": [
    "from multiprocessing import Pool\n",
    "p = Pool(5)"
   ]
  },
  {
   "cell_type": "code",
   "execution_count": null,
   "metadata": {},
   "outputs": [],
   "source": [
    "import func"
   ]
  },
  {
   "cell_type": "code",
   "execution_count": null,
   "metadata": {},
   "outputs": [],
   "source": [
    "p.map(func.f, [1, 2, 3])"
   ]
  },
  {
   "cell_type": "code",
   "execution_count": null,
   "metadata": {},
   "outputs": [],
   "source": [
    "from multiprocessing import Process\n",
    "import time\n",
    "import os\n",
    "\n",
    "# 继承Process类\n",
    "class Process_Class(Process):\n",
    "    # 因为Process类本身也有__init__方法，这个子类相当于重写了这个方法，\n",
    "    # 但这样就会带来一个问题，我们并没有完全的初始化一个Process类，所以就不能使用从这个类继承的一些方法和属性，\n",
    "    # 最好的方法就是将继承类本身传递给Process.__init__方法，完成这些初始化操作\n",
    "    def __init__(self, interval):\n",
    "        Process.__init__(self)\n",
    "        self.interval = interval\n",
    "\n",
    "    # 重写了Process类的run()方法\n",
    "    def run(self):\n",
    "        print(\"子进程(%s) 开始执行，父进程为（%s）\" % (os.getpid(), os.getppid()))\n",
    "        t_start = time.time()\n",
    "        time.sleep(self.interval)\n",
    "        t_stop = time.time()\n",
    "        print(\"(%s)执行结束，耗时%0.2f秒\" % (os.getpid(), t_stop - t_start))\n",
    "\n",
    "\n",
    "if __name__ == \"__main__\":\n",
    "    t_start = time.time()\n",
    "    print(\"当前程序进程(%s)\" % os.getpid())\n",
    "    p1 = Process_Class(2)\n",
    "    # 对一个不包含target属性的Process类执行start()方法，就会运行这个类中的run()方法，所以这里会执行p1.run()\n",
    "    p1.start()\n",
    "    p1.join()\n",
    "    t_stop = time.time()\n",
    "    print(\"(%s)执行结束，耗时%0.2f\" % (os.getpid(), t_stop - t_start))"
   ]
  },
  {
   "cell_type": "code",
   "execution_count": null,
   "metadata": {},
   "outputs": [],
   "source": [
    "import multiprocessing\n",
    "\n",
    "def foo(i):\n",
    "    print ('called function in process: %s' %i)\n",
    "    return\n",
    "\n",
    "if __name__ == '__main__':\n",
    "    Process_jobs = []\n",
    "    for i in range(5):\n",
    "        p = multiprocessing.Process(target=foo, args=(i,))\n",
    "        Process_jobs.append(p)\n",
    "        p.start()\n",
    "        p.join()"
   ]
  },
  {
   "cell_type": "code",
   "execution_count": null,
   "metadata": {},
   "outputs": [],
   "source": [
    "import threading\n",
    "def func1(x):\n",
    "    while x:\n",
    "        print(x)\n",
    "        x = x -1\n",
    "threading.Thread(target=func1,args=(5,)).start()"
   ]
  },
  {
   "cell_type": "code",
   "execution_count": null,
   "metadata": {},
   "outputs": [],
   "source": [
    "import multiprocessing\n",
    "from multiprocessing import Barrier, Lock, Process\n",
    "from time import time\n",
    "from datetime import datetime\n",
    "\n",
    "def test_with_barrier(synchronizer, serializer):\n",
    "    name = multiprocessing.current_process().name\n",
    "    synchronizer.wait()\n",
    "    now = time()\n",
    "    with serializer:\n",
    "        print(\"process b%s ----> %s\" % (name, datetime.fromtimestamp(now)))\n",
    "\n",
    "def test_without_barrier():\n",
    "    name = multiprocessing.current_process().name\n",
    "    now = time()\n",
    "    print(\"process %s ----> %s\" % (name, datetime.fromtimestamp(now)))\n",
    "\n",
    "if __name__ == '__main__':\n",
    "    synchronizer = Barrier(2)\n",
    "    serializer = Lock()\n",
    "    Process(name='p1 - test_with_barrier', target=test_with_barrier, args=(synchronizer,serializer)).start()\n",
    "    Process(name='p2 - test_with_barrier', target=test_with_barrier, args=(synchronizer,serializer)).start()\n",
    "    Process(name='p3 - test_without_barrier', target=test_without_barrier).start()\n",
    "    Process(name='p4 - test_without_barrier', target=test_without_barrier).start()"
   ]
  },
  {
   "cell_type": "code",
   "execution_count": null,
   "metadata": {},
   "outputs": [],
   "source": [
    "import multiprocessing\n",
    "\n",
    "def f(x):\n",
    "    return x * x\n",
    "\n",
    "if __name__ == '__main__':\n",
    "    inputs = list(range(100))\n",
    "    pool = multiprocessing.Pool(processes=4)\n",
    "    pool_outputs = pool.map(f, inputs)\n",
    "    pool.close()\n",
    "    pool.join()\n",
    "    print ('Pool    :', pool_outputs)"
   ]
  },
  {
   "cell_type": "code",
   "execution_count": 1,
   "metadata": {},
   "outputs": [
    {
     "ename": "ModuleNotFoundError",
     "evalue": "No module named 'mpi4py'",
     "output_type": "error",
     "traceback": [
      "\u001b[1;31m---------------------------------------------------------------------------\u001b[0m",
      "\u001b[1;31mModuleNotFoundError\u001b[0m                       Traceback (most recent call last)",
      "\u001b[1;32m<ipython-input-1-0fda0b379bd9>\u001b[0m in \u001b[0;36m<module>\u001b[1;34m\u001b[0m\n\u001b[1;32m----> 1\u001b[1;33m \u001b[1;32mimport\u001b[0m \u001b[0mmpi4py\u001b[0m\u001b[1;33m\u001b[0m\u001b[1;33m\u001b[0m\u001b[0m\n\u001b[0m",
      "\u001b[1;31mModuleNotFoundError\u001b[0m: No module named 'mpi4py'"
     ]
    }
   ],
   "source": [
    "import mpi4py\n"
   ]
  }
 ],
 "metadata": {
  "kernelspec": {
   "display_name": "Python 3",
   "language": "python",
   "name": "python3"
  },
  "language_info": {
   "codemirror_mode": {
    "name": "ipython",
    "version": 3
   },
   "file_extension": ".py",
   "mimetype": "text/x-python",
   "name": "python",
   "nbconvert_exporter": "python",
   "pygments_lexer": "ipython3",
   "version": "3.7.6"
  }
 },
 "nbformat": 4,
 "nbformat_minor": 4
}
