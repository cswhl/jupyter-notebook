{
 "cells": [
  {
   "cell_type": "markdown",
   "metadata": {},
   "source": [
    "[io — Core tools for working with streams](https://docs.python.org/3/library/io.html)"
   ]
  },
  {
   "cell_type": "code",
   "execution_count": 11,
   "metadata": {},
   "outputs": [
    {
     "name": "stdout",
     "output_type": "stream",
     "text": [
      "<_io.StringIO object at 0x000001CD876EF3A8>\n",
      "some initial text data\n",
      "22\n",
      "24\n",
      "some initial text datacs\n"
     ]
    }
   ],
   "source": [
    "# 将内存中的字符串文本流打包为StringIO对象使用\n",
    "import io\n",
    "f = io.StringIO(\"some initial text data\")\n",
    "print(f)\n",
    "print(f.read()) # 读取全部内容，流中指针会移动到最后的位置\n",
    "print(f.tell()) \n",
    "f.write('cs')   # 向文本流中写入信息，流中指针会移动2个位置\n",
    "print(f.tell()) #\n",
    "print(f.getvalue()) # 获取文本流缓存区中保持的全部字符串"
   ]
  },
  {
   "cell_type": "code",
   "execution_count": 2,
   "metadata": {},
   "outputs": [
    {
     "name": "stdout",
     "output_type": "stream",
     "text": [
      "<_io.TextIOWrapper name='testFile/myfile.txt' mode='r' encoding='utf-8'>\n",
      "some initial text data\n"
     ]
    }
   ],
   "source": [
    "# 使用磁盘的文件创建一个文本流，返回TextIOWrapper对象\n",
    "f = open(\"testFile/myfile.txt\", \"r\", encoding=\"utf-8\")\n",
    "print(f)\n",
    "print(f.read())"
   ]
  },
  {
   "cell_type": "code",
   "execution_count": null,
   "metadata": {},
   "outputs": [],
   "source": [
    "# 将内存中的字节串流打包为BytesIO objects使用\n",
    "f = io.BytesIO(b\"some initial binary data: \\x00\\x01\")\n",
    "# f = open(\"myfile.jpg\", \"rb\")  # 使用图片创建创建一个字节流"
   ]
  },
  {
   "cell_type": "code",
   "execution_count": null,
   "metadata": {},
   "outputs": [],
   "source": []
  }
 ],
 "metadata": {
  "kernelspec": {
   "display_name": "Python 3",
   "language": "python",
   "name": "python3"
  },
  "language_info": {
   "codemirror_mode": {
    "name": "ipython",
    "version": 3
   },
   "file_extension": ".py",
   "mimetype": "text/x-python",
   "name": "python",
   "nbconvert_exporter": "python",
   "pygments_lexer": "ipython3",
   "version": "3.7.6"
  }
 },
 "nbformat": 4,
 "nbformat_minor": 4
}
