{
 "cells": [
  {
   "cell_type": "code",
   "execution_count": 1,
   "metadata": {},
   "outputs": [
    {
     "name": "stdout",
     "output_type": "stream",
     "text": [
      "{'usr': 'root', 'pwd': '1234', 'ip': '127.0.0.1', 'port': '8088'}\n"
     ]
    },
    {
     "data": {
      "text/plain": [
       "{'usr': 'root', 'pwd': '1234', 'ip': '127.0.0.1', 'port': '8088', 'dd': 2}"
      ]
     },
     "execution_count": 1,
     "metadata": {},
     "output_type": "execute_result"
    }
   ],
   "source": [
    "d1 = {'usr':'root', 'pwd':'1234'}\n",
    "d2 = {'ip':'127.0.0.1', 'port':'8088'}\n",
    "d1.update(**d2)\n",
    "print(d1)\n",
    "d1.update([('dd',2)])\n",
    "d1"
   ]
  },
  {
   "cell_type": "code",
   "execution_count": 2,
   "metadata": {},
   "outputs": [
    {
     "name": "stdout",
     "output_type": "stream",
     "text": [
      "Counter({'banana': 2, 'apple': 1})\n"
     ]
    },
    {
     "data": {
      "text/plain": [
       "{'apple': 1, 'banana': 12, 'pear': 11}"
      ]
     },
     "execution_count": 2,
     "metadata": {},
     "output_type": "execute_result"
    }
   ],
   "source": [
    "x = { 'apple': 1, 'banana': 2 }  \n",
    "y = { 'banana': 10, 'pear': 11 }  \n",
    "from collections import Counter  \n",
    "print(Counter(x))\n",
    "X,Y = Counter(x), Counter(y)  \n",
    "z = dict(X+Y)  \n",
    "z  "
   ]
  },
  {
   "cell_type": "code",
   "execution_count": 3,
   "metadata": {},
   "outputs": [
    {
     "data": {
      "text/plain": [
       "{'apple': 1, 'banana': 12, 'pear': 11}"
      ]
     },
     "execution_count": 3,
     "metadata": {},
     "output_type": "execute_result"
    }
   ],
   "source": [
    "from collections import Counter\n",
    "cc = Counter()  # 創建空Counter\n",
    "x = { 'apple': 1, 'banana': 2 }  \n",
    "y = { 'banana': 10, 'pear': 11 }  \n",
    "from collections import Counter  \n",
    "cc += Counter(y)\n",
    "cc += Counter(x)\n",
    "z = dict(Counter(x) +Counter(y))  \n",
    "z"
   ]
  },
  {
   "cell_type": "code",
   "execution_count": 10,
   "metadata": {},
   "outputs": [
    {
     "name": "stdout",
     "output_type": "stream",
     "text": [
      "[]\n",
      "defaultdict(<class 'list'>, {'cc': []})\n",
      "None\n",
      "defaultdict(<class 'list'>, {'cc': []})\n"
     ]
    }
   ],
   "source": [
    "from collections import defaultdict\n",
    "dd = defaultdict(list)\n",
    "print(dd['cc'])\n",
    "print(dd)\n",
    "print(dd.get('kk'))\n",
    "print(dd)"
   ]
  }
 ],
 "metadata": {
  "kernelspec": {
   "display_name": "Python 3",
   "language": "python",
   "name": "python3"
  },
  "language_info": {
   "codemirror_mode": {
    "name": "ipython",
    "version": 3
   },
   "file_extension": ".py",
   "mimetype": "text/x-python",
   "name": "python",
   "nbconvert_exporter": "python",
   "pygments_lexer": "ipython3",
   "version": "3.7.6"
  }
 },
 "nbformat": 4,
 "nbformat_minor": 4
}
