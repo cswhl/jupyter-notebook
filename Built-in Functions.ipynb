{
 "cells": [
  {
   "cell_type": "code",
   "execution_count": 18,
   "metadata": {},
   "outputs": [
    {
     "data": {
      "text/plain": [
       "'b'"
      ]
     },
     "execution_count": 18,
     "metadata": {},
     "output_type": "execute_result"
    }
   ],
   "source": [
    "# 1、max求序列的最大值，min求序列的最小值，且可指定比较的key（通过函数）\n",
    "dd = {'a': 2, 'b': 3, 'c': 1}\n",
    "max(dd.keys(), key=dd.get) # max接收iterable对象，指定key函数提取interable对象所有元素的比较键-value；返回有最大value值的key"
   ]
  },
  {
   "cell_type": "code",
   "execution_count": 20,
   "metadata": {},
   "outputs": [
    {
     "name": "stdout",
     "output_type": "stream",
     "text": [
      "True\n",
      "False\n"
     ]
    }
   ],
   "source": [
    "# 2.规约函数any的使用(具有短路求值性质，即如果迭代器中某个元素返回True，那么就不会对后面的元素求值):\n",
    "print(any([False, '', (), 1]))  # 如果序列中任何一个元素为True，返回True\n",
    "print(any([]))  # 可迭代对象为空，则返回False\n",
    "# ret = any(self.calc_and_ret(e) for e in element) # 具有短路求值性质，即如果迭代器中某个元素返回True，那么就不会对后面的元素求值"
   ]
  },
  {
   "cell_type": "code",
   "execution_count": 19,
   "metadata": {},
   "outputs": [
    {
     "name": "stdout",
     "output_type": "stream",
     "text": [
      "False\n",
      "True\n"
     ]
    }
   ],
   "source": [
    "# 3.规约函数all的使用(具有短路求值性质，即如果迭代器中某个元素返回False，那么就不会对后面的元素求值):\n",
    "print(all([False, '', (), 1]))  # 如果序列中所有元素为True，则返回True\n",
    "print(all([]))  # 可迭代对象为空，则返回True"
   ]
  },
  {
   "cell_type": "code",
   "execution_count": 37,
   "metadata": {},
   "outputs": [
    {
     "name": "stdout",
     "output_type": "stream",
     "text": [
      "10\n",
      "30\n",
      "0\n"
     ]
    }
   ],
   "source": [
    "# 4.规约函数sum,对可迭代对象求值:\n",
    "print(sum([1, 2, 3, 4])) # 求和\n",
    "print(sum([1, 2, 3, 4], 20)) # 求和，赋一个初始值20,默认初始值为0\n",
    "print(sum([])) # 空的迭代器则返回0"
   ]
  },
  {
   "cell_type": "code",
   "execution_count": 29,
   "metadata": {},
   "outputs": [
    {
     "name": "stdout",
     "output_type": "stream",
     "text": [
      "120\n",
      "10\n",
      "you are 20 years old\n"
     ]
    }
   ],
   "source": [
    "# 5.规约函数reduce，累计函数():\n",
    "from functools import reduce\n",
    "print(reduce(lambda x,y:x*y,[1, 2, 3, 4, 5])) # 求积\n",
    "print(reduce(lambda a, b: a+b, (1, 2, 3, 4), 0)) # 求和\n",
    "print(reduce(lambda s1, s2: f'{s1} {s2}', [\"you\", \"are\", 20, \"years\",\"old\"])) # 连接称一个字符串，可使用数字，而join()则必须用于纯字符串"
   ]
  },
  {
   "cell_type": "code",
   "execution_count": 43,
   "metadata": {},
   "outputs": [
    {
     "data": {
      "text/plain": [
       "[(1, 'a'), (2, 'b'), (3, 'c')]"
      ]
     },
     "execution_count": 43,
     "metadata": {},
     "output_type": "execute_result"
    }
   ],
   "source": [
    "# 6.zip函数，接受n个序列作为参数，返回tuple的一个列表:\n",
    "list(zip((1, 2, 3), ('a', 'b', 'c', 'd'))) # 第i个tuple由每个序列的第i个元素组成，任何一个序列元素耗尽则结束"
   ]
  },
  {
   "cell_type": "code",
   "execution_count": 49,
   "metadata": {},
   "outputs": [
    {
     "data": {
      "text/plain": [
       "[(1, 'a'), (2, 'b'), (3, 'c'), (None, 'd')]"
      ]
     },
     "execution_count": 49,
     "metadata": {},
     "output_type": "execute_result"
    }
   ],
   "source": [
    "# 7. itertools.zip_longest 功能基本同zip，但直到最长序列耗尽才结束\n",
    "import itertools\n",
    "list(itertools.zip_longest((1, 2, 3), ('a', 'b', 'c', 'd')))"
   ]
  },
  {
   "cell_type": "code",
   "execution_count": 55,
   "metadata": {},
   "outputs": [
    {
     "name": "stdout",
     "output_type": "stream",
     "text": [
      "[(0, 'cs'), (1, 'czr')]\n",
      "[(1, 'cs'), (2, 'czr')]\n"
     ]
    }
   ],
   "source": [
    "# 8。 enumerate 返回序列中元素的下标和元素的tuple迭代器\n",
    "print(list(enumerate(['cs', 'czr']))) #\n",
    "print(list(enumerate(['cs', 'czr'], 1))) # 指定下标从1开始(默认从0开始)"
   ]
  },
  {
   "cell_type": "code",
   "execution_count": 80,
   "metadata": {},
   "outputs": [
    {
     "data": {
      "text/plain": [
       "3"
      ]
     },
     "execution_count": 80,
     "metadata": {},
     "output_type": "execute_result"
    }
   ],
   "source": [
    "import re\n",
    "ret = re.match(r\"[^/]+(/[^ ]*)\", \"GET /index.html HTTP/1.1\")\n",
    "ret.groups()\n",
    "x = 5 if 0 else 3\n",
    "x"
   ]
  }
 ],
 "metadata": {
  "kernelspec": {
   "display_name": "Python 3",
   "language": "python",
   "name": "python3"
  },
  "language_info": {
   "codemirror_mode": {
    "name": "ipython",
    "version": 3
   },
   "file_extension": ".py",
   "mimetype": "text/x-python",
   "name": "python",
   "nbconvert_exporter": "python",
   "pygments_lexer": "ipython3",
   "version": "3.7.6"
  }
 },
 "nbformat": 4,
 "nbformat_minor": 4
}
