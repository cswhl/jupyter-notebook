{
 "cells": [
  {
   "cell_type": "markdown",
   "metadata": {},
   "source": [
    "将字符串转换为字典的三种方法"
   ]
  },
  {
   "cell_type": "code",
   "execution_count": 1,
   "metadata": {},
   "outputs": [
    {
     "data": {
      "text/plain": [
       "{'name': 'john', 'gender': 'male', 'age': 28}"
      ]
     },
     "execution_count": 1,
     "metadata": {},
     "output_type": "execute_result"
    }
   ],
   "source": [
    "import ast\n",
    "ast.literal_eval('{\"name\" : \"john\", \"gender\" : \"male\", \"age\": 28}')"
   ]
  },
  {
   "cell_type": "code",
   "execution_count": 4,
   "metadata": {},
   "outputs": [
    {
     "data": {
      "text/plain": [
       "{'name': 'john', 'gender': 'male', 'age': 28}"
      ]
     },
     "execution_count": 4,
     "metadata": {},
     "output_type": "execute_result"
    }
   ],
   "source": [
    "import json\n",
    "user_info= '{\"name\" : \"john\", \"gender\" : \"male\", \"age\": 28}' #  JSON要求数组或对象之中的字符串必须使用双引号，不能使用单引号\n",
    "user_dict = json.loads(user_info)\n",
    "user_dict"
   ]
  },
  {
   "cell_type": "code",
   "execution_count": 3,
   "metadata": {},
   "outputs": [
    {
     "name": "stdout",
     "output_type": "stream",
     "text": [
      "{'orderType': -1, 'receUserInfo': {'receUserName': 'xxx', 'receUserCardCode': 'xxxxxxxxxxxxxxxxxx', 'receUserCardCodeType': '1', 'receUserContact': 'xxxxxxxxxxx'}, 'orderInfo': [{'supplierId': '3601', 'stationMapId': '7301908', 'endId': '10720428', 'endTypeId': '1', 'planId': '2020-04-07%2C07%3A50%2CX0518%2C430923019%2C430103', 'planDate': '2020-04-07', 'driveTime': '07:50', 'arMoney': 86, 'orderModelId': '1', 'goBackFlag': '1', 'orderCount': 1, 'ticketOrderMoneyInfo': {'orderMoney': 76, 'feeMoney': 4, 'yhqVo': {'yhqId': '', 'yhqMoney': ''}, 'actionInfo': {'reduceActionCode': '', 'reduceMoney': 0}}, 'insureOrderMoneyInfo': {'orderMoney': 10, 'inspackInfo': {'inspackId': 602, 'inspackReduceMoney': 2}}, 'ticketInfo': [{'ticketTypeId': '1', 'userCadeType': '1', 'userCardCode': 'xxxxxxxxxxxxxxxxxx', 'userCardName': 'xxx', 'birthday': '1996-08-24', 'saveUserFlag': 'Y', 'chooseInspackFlag': 'Y', 'premiumInfo': [], 'childInfo': {}, 'userMobile': 'xxxxxxxxxxx'}], 'discountInfo': {'cbFlag': 'N', 'cbMoney': 0, 'intAmount': 0}}], 'schInfo': [{'ticketTypeList': [{'name': '全', 'price': '76', 'id': '1'}], 'seats': '48', 'seatAmount': '42', 'drvTime': '07:50', 'schCanSellFlag': '1'}], 't': 'D3EDDEAF8D7C43B9A94C722982B71ED0\\n'}\n"
     ]
    }
   ],
   "source": [
    "import json\n",
    "\n",
    "post = '''orderType=-1&\n",
    "receUserInfo={\"receUserName\":\"xxx\",\"receUserCardCode\":\"xxxxxxxxxxxxxxxxxx\",\"receUserCardCodeType\":\"1\",\"receUserContact\":\"xxxxxxxxxxx\"}&\n",
    "orderInfo=[{\"supplierId\":\"3601\",\"stationMapId\":\"7301908\",\"endId\":\"10720428\",\"endTypeId\":\"1\",\"planId\":\"2020-04-07%2C07%3A50%2CX0518%2C430923019%2C430103\",\"planDate\":\"2020-04-07\",\"driveTime\":\"07:50\",\"arMoney\":86,\"orderModelId\":\"1\",\"goBackFlag\":\"1\",\"orderCount\":1,\"ticketOrderMoneyInfo\":{\"orderMoney\":76,\"feeMoney\":4,\"yhqVo\":{\"yhqId\":\"\",\"yhqMoney\":\"\"},\"actionInfo\":{\"reduceActionCode\":\"\",\"reduceMoney\":0}},\"insureOrderMoneyInfo\":{\"orderMoney\":10,\"inspackInfo\":{\"inspackId\":602,\"inspackReduceMoney\":2}},\"ticketInfo\":[{\"ticketTypeId\":\"1\",\"userCadeType\":\"1\",\"userCardCode\":\"xxxxxxxxxxxxxxxxxx\",\"userCardName\":\"xxx\",\"birthday\":\"1996-08-24\",\"saveUserFlag\":\"Y\",\"chooseInspackFlag\":\"Y\",\"premiumInfo\":[],\"childInfo\":{},\"userMobile\":\"xxxxxxxxxxx\"}],\"discountInfo\":{\"cbFlag\":\"N\",\"cbMoney\":0,\"intAmount\":0}}]&\n",
    "schInfo=[{\"ticketTypeList\":[{\"name\":\"全\",\"price\":\"76\",\"id\":\"1\"}],\"seats\":\"48\",\"seatAmount\":\"42\",\"drvTime\":\"07:50\",\"schCanSellFlag\":\"1\"}]&\n",
    "t=D3EDDEAF8D7C43B9A94C722982B71ED0\n",
    "''' # 这里是请求包里的POST参数\n",
    "post_list = post.split('&') # 把参数转为list\n",
    "data = {}\n",
    "for p in post_list:\n",
    "    try:\n",
    "        data[p.split('=')[0]] = json.loads(p.split('=')[1]) # 如果参数里含有字典等\n",
    "    except:\n",
    "        data[p.split('=')[0]] = p.split('=')[1] # 如果不含\n",
    "print(data)"
   ]
  },
  {
   "cell_type": "code",
   "execution_count": 5,
   "metadata": {},
   "outputs": [
    {
     "data": {
      "text/plain": [
       "{'name': 'john', 'gender': 'male', 'age': 28}"
      ]
     },
     "execution_count": 5,
     "metadata": {},
     "output_type": "execute_result"
    }
   ],
   "source": [
    "user_info = '{\"name\" : \"john\", \"gender\" : \"male\", \"age\": 28}'\n",
    "user_dict = eval(user_info)\n",
    "user_dict"
   ]
  },
  {
   "cell_type": "markdown",
   "metadata": {},
   "source": [
    "将其它对象转为字典"
   ]
  },
  {
   "cell_type": "code",
   "execution_count": 36,
   "metadata": {},
   "outputs": [
    {
     "data": {
      "text/plain": [
       "{'one': 1, 'two': 2, 'three': 3}"
      ]
     },
     "execution_count": 36,
     "metadata": {},
     "output_type": "execute_result"
    }
   ],
   "source": [
    "dict(one=1, two=2, three=3)  ## d(**kwargs) 或 d(**d1)"
   ]
  },
  {
   "cell_type": "code",
   "execution_count": 14,
   "metadata": {},
   "outputs": [
    {
     "data": {
      "text/plain": [
       "{'one': 1, 'two': 2, 'three': 3}"
      ]
     },
     "execution_count": 14,
     "metadata": {},
     "output_type": "execute_result"
    }
   ],
   "source": [
    "dict(zip(['one', 'two', 'three'], [1, 2, 3]))"
   ]
  },
  {
   "cell_type": "code",
   "execution_count": 16,
   "metadata": {},
   "outputs": [
    {
     "data": {
      "text/plain": [
       "{'two': 2, 'one': 1, 'three': 3}"
      ]
     },
     "execution_count": 16,
     "metadata": {},
     "output_type": "execute_result"
    }
   ],
   "source": [
    "dict([('two', 2), ('one', 1), ('three', 3)])"
   ]
  },
  {
   "cell_type": "code",
   "execution_count": 19,
   "metadata": {},
   "outputs": [
    {
     "data": {
      "text/plain": [
       "{'usr': 'root', 'pwd': '1234', 'ip': '127.0.0.1', 'port': '8088'}"
      ]
     },
     "execution_count": 19,
     "metadata": {},
     "output_type": "execute_result"
    }
   ],
   "source": [
    "d1 = {'usr':'root', 'pwd':'1234'}\n",
    "d2 = {'ip':'127.0.0.1', 'port':'8088'}\n",
    "d3 = dict(d1, **d2) \n",
    "d3"
   ]
  },
  {
   "cell_type": "code",
   "execution_count": 38,
   "metadata": {},
   "outputs": [
    {
     "data": {
      "text/plain": [
       "{'one': 1, 'two': 2, 'three': 3, 'cs': 5}"
      ]
     },
     "execution_count": 38,
     "metadata": {},
     "output_type": "execute_result"
    }
   ],
   "source": [
    "dict(zip(['one', 'two', 'three'], [1, 2, 3]), cs = 5) # dict(iterable, **kwarg)"
   ]
  },
  {
   "cell_type": "markdown",
   "metadata": {},
   "source": [
    "update的几个使用方法"
   ]
  },
  {
   "cell_type": "code",
   "execution_count": 28,
   "metadata": {},
   "outputs": [
    {
     "data": {
      "text/plain": [
       "{'name': 'cold', 'blog': 'www.linuxzen.com'}"
      ]
     },
     "execution_count": 28,
     "metadata": {},
     "output_type": "execute_result"
    }
   ],
   "source": [
    "info = {}\n",
    "info.update(name='cold', blog='www.linuxzen.com') \n",
    "info"
   ]
  },
  {
   "cell_type": "code",
   "execution_count": 35,
   "metadata": {},
   "outputs": [
    {
     "data": {
      "text/plain": [
       "{'name': 'cold night', 'blogname': 'linuxzen'}"
      ]
     },
     "execution_count": 35,
     "metadata": {},
     "output_type": "execute_result"
    }
   ],
   "source": [
    "info.update({'name':'cold night', 'blogname':'linuxzen'})  # d.update(dict)\n",
    "info"
   ]
  },
  {
   "cell_type": "code",
   "execution_count": 21,
   "metadata": {},
   "outputs": [
    {
     "name": "stdout",
     "output_type": "stream",
     "text": [
      "{'usr': 'root', 'pwd': '1234', 'ip': '127.0.0.1', 'port': '8088'}\n"
     ]
    },
    {
     "data": {
      "text/plain": [
       "{'usr': 'root', 'pwd': '1234', 'ip': '127.0.0.1', 'port': '8088', 'dd': 2}"
      ]
     },
     "execution_count": 21,
     "metadata": {},
     "output_type": "execute_result"
    }
   ],
   "source": [
    "d1 = {'usr':'root', 'pwd':'1234'}\n",
    "d2 = {'ip':'127.0.0.1', 'port':'8088'}\n",
    "d1.update(**d2)  # d.update(**kwargs)\n",
    "print(d1)\n",
    "d1.update([('dd',2)])  # 使用以二元组为元素的可迭代对象\n",
    "d1"
   ]
  },
  {
   "cell_type": "code",
   "execution_count": 12,
   "metadata": {},
   "outputs": [
    {
     "name": "stdout",
     "output_type": "stream",
     "text": [
      "{'name': 'cs', 'age': 18}\n",
      "{'name': 'cs', 'age': 18}\n"
     ]
    }
   ],
   "source": [
    "a = {'name':'cs', 'age':18}                                                                                         \n",
    "def test(**kwargs): \n",
    "    print(kwargs) \n",
    "\n",
    "test(**a)                                                                                                           \n",
    "test(name='cs', age=18)                                                                                             "
   ]
  },
  {
   "cell_type": "code",
   "execution_count": 17,
   "metadata": {},
   "outputs": [
    {
     "data": {
      "text/plain": [
       "{'apple': 1, 'banana': 12, 'pear': 11}"
      ]
     },
     "execution_count": 17,
     "metadata": {},
     "output_type": "execute_result"
    }
   ],
   "source": [
    "# python 合并字典，相同 key 的 value相加\n",
    "from collections import Counter\n",
    "cc = Counter() # 創建空Counter\n",
    "x = { 'apple': 1, 'banana': 2 }  \n",
    "y = { 'banana': 10, 'pear': 11 }  \n",
    "from collections import Counter  \n",
    "cc += Counter(y)\n",
    "cc += Counter(x)\n",
    "z = dict(Counter(x) +Counter(y))  \n",
    "z"
   ]
  }
 ],
 "metadata": {
  "kernelspec": {
   "display_name": "Python 3",
   "language": "python",
   "name": "python3"
  },
  "language_info": {
   "codemirror_mode": {
    "name": "ipython",
    "version": 3
   },
   "file_extension": ".py",
   "mimetype": "text/x-python",
   "name": "python",
   "nbconvert_exporter": "python",
   "pygments_lexer": "ipython3",
   "version": "3.7.6"
  }
 },
 "nbformat": 4,
 "nbformat_minor": 4
}
