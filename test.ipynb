{
 "cells": [
  {
   "cell_type": "code",
   "execution_count": 11,
   "metadata": {},
   "outputs": [
    {
     "data": {
      "text/plain": [
       "'zvbo9441987'"
      ]
     },
     "execution_count": 11,
     "metadata": {},
     "output_type": "execute_result"
    }
   ],
   "source": [
    "def translate(plaintext):\n",
    "    # 创建检查表，用于查找小写字母对应的数字\n",
    "    checkList =['0', '1','abc', 'def', 'ghi', 'jkl', 'mno', 'pqrs', 'tuv', 'wxyz']\n",
    "    # 初始密码\n",
    "    password = ''\n",
    "    for c in plaintext:\n",
    "        # 将小写字母变成对应的数字\n",
    "        if c.islower():\n",
    "            for indx in range(len(checkList)):\n",
    "                if c in checkList[indx]:\n",
    "                    password += str(indx)\n",
    "                    break\n",
    "        # 大写字母则变小写再往后移动一位\n",
    "        elif c.isupper():\n",
    "            # 但'Z’是例外：后移动一位是'a'\n",
    "            if c == 'Z': char = 'a'\n",
    "            else: char = chr(ord(c.lower()) +1)\n",
    "            password += char\n",
    "        # 数字和其它符号则不变\n",
    "        else:\n",
    "            password += c\n",
    "    return password\n",
    "\n",
    "translate('YUANzhi1987')"
   ]
  },
  {
   "cell_type": "code",
   "execution_count": 9,
   "metadata": {},
   "outputs": [
    {
     "data": {
      "text/plain": [
       "True"
      ]
     },
     "execution_count": 9,
     "metadata": {},
     "output_type": "execute_result"
    }
   ],
   "source": [
    "'v' =='v'"
   ]
  },
  {
   "cell_type": "code",
   "execution_count": 36,
   "metadata": {},
   "outputs": [
    {
     "name": "stdout",
     "output_type": "stream",
     "text": [
      "A B C D \n",
      "\n",
      "B A D C \n",
      "\n"
     ]
    }
   ],
   "source": [
    "class Node():\n",
    "    '''结点类'''\n",
    "\n",
    "    def __init__(self, elem):\n",
    "        # 存放元素数据\n",
    "        self.elem = elem\n",
    "        # next是下一个节点的标识\n",
    "        self.next = None\n",
    "\n",
    "\n",
    "class Single_LinkList():\n",
    "    '''链表类'''\n",
    "\n",
    "    def __init__(self, node=None):\n",
    "        # 头结点定义为私有变量\n",
    "        self.__head = node\n",
    "    \n",
    "    def is_empty(self):\n",
    "        '''判断链表是否为空'''\n",
    "        return self.__head is None\n",
    "\n",
    "    def append(self, item):\n",
    "        '''链表尾部添加元素'''\n",
    "        node = Node(item)\n",
    "        if self.is_empty():\n",
    "            self.__head = node\n",
    "        else:\n",
    "            curr = self.__head\n",
    "            while curr.next is not None:\n",
    "                curr = curr.next\n",
    "            curr.next = node\n",
    "            \n",
    "    def travel(self):\n",
    "        '''遍历链表'''\n",
    "        curr = self.__head\n",
    "        # 查询结点到末尾\n",
    "        while curr is not None:\n",
    "            print(curr.elem, end=' ')\n",
    "            curr = curr.next\n",
    "        print('\\n')\n",
    "    \n",
    "    def reverseList(self):\n",
    "        '''反转链表'''\n",
    "        cur, pre = self.__head, None\n",
    "        while cur:\n",
    "            cur.next, pre, cur = pre, cur, cur.next\n",
    "        self.__head = pre \n",
    "        return pre \n",
    "    \n",
    "    def swapPairs(self):\n",
    "        '''交换相邻元素'''\n",
    "        # 给self链表本身动态增加一个next属性,存储头结点\n",
    "        pre, pre.next = self, self.__head\n",
    "        # 存在两个连续的结点\n",
    "        while pre.next and pre.next.next:\n",
    "            a = pre.next\n",
    "            b = a.next\n",
    "            # 两个结点交换位置，并链接它们之后的结点\n",
    "            pre.next, b.next, a.next = b, a, b.next\n",
    "            pre = a # 为下次交换准备，将交换后的后一个结点记录为pre结点\n",
    "        # 返回指针给头结点\n",
    "        self.__head = self.next\n",
    "        return self.next\n",
    "    \n",
    "    def hasCycle(self):\n",
    "        slow = fast = self.__head\n",
    "        while slow and fast and fast.next:\n",
    "            slow = slow.next\n",
    "            fast = fast.next.next\n",
    "            if slow == fast:\n",
    "                return False\n",
    "        return True\n",
    "            \n",
    "        \n",
    "\n",
    "link = Single_LinkList()\n",
    "link.append('A')\n",
    "link.append('B')\n",
    "link.append('C')\n",
    "link.append('D')\n",
    "\n",
    "link.travel()\n",
    "\n",
    "#link.reverseList()\n",
    "#link.travel()\n",
    "\n",
    "link.swapPairs()\n",
    "link.travel()"
   ]
  },
  {
   "cell_type": "code",
   "execution_count": 43,
   "metadata": {},
   "outputs": [],
   "source": [
    "def isValid(s):\n",
    "    stack = []\n",
    "    parenMap = {')': '(', ']': '[', '}': '{'}\n",
    "    for c in s:\n",
    "        if c not in parenMap:\n",
    "            # 左括号就添加到栈中\n",
    "            stack.append(c)\n",
    "        elif not stack or parenMap[c] != stack.pop():\n",
    "            # 出现右括号时，栈空或栈顶不是配对的左括号即非法\n",
    "            return False\n",
    "    # 最终栈为空则合法，非空则不合法\n",
    "    return not stack\n",
    "    isValid('[()]')"
   ]
  },
  {
   "cell_type": "code",
   "execution_count": null,
   "metadata": {},
   "outputs": [],
   "source": [
    "def hasCycle(self):\n",
    "    slow = fast = self.__head\n",
    "    while slow and fast and fast.next:\n",
    "        slow = slow.next\n",
    "        fast = fast.next.next\n",
    "        if slow == fast:\n",
    "            return False\n",
    "    return True"
   ]
  },
  {
   "cell_type": "code",
   "execution_count": 60,
   "metadata": {},
   "outputs": [
    {
     "data": {
      "text/plain": [
       "10"
      ]
     },
     "execution_count": 60,
     "metadata": {},
     "output_type": "execute_result"
    }
   ],
   "source": [
    "import heapq\n",
    "\n",
    "class KthLargest(object):\n",
    "    # 返回数据流中的第k大元素\n",
    "    def __init__(self, k):\n",
    "        self.__q = []\n",
    "        self.__k = k\n",
    "        heapq.heapify(self.__q)\n",
    "    \n",
    "    def add(self, n):\n",
    "        if len(self.__q) < self.__k:\n",
    "            heapq.heappush(self.__q, n)\n",
    "        else:\n",
    "            heapq.heappushpop(self.__q, n)\n",
    "        # 返回堆顶的元素：第k大元素   \n",
    "        return self.__q[0]\n",
    "cc = KthLargest(3)\n",
    "cc.add(8)\n",
    "cc.add(9)\n",
    "cc.add(10)\n",
    "cc.add(11)\n",
    "cc.add(7)\n",
    "cc.add(12)"
   ]
  },
  {
   "cell_type": "code",
   "execution_count": 81,
   "metadata": {
    "scrolled": true
   },
   "outputs": [
    {
     "data": {
      "text/plain": [
       "(0, 2)"
      ]
     },
     "execution_count": 81,
     "metadata": {},
     "output_type": "execute_result"
    }
   ],
   "source": [
    "def twoSum(arr, sum):\n",
    "    set1 = set()\n",
    "    for indx, x in enumerate(arr):\n",
    "        if sum - x in set1:\n",
    "            return (arr.index(sum-x), indx)\n",
    "        set1.add(x)\n",
    "twoSum([2, 11, 7, 15], 9)"
   ]
  },
  {
   "cell_type": "code",
   "execution_count": 65,
   "metadata": {},
   "outputs": [],
   "source": [
    "cc = {1, 2, 3}"
   ]
  },
  {
   "cell_type": "code",
   "execution_count": 91,
   "metadata": {},
   "outputs": [
    {
     "data": {
      "text/plain": [
       "{(0, 2, 5), (1, 2, 4)}"
      ]
     },
     "execution_count": 91,
     "metadata": {},
     "output_type": "execute_result"
    }
   ],
   "source": [
    "class Solution:\n",
    "    def threeSum(self, nums: List[int]) -> List[List[int]]:\n",
    "        if(len(nums) < 3): return []\n",
    "        nums.sort()\n",
    "        res = set()\n",
    "        for indx_a in range(len(nums)):\n",
    "            d = {}\n",
    "            for indx_b in range(indx_a+1, len(nums)):\n",
    "                c = -(nums[indx_a] + nums[indx_b])\n",
    "                if c in d:\n",
    "                    res.add((nums[indx_a], c, nums[indx_b]))\n",
    "                d[nums[indx_b]] = indx_b\n",
    "        return map(list, res) \n"
   ]
  },
  {
   "cell_type": "code",
   "execution_count": 84,
   "metadata": {},
   "outputs": [
    {
     "data": {
      "text/plain": [
       "(0, 1)"
      ]
     },
     "execution_count": 84,
     "metadata": {},
     "output_type": "execute_result"
    }
   ],
   "source": [
    "def twoSum(arr, sum):\n",
    "    b\n",
    "    dict1 = {}\n",
    "    for indx, x in enumerate(arr):\n",
    "        if sum - x in dict1:\n",
    "            return (dict1[sum - x], indx)\n",
    "        dict1[x] = indx\n",
    "twoSum([2, 7, 11, 15], 9)"
   ]
  },
  {
   "cell_type": "code",
   "execution_count": 163,
   "metadata": {
    "scrolled": false
   },
   "outputs": [
    {
     "name": "stdout",
     "output_type": "stream",
     "text": [
      "max=None, min=None, root.elem=3\n",
      "max=   3, min=None, root.elem=1\n",
      "max=   1, min=None, root.elem=0\n",
      "max=   3, min=   1, root.elem=2\n",
      "max=None, min=   3, root.elem=5\n",
      "max=   5, min=   3, root.elem=4\n",
      "True\n"
     ]
    }
   ],
   "source": [
    "class Node(object):\n",
    "    '''树节点'''\n",
    "\n",
    "    def __init__(self, item):\n",
    "        self.elem = item\n",
    "        self.lchild = None\n",
    "        self.rchild = None\n",
    "\n",
    "\n",
    "class Tree(object):\n",
    "    '''二叉树'''\n",
    "\n",
    "    def __init__(self):\n",
    "        self.root = None\n",
    "\n",
    "    def add(self, item):\n",
    "        '''向二叉树上添加新节点'''\n",
    "        node = Node(item)\n",
    "        if self.root is None:\n",
    "            self.root = node\n",
    "            return\n",
    "        queue = [self.root]\n",
    "        while queue:\n",
    "            cur_node = queue.pop(0)\n",
    "            if cur_node.lchild is None:\n",
    "                cur_node.lchild = node\n",
    "                return\n",
    "            else:\n",
    "                queue.append(cur_node.lchild)\n",
    "            if cur_node.rchild is None:\n",
    "                cur_node.rchild = node\n",
    "                return\n",
    "            else:\n",
    "                queue.append(cur_node.rchild)\n",
    "                \n",
    "    def inorder(self, root):   \n",
    "        '''中序遍历'''\n",
    "        if root == None:\n",
    "            return\n",
    "        self.inorder(root.lchild)\n",
    "        print(root.elem, end=' ')\n",
    "        self.inorder(root.rchild)\n",
    "    \n",
    "    def isValidBST(self, root, max=None, min=None):\n",
    "        # max: 左子树的最大限值，min: 右子树的最小限值,初始都为None\n",
    "        if root == None:\n",
    "            return True\n",
    "        print(f'max={str(max):>4}, min={str(min):>4}, root.elem={root.elem}')\n",
    "        if max != None and root.elem >= max: return False\n",
    "        if min != None and root.elem <= min: return False\n",
    "        \n",
    "        # 1 对于最左子树(处于最左的结点)，只需小于父结点; \n",
    "        # 2 中左子树应小于父结点，大于祖父结点\n",
    "        # 3 对于最右子树(处于最左的结点)，只需大于父结点\n",
    "        # 4 中右子树应大于父结点，小于祖父结点\n",
    "        return self.isValidBST(root.lchild,  root.elem, min) and \\\n",
    "                self.isValidBST(root.rchild, max, root.elem)\n",
    "        \n",
    "                \n",
    "if __name__ == '__main__':\n",
    "    tree = Tree()\n",
    "    tree.add(3)\n",
    "    tree.add(1)\n",
    "    tree.add(5)\n",
    "    tree.add(0)\n",
    "    tree.add(2)\n",
    "    tree.add(4)\n",
    "    print(tree.isValidBST(tree.root))"
   ]
  },
  {
   "cell_type": "code",
   "execution_count": 157,
   "metadata": {},
   "outputs": [],
   "source": [
    "def isValidBST(self, root, lMax=None, rMin=None):\n",
    "    # lMax:左子树的最大限值，rMin:右子树的最小限值\n",
    "    if root == None:\n",
    "        return True\n",
    "    print(f'lMax={str(lMax):>4}, rMin={str(rMin):>4}, root.elem={root.elem}')\n",
    "    if lMax != None and root.elem >= lMax: return False\n",
    "    if rMin != None and root.elem <= rMin: return False\n",
    "\n",
    "    # 对于左子树，其值应小于父结点\n",
    "    \n",
    "    return self.isValidBST(root.lchild,  root.elem, rMin) and \\\n",
    "# 对于右子树,其值应大于父结点；\n",
    "            self.isValidBST(root.rchild, lMax, root.elem)"
   ]
  },
  {
   "cell_type": "code",
   "execution_count": 182,
   "metadata": {},
   "outputs": [],
   "source": [
    "def lowestCommonAcestor(root, p, q):\n",
    "    if (root == None or root == q or root == q): return root\n",
    "    left = lowestCommonAcestor(root.lchild, p, q)\n",
    "    right = lowestCommonAcestor(root.rchild, p, q)\n",
    "    # 如果left为None则返回right，如果right为None则返回left;都不会None则返回root，\n",
    "    # 返回的root即是p、q的最近祖先结点\n",
    "    return right if left == None else left if right == None else root"
   ]
  },
  {
   "cell_type": "code",
   "execution_count": 181,
   "metadata": {},
   "outputs": [
    {
     "data": {
      "text/plain": [
       "3"
      ]
     },
     "execution_count": 181,
     "metadata": {},
     "output_type": "execute_result"
    }
   ],
   "source": [
    "def lowestCommonAcestor(root, p, q):\n",
    "    if p.value < root.value < q.value:\n",
    "        lowestCommonAcestor(root.left, p, q)\n",
    "    if p.value > root.value < q.value:\n",
    "        lowestCommonAcestor(root.right, p, q)\n",
    "    else: return root"
   ]
  },
  {
   "cell_type": "code",
   "execution_count": null,
   "metadata": {},
   "outputs": [],
   "source": [
    "def lowestCommonAcestor(root, p, q):\n",
    "    while root:\n",
    "    if p.value < root.value < q.value:\n",
    "        root = root.left\n",
    "    if p.value > root.value < q.value:\n",
    "        root = root.right\n",
    "    else: return root"
   ]
  },
  {
   "cell_type": "code",
   "execution_count": 4,
   "metadata": {},
   "outputs": [
    {
     "name": "stdout",
     "output_type": "stream",
     "text": [
      "None\n"
     ]
    }
   ],
   "source": [
    "def test():\n",
    "    pass\n",
    "print(test())"
   ]
  },
  {
   "cell_type": "code",
   "execution_count": 5,
   "metadata": {},
   "outputs": [
    {
     "name": "stdout",
     "output_type": "stream",
     "text": [
      "广度遍历: 0 1 2 3 4 5 6 7 8 9 \n",
      "\n",
      "前序遍历: 0 1 3 7 8 4 9 2 5 6 \n",
      "\n",
      "中序遍历: 7 3 8 1 9 4 0 5 2 6 \n",
      "\n",
      "中序遍历: 7 8 3 9 4 1 5 6 2 0 \n",
      "\n"
     ]
    }
   ],
   "source": [
    "# coding: utf-8\n",
    "\n",
    "\n",
    "class Node(object):\n",
    "    '''树节点'''\n",
    "\n",
    "    def __init__(self, item):\n",
    "        self.elem = item\n",
    "        self.lchild = None\n",
    "        self.rchild = None\n",
    "\n",
    "\n",
    "class Tree(object):\n",
    "    '''二叉树'''\n",
    "\n",
    "    def __init__(self):\n",
    "        self.root = None\n",
    "\n",
    "    def add(self, item):\n",
    "        '''向二叉树上添加新节点'''\n",
    "        node = Node(item)\n",
    "        # 根节点为空\n",
    "        if self.root is None:\n",
    "            self.root = node\n",
    "            return\n",
    "        # 子节点不存在时赋值，已存在则向队列中该子节点\n",
    "        queue = [self.root]\n",
    "        while queue:\n",
    "            cur_node = queue.pop(0)\n",
    "            if cur_node.lchild is None:\n",
    "                cur_node.lchild = node\n",
    "                return\n",
    "            else:\n",
    "                queue.append(cur_node.lchild)\n",
    "            if cur_node.rchild is None:\n",
    "                cur_node.rchild = node\n",
    "                return\n",
    "            else:\n",
    "                queue.append(cur_node.rchild)\n",
    "\n",
    "    def breadth_travel(self):\n",
    "        '''广度遍历'''\n",
    "        if self.root:\n",
    "            queue = [self.root]\n",
    "            while queue:\n",
    "                cur_node = queue.pop(0)\n",
    "                print(cur_node.elem, end=' ')\n",
    "\n",
    "                if cur_node.lchild is not None:\n",
    "                    queue.append(cur_node.lchild)\n",
    "                if cur_node.rchild is not None:\n",
    "                    queue.append(cur_node.rchild)\n",
    "\n",
    "    def preorder(self, root):\n",
    "        '''前序遍历:根左右'''\n",
    "        if root :\n",
    "            # 先显示父节点\n",
    "            print(f'{root.elem}', end=' ')\n",
    "            # 递归查询左子节点\n",
    "            self.preorder(root.lchild)\n",
    "            # 左子节点递归结束后继续递归查询右子节点\n",
    "            self.preorder(root.rchild)\n",
    "\n",
    "    def inorder(self, root):\n",
    "        '''中序遍历:左根右'''\n",
    "        if root:\n",
    "            # 递归查询左子节点\n",
    "            self.inorder(root.lchild)\n",
    "            # 左子节点递归结束后显示父节点\n",
    "            print(f'{root.elem}', end=' ')\n",
    "            # 继续递归查询右子节点\n",
    "            self.inorder(root.rchild)\n",
    "\n",
    "    def postorder(self, root):\n",
    "        '''后序遍历:左右根'''\n",
    "        if root:\n",
    "            # 递归查询左子节点\n",
    "            self.postorder(root.lchild)\n",
    "            # 继续递归查询右子节点\n",
    "            self.postorder(root.rchild)\n",
    "            # 左右子节点递归都结束后,显示父节点\n",
    "            print(f'{root.elem}', end=' ')\n",
    "\n",
    "\n",
    "if __name__ == '__main__':\n",
    "    tree = Tree()\n",
    "    tree.add(0)\n",
    "    tree.add(1)\n",
    "    tree.add(2)\n",
    "    tree.add(3)\n",
    "    tree.add(4)\n",
    "    tree.add(5)\n",
    "    tree.add(6)\n",
    "    tree.add(7)\n",
    "    tree.add(8)\n",
    "    tree.add(9)\n",
    "\n",
    "    print(f'广度遍历:', end=' ')\n",
    "    tree.breadth_travel()\n",
    "    print('\\n')\n",
    "\n",
    "    print(f'前序遍历:', end=' ')\n",
    "    tree.preorder(tree.root)\n",
    "    print('\\n')\n",
    "\n",
    "    print(f'中序遍历:', end=' ')\n",
    "    tree.inorder(tree.root)\n",
    "    print('\\n')\n",
    "\n",
    "    print(f'中序遍历:', end=' ')\n",
    "    tree.postorder(tree.root)\n",
    "    print('\\n')"
   ]
  },
  {
   "cell_type": "code",
   "execution_count": null,
   "metadata": {},
   "outputs": [],
   "source": [
    "def divide_conquer(problem, param1, param2, ...):\n",
    "    \n",
    "    # recursion terminator\n",
    "    if problem is None:\n",
    "        print_result\n",
    "        return\n",
    " \n",
    "\n",
    "    # prepare data\n",
    "    data = prepare_data(problem)\n",
    "    subproblems = split_problem(problem, data)\n",
    "    \n",
    "    # conquer subproblems\n",
    "    subresult1 = devide_conquer(subproblem[0], p1, ...)\n",
    "    subresult2 = devide_conquer(subproblem[0], p2, ...)\n",
    "    subresult3 = devide_conquer(subproblem[0], p3, ...)\n",
    "    ...\n",
    "    \n",
    "    \n",
    "    # process and generate the final result\n",
    "    result = precess_result(subresult1, subresult2, subresult3, ...)\n",
    "    "
   ]
  },
  {
   "cell_type": "code",
   "execution_count": null,
   "metadata": {},
   "outputs": [],
   "source": [
    "def recursion(level, param1, parm2, ...):\n",
    "    \n",
    "    # recursion terminator\n",
    "    if level > MAX_LEVEL:\n",
    "        print_result\n",
    "        return\n",
    "    \n",
    "    \n",
    "    # process logic in current level\n",
    "    process_data(level, data...)\n",
    "    \n",
    "    # drill down\n",
    "    recursion(level + 1, p1, ...)\n",
    "    \n",
    "    # reverse the current level statue if needed\n",
    "    reverse_state(level)"
   ]
  },
  {
   "cell_type": "code",
   "execution_count": 27,
   "metadata": {
    "scrolled": true
   },
   "outputs": [
    {
     "data": {
      "text/plain": [
       "512"
      ]
     },
     "execution_count": 27,
     "metadata": {},
     "output_type": "execute_result"
    }
   ],
   "source": [
    "def pow(x, n):\n",
    "    if not n: \n",
    "        return 1\n",
    "    if n < 0: \n",
    "        return 1 / pow(x, -n)\n",
    "    if n % 2:\n",
    "        return x * pow(x, n - 1)\n",
    "    return  pow(x*x, n / 2)\n",
    "\n",
    "pow(2, 9)"
   ]
  },
  {
   "cell_type": "code",
   "execution_count": 8,
   "metadata": {},
   "outputs": [
    {
     "name": "stdout",
     "output_type": "stream",
     "text": [
      "3\n",
      "2\n",
      "Counter({3: 2, 2: 1})\n"
     ]
    },
    {
     "data": {
      "text/plain": [
       "3"
      ]
     },
     "execution_count": 8,
     "metadata": {},
     "output_type": "execute_result"
    }
   ],
   "source": [
    "nums = [3, 2, 3]\n",
    "import collections\n",
    "def majorityElement(nums):\n",
    "    counts = collections.Counter(nums)\n",
    "    for i in counts.keys():\n",
    "    return max(counts.keys(), key=counts.get)\n",
    "majorityElement(nums)"
   ]
  },
  {
   "cell_type": "code",
   "execution_count": 13,
   "metadata": {},
   "outputs": [
    {
     "data": {
      "text/plain": [
       "3"
      ]
     },
     "execution_count": 13,
     "metadata": {},
     "output_type": "execute_result"
    }
   ],
   "source": [
    "class Solution:\n",
    "    def majorityElement(self, nums, lo=0, hi=None):\n",
    "        def majority_element_rec(lo, hi):\n",
    "            # base case; the only element in an array of size 1 is the majority\n",
    "            # element.\n",
    "            if lo == hi:\n",
    "                return nums[lo]\n",
    "\n",
    "            # recurse on left and right halves of this slice.\n",
    "            mid = (hi-lo)//2 + lo\n",
    "            left = majority_element_rec(lo, mid)\n",
    "            right = majority_element_rec(mid+1, hi)\n",
    "\n",
    "            # if the two halves agree on the majority element, return it.\n",
    "            if left == right:\n",
    "                return left\n",
    "\n",
    "            # otherwise, count each element and return the \"winner\".\n",
    "            left_count = sum(1 for i in range(lo, hi+1) if nums[i] == left)\n",
    "            right_count = sum(1 for i in range(lo, hi+1) if nums[i] == right)\n",
    "\n",
    "            return left if left_count >= right_count else right\n",
    "\n",
    "        return majority_element_rec(0, len(nums)-1)\n",
    "    \n",
    "nums = [1, 3, 3, 2, 3]\n",
    "Solution().majorityElement(nums)"
   ]
  },
  {
   "cell_type": "code",
   "execution_count": null,
   "metadata": {},
   "outputs": [],
   "source": [
    "def BFS(graph, start, end):\n",
    "    \n",
    "    queue = []\n",
    "    queue.append(start)\n",
    "    visited.add(start)  # visited是集合，标记该结点已经访问过\n",
    "    \n",
    "    while queue:\n",
    "        node = queue.pop()\n",
    "        visited.add(node)  # 标记结点已经访问过\n",
    "        \n",
    "        process(node) # 操作结点\n",
    "        nodes = generate_relate_node(node)  # 1、查找结点的后继结点，2、后继结点没有访问过则取出\n",
    "        queue.push(nodes)\n",
    "        \n",
    "        "
   ]
  },
  {
   "cell_type": "code",
   "execution_count": null,
   "metadata": {},
   "outputs": [],
   "source": [
    "visited = set()\n",
    "def dfs(node, visited):\n",
    "    vistied.add(node):\n",
    "        # process current node here\n",
    "        ...\n",
    "        for next_node in node_children():\n",
    "            if not next_node in visited:\n",
    "                dfs(next_node, visited)\n",
    "                "
   ]
  },
  {
   "cell_type": "code",
   "execution_count": 134,
   "metadata": {},
   "outputs": [
    {
     "ename": "TypeError",
     "evalue": "talk() missing 1 required positional argument: 'self'",
     "output_type": "error",
     "traceback": [
      "\u001b[1;31m---------------------------------------------------------------------------\u001b[0m",
      "\u001b[1;31mTypeError\u001b[0m                                 Traceback (most recent call last)",
      "\u001b[1;32m<ipython-input-134-6136722c8a33>\u001b[0m in \u001b[0;36m<module>\u001b[1;34m\u001b[0m\n\u001b[0;32m      5\u001b[0m     \u001b[1;32mdef\u001b[0m \u001b[0mtalk\u001b[0m\u001b[1;33m(\u001b[0m\u001b[0mself\u001b[0m\u001b[1;33m)\u001b[0m\u001b[1;33m:\u001b[0m\u001b[1;33m\u001b[0m\u001b[1;33m\u001b[0m\u001b[0m\n\u001b[0;32m      6\u001b[0m         \u001b[0mprint\u001b[0m\u001b[1;33m(\u001b[0m\u001b[1;34m'test'\u001b[0m\u001b[1;33m)\u001b[0m\u001b[1;33m\u001b[0m\u001b[1;33m\u001b[0m\u001b[0m\n\u001b[1;32m----> 7\u001b[1;33m \u001b[0mTalker\u001b[0m\u001b[1;33m.\u001b[0m\u001b[0mtalk\u001b[0m\u001b[1;33m(\u001b[0m\u001b[1;33m)\u001b[0m\u001b[1;33m\u001b[0m\u001b[1;33m\u001b[0m\u001b[0m\n\u001b[0m",
      "\u001b[1;31mTypeError\u001b[0m: talk() missing 1 required positional argument: 'self'"
     ]
    }
   ],
   "source": [
    "from abc import ABC, abstractmethod                                                                                  \n",
    "\n",
    "class Talker(ABC): \n",
    "    @abstractmethod \n",
    "    def talk(self): \n",
    "        print('test') \n",
    "Talker.talk()"
   ]
  },
  {
   "cell_type": "code",
   "execution_count": 135,
   "metadata": {},
   "outputs": [
    {
     "data": {
      "text/plain": [
       "['cc fdsf fdf']"
      ]
     },
     "execution_count": 135,
     "metadata": {},
     "output_type": "execute_result"
    }
   ],
   "source": [
    "'cc fdsf fdf'.split('\\r\\n')"
   ]
  }
 ],
 "metadata": {
  "kernelspec": {
   "display_name": "Python 3",
   "language": "python",
   "name": "python3"
  },
  "language_info": {
   "codemirror_mode": {
    "name": "ipython",
    "version": 3
   },
   "file_extension": ".py",
   "mimetype": "text/x-python",
   "name": "python",
   "nbconvert_exporter": "python",
   "pygments_lexer": "ipython3",
   "version": "3.7.6"
  }
 },
 "nbformat": 4,
 "nbformat_minor": 4
}
