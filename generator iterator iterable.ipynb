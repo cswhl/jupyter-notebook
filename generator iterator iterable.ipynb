{
 "cells": [
  {
   "cell_type": "code",
   "execution_count": 21,
   "metadata": {},
   "outputs": [],
   "source": [
    "def nats(n):\n",
    "    yield n\n",
    "    print('first')\n",
    "    yield from nats(n+1) # 等于for i in nat(n+1): yield i; \n",
    "    print('second') # nats递归,永远不会运行到此处\n",
    "s = nats(2)"
   ]
  },
  {
   "cell_type": "code",
   "execution_count": 22,
   "metadata": {},
   "outputs": [
    {
     "data": {
      "text/plain": [
       "2"
      ]
     },
     "execution_count": 22,
     "metadata": {},
     "output_type": "execute_result"
    }
   ],
   "source": [
    "next(s)"
   ]
  },
  {
   "cell_type": "code",
   "execution_count": 31,
   "metadata": {},
   "outputs": [],
   "source": [
    "def sieve(s):\n",
    "    n = next(s)\n",
    "    yield n\n",
    "    yield from sieve(i for i in s if i % n != 0)\n",
    "p = sieve(nats(2))"
   ]
  },
  {
   "cell_type": "code",
   "execution_count": 41,
   "metadata": {},
   "outputs": [
    {
     "name": "stdout",
     "output_type": "stream",
     "text": [
      "first\n",
      "first\n",
      "first\n",
      "first\n",
      "first\n",
      "first\n"
     ]
    },
    {
     "data": {
      "text/plain": [
       "29"
      ]
     },
     "execution_count": 41,
     "metadata": {},
     "output_type": "execute_result"
    }
   ],
   "source": [
    "next(p)"
   ]
  },
  {
   "cell_type": "code",
   "execution_count": 19,
   "metadata": {},
   "outputs": [
    {
     "name": "stdout",
     "output_type": "stream",
     "text": [
      "['A', 'B', 'C', 1, 2, 3, 'name', 'age', 4, 5, 6, 7]\n"
     ]
    }
   ],
   "source": [
    "astr='ABC'\n",
    "# 列表\n",
    "alist=[1,2,3]\n",
    "# 字典\n",
    "adict={\"name\":\"wangbm\",\"age\":18}\n",
    "# 生成器\n",
    "agen=(i for i in range(4,8))\n",
    "\n",
    "def gen(*args, **kw):\n",
    "    for item in args:\n",
    "        yield from item #相对与注释掉的语句更简洁\n",
    "new_list=gen(astr, alist, adict, agen)\n",
    "print(list(new_list))"
   ]
  }
 ],
 "metadata": {
  "kernelspec": {
   "display_name": "Python 3",
   "language": "python",
   "name": "python3"
  },
  "language_info": {
   "codemirror_mode": {
    "name": "ipython",
    "version": 3
   },
   "file_extension": ".py",
   "mimetype": "text/x-python",
   "name": "python",
   "nbconvert_exporter": "python",
   "pygments_lexer": "ipython3",
   "version": "3.7.6"
  }
 },
 "nbformat": 4,
 "nbformat_minor": 4
}
