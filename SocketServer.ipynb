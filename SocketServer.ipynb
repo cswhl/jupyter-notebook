{
 "cells": [
  {
   "cell_type": "code",
   "execution_count": 60,
   "metadata": {},
   "outputs": [
    {
     "name": "stderr",
     "output_type": "stream",
     "text": [
      "Exception in thread Thread-67:\n",
      "Traceback (most recent call last):\n",
      "  File \"D:\\application\\Anaconda3\\lib\\threading.py\", line 926, in _bootstrap_inner\n",
      "    self.run()\n",
      "  File \"D:\\application\\Anaconda3\\lib\\threading.py\", line 870, in run\n",
      "    self._target(*self._args, **self._kwargs)\n",
      "  File \"<ipython-input-60-9481e6ef9a03>\", line 6, in producer\n",
      "    while running:\n",
      "NameError: name 'running' is not defined\n",
      "\n"
     ]
    }
   ],
   "source": [
    "from queue import Queue\n",
    "from threading import Thread\n",
    "\n",
    "# A thread that produces data\n",
    "def producer(out_q):\n",
    "    while running:\n",
    "        # Produce some data\n",
    "        ...\n",
    "        out_q.put(data)\n",
    "\n",
    "# A thread that consumes data\n",
    "def consumer(in_q):\n",
    "    while True:\n",
    "        # Get some data\n",
    "        data = in_q.get()\n",
    "\n",
    "        # Process the data\n",
    "        ...\n",
    "        # Indicate completion\n",
    "        in_q.task_done()\n",
    "\n",
    "# Create the shared queue and launch both threads\n",
    "q = Queue()\n",
    "t1 = Thread(target=consumer, args=(q,))\n",
    "t2 = Thread(target=producer, args=(q,))\n",
    "t1.start()\n",
    "t2.start()\n",
    "\n",
    "# Wait for all produced items to be consumed\n",
    "q.join()"
   ]
  },
  {
   "cell_type": "code",
   "execution_count": 59,
   "metadata": {},
   "outputs": [],
   "source": [
    "sema.release()"
   ]
  }
 ],
 "metadata": {
  "kernelspec": {
   "display_name": "Python 3",
   "language": "python",
   "name": "python3"
  },
  "language_info": {
   "codemirror_mode": {
    "name": "ipython",
    "version": 3
   },
   "file_extension": ".py",
   "mimetype": "text/x-python",
   "name": "python",
   "nbconvert_exporter": "python",
   "pygments_lexer": "ipython3",
   "version": "3.7.6"
  }
 },
 "nbformat": 4,
 "nbformat_minor": 4
}
