{
 "cells": [
  {
   "cell_type": "markdown",
   "metadata": {},
   "source": [
    "[struct](https://docs.python.org/3/library/struct.html)"
   ]
  },
  {
   "cell_type": "code",
   "execution_count": 4,
   "metadata": {},
   "outputs": [
    {
     "name": "stdout",
     "output_type": "stream",
     "text": [
      "b'\\x19\\x00\\x00\\x00'\n",
      "(25,)\n",
      "b'\\x02'\n",
      "(2,)\n"
     ]
    }
   ],
   "source": [
    "import struct\n",
    "\n",
    "p_data = struct.pack('i', 25) \n",
    "print(p_data)\n",
    "print(struct.unpack('i', p_data))\n",
    "\n",
    "p1_data = struct.pack('B', 2)\n",
    "print(p1_data)\n",
    "print(struct.unpack('B', p1_data))"
   ]
  }
 ],
 "metadata": {
  "kernelspec": {
   "display_name": "Python 3",
   "language": "python",
   "name": "python3"
  },
  "language_info": {
   "codemirror_mode": {
    "name": "ipython",
    "version": 3
   },
   "file_extension": ".py",
   "mimetype": "text/x-python",
   "name": "python",
   "nbconvert_exporter": "python",
   "pygments_lexer": "ipython3",
   "version": "3.7.6"
  }
 },
 "nbformat": 4,
 "nbformat_minor": 4
}
