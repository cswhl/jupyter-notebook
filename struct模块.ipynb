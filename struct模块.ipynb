{
 "cells": [
  {
   "cell_type": "markdown",
   "metadata": {},
   "source": [
    "[struct](https://docs.python.org/3/library/struct.html)"
   ]
  },
  {
   "cell_type": "code",
   "execution_count": 21,
   "metadata": {},
   "outputs": [
    {
     "name": "stdout",
     "output_type": "stream",
     "text": [
      "b'\\x19\\x00\\x00\\x00'\n",
      "(25,)\n",
      "b'\\x02'\n",
      "(2,)\n",
      "1\n"
     ]
    }
   ],
   "source": [
    "import struct\n",
    "\n",
    "p_data = struct.pack('i', 25) \n",
    "print(p_data)\n",
    "print(struct.unpack('i', p_data))\n",
    "\n",
    "p1_data = struct.pack('B', 2)\n",
    "print(p1_data)\n",
    "print(struct.unpack('B', p1_data))\n",
    "print(struct.calcsize('B'))  # 长度为一个字节"
   ]
  },
  {
   "cell_type": "code",
   "execution_count": 20,
   "metadata": {},
   "outputs": [
    {
     "name": "stdout",
     "output_type": "stream",
     "text": [
      "0.1463956000006874\n",
      "0.08819799999764655\n",
      "0.1185951000006753\n"
     ]
    }
   ],
   "source": [
    "import timeit\n",
    "print(timeit.timeit('bytes([255])', number=1000000))\n",
    "print(timeit.timeit('struct.pack(\"B\", 255)', setup='import struct', number=1000000))\n",
    "print(timeit.timeit('(255).to_bytes(1, byteorder=\"little\")', number=1000000))"
   ]
  },
  {
   "cell_type": "code",
   "execution_count": 22,
   "metadata": {},
   "outputs": [
    {
     "name": "stdout",
     "output_type": "stream",
     "text": [
      "b'\\xd2\\x02\\x96I'\n",
      "(1234567890,)\n"
     ]
    },
    {
     "data": {
      "text/plain": [
       "4"
      ]
     },
     "execution_count": 22,
     "metadata": {},
     "output_type": "execute_result"
    }
   ],
   "source": [
    "p_data = struct.pack('i', 1234567890) # struct.pack.format为\"i\"时，只能打包长度为10的数字，超过10位便异常\n",
    "print(p_data)\n",
    "print(struct.unpack('i', p_data))\n",
    "struct.calcsize('i') # 一个'i'转换后的长度为4，2个'i'则为8"
   ]
  },
  {
   "cell_type": "code",
   "execution_count": 14,
   "metadata": {
    "scrolled": true
   },
   "outputs": [
    {
     "name": "stdout",
     "output_type": "stream",
     "text": [
      "b'\\x01\\x00\\x02\\x00\\x03\\x00\\x00\\x00'\n",
      "(1, 2, 3)\n"
     ]
    },
    {
     "data": {
      "text/plain": [
       "8"
      ]
     },
     "execution_count": 14,
     "metadata": {},
     "output_type": "execute_result"
    }
   ],
   "source": [
    "data = struct.pack('hhl', 1, 2, 3)\n",
    "print(data) # 'hhl'分别是1,2,3的转换格式\n",
    "print(struct.unpack('hhl', data))\n",
    "struct.calcsize('hhl') # 以'hhl'格式转换得到的字节串长度"
   ]
  },
  {
   "cell_type": "code",
   "execution_count": 44,
   "metadata": {},
   "outputs": [
    {
     "name": "stdout",
     "output_type": "stream",
     "text": [
      "b'\\x124Vx'\n",
      "b'xV4\\x12'\n"
     ]
    }
   ],
   "source": [
    "print(struct.pack('>i', 0x12345678)) # 大端模式, 地址从低到高，数据位从高到低\n",
    "print(struct.pack('<i', 0x12345678)) # 小端模式"
   ]
  },
  {
   "cell_type": "code",
   "execution_count": 38,
   "metadata": {},
   "outputs": [
    {
     "name": "stdout",
     "output_type": "stream",
     "text": [
      "b'abc'\n",
      "b'abc'\n"
     ]
    }
   ],
   "source": [
    "print(struct.pack('ccc', b'a', b'b', b'c'))\n",
    "print(struct.pack('3s', b'abc')) # 对于's'格式，之前的数字被解释为bytes的长度"
   ]
  },
  {
   "cell_type": "code",
   "execution_count": 89,
   "metadata": {},
   "outputs": [
    {
     "name": "stdout",
     "output_type": "stream",
     "text": [
      "b'\\x08\\x00\\x00\\x00'\n",
      "b'\\x08\\x00\\x00\\x00'\n"
     ]
    }
   ],
   "source": [
    "print(struct.pack('i',len('a string'))) # 将字符串的长度转为固定长度为4的字节串\n",
    "print(struct.pack('i',len(b'a string'))) # 将字节串的长度转为固定长度为4的字节串"
   ]
  },
  {
   "cell_type": "code",
   "execution_count": 69,
   "metadata": {},
   "outputs": [
    {
     "name": "stdout",
     "output_type": "stream",
     "text": [
      "b''\n",
      "b'cc\\x00\\x00\\x19\\x00\\x00\\x00'\n"
     ]
    },
    {
     "data": {
      "text/plain": [
       "(b'cc', 25)"
      ]
     },
     "execution_count": 69,
     "metadata": {},
     "output_type": "execute_result"
    }
   ],
   "source": [
    "import ctypes\n",
    "\n",
    "data = (b'cc', 25)\n",
    "buf = ctypes.create_string_buffer(struct.calcsize('2si'))\n",
    "print(buf.value)\n",
    "struct.pack_into('2si', buf, 0, *data)\n",
    "print(buf.raw)\n",
    "struct.unpack_from('2si', buf, 0)"
   ]
  },
  {
   "cell_type": "code",
   "execution_count": 56,
   "metadata": {},
   "outputs": [
    {
     "data": {
      "text/plain": [
       "(b'cc', 25)"
      ]
     },
     "execution_count": 56,
     "metadata": {},
     "output_type": "execute_result"
    }
   ],
   "source": [
    "import array\n",
    "\n",
    "data = (b'cc', 25)\n",
    "buf = array.array('B',[0]*struct.calcsize('2si'))\n",
    "struct.pack_into('2si', buf, 0, *data)\n",
    "struct.unpack_from('2si', buf, 0)"
   ]
  },
  {
   "cell_type": "code",
   "execution_count": 71,
   "metadata": {},
   "outputs": [
    {
     "data": {
      "text/plain": [
       "(b'ccc', 25, 38)"
      ]
     },
     "execution_count": 71,
     "metadata": {},
     "output_type": "execute_result"
    }
   ],
   "source": [
    "data = (b'ccc', 25, 38)\n",
    "buf = bytearray(struct.calcsize('3s2i'))\n",
    "struct.pack_into('3s2i', buf, 0, *data)\n",
    "struct.unpack_from('3s2i', buf, 0)"
   ]
  },
  {
   "cell_type": "code",
   "execution_count": 82,
   "metadata": {},
   "outputs": [
    {
     "name": "stdout",
     "output_type": "stream",
     "text": [
      "(b'ccc', 25, 38)\n",
      "(b'cze', 10)\n"
     ]
    }
   ],
   "source": [
    "data = (b'ccc', 25, 38)\n",
    "data_format = '3s2i'\n",
    "\n",
    "data2 = (b'cze', 10)\n",
    "data2_format = '3si'\n",
    "buf = bytearray(struct.calcsize(data_format) + struct.calcsize(data2_format))\n",
    "struct.pack_into(data_format, buf, 0, *data)\n",
    "struct.pack_into(data2_format, buf, struct.calcsize(data_format), *data2)\n",
    "\n",
    "print(struct.unpack_from(data_format, buf, 0))\n",
    "print(struct.unpack_from(data2_format, buf, struct.calcsize(data_format)))"
   ]
  },
  {
   "cell_type": "code",
   "execution_count": 84,
   "metadata": {},
   "outputs": [
    {
     "name": "stdout",
     "output_type": "stream",
     "text": [
      "(b'ccc', 25, 38)\n",
      "(b'cze', 10)\n"
     ]
    }
   ],
   "source": [
    "import struct\n",
    "\n",
    "data = (b'ccc', 25, 38)\n",
    "data2 = (b'cze', 10)\n",
    "\n",
    "s1_obj = struct.Struct('3s2i')\n",
    "s2_obj = struct.Struct('3si')\n",
    "\n",
    "buf = bytearray(s1_obj.size + s2_obj.size)\n",
    "\n",
    "s1_obj.pack_into(buf, 0, *data)\n",
    "s2_obj.pack_into(buf, s1_obj.size, *data2)\n",
    "\n",
    "print(s1_obj.unpack_from(buf, 0))\n",
    "print(s2_obj.unpack_from(buf, s1_obj.size))"
   ]
  }
 ],
 "metadata": {
  "kernelspec": {
   "display_name": "Python 3",
   "language": "python",
   "name": "python3"
  },
  "language_info": {
   "codemirror_mode": {
    "name": "ipython",
    "version": 3
   },
   "file_extension": ".py",
   "mimetype": "text/x-python",
   "name": "python",
   "nbconvert_exporter": "python",
   "pygments_lexer": "ipython3",
   "version": "3.7.6"
  }
 },
 "nbformat": 4,
 "nbformat_minor": 4
}
