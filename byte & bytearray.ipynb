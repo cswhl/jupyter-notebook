{
 "cells": [
  {
   "cell_type": "code",
   "execution_count": 8,
   "metadata": {},
   "outputs": [
    {
     "name": "stdout",
     "output_type": "stream",
     "text": [
      "bytearray(b'')\n",
      "bytearray(b'')\n",
      "bytearray(b'\\x00\\x00\\x00\\x00\\x00')\n",
      "bytearray(b'\\x02\\x04')\n",
      "bytearray(b'1234')\n"
     ]
    }
   ],
   "source": [
    "print(bytearray())  # 创建空实例\n",
    "print(bytearray(b'')) # 创建实例\n",
    "print(bytearray(5))   # 创建长度为5，以0填充的实例\n",
    "print(bytearray([2,4])) # 以可迭代对象创建实例\n",
    "print(bytearray(b'1234')) # 从缓冲区复制现有字节串创建实例"
   ]
  },
  {
   "cell_type": "code",
   "execution_count": 14,
   "metadata": {
    "scrolled": true
   },
   "outputs": [
    {
     "name": "stdout",
     "output_type": "stream",
     "text": [
      "bytearray(b'\\x08\\x03\\x05\\x07\\t')\n",
      "bytearray(b'\\x08\\x03\\x05\\x07\\t\\n')\n"
     ]
    }
   ],
   "source": [
    "ba = bytearray((1,3,5,7,9))\n",
    "ba[0]= 8\n",
    "print(ba)\n",
    "ba.append(10) # 似乎只能是整数\n",
    "print(ba)"
   ]
  },
  {
   "cell_type": "code",
   "execution_count": 21,
   "metadata": {},
   "outputs": [
    {
     "name": "stdout",
     "output_type": "stream",
     "text": [
      "bytearray(b'\\xb9\\x01\\xef')\n",
      "b901ef\n"
     ]
    }
   ],
   "source": [
    "print(bytearray.fromhex('B9 01EF')) # str => bytearray\n",
    "print(bytearray(b'\\xb9\\x01\\xef').hex()) # bytearray => str"
   ]
  },
  {
   "cell_type": "code",
   "execution_count": 23,
   "metadata": {},
   "outputs": [
    {
     "data": {
      "text/plain": [
       "array('b', [1, 2, 3])"
      ]
     },
     "execution_count": 23,
     "metadata": {},
     "output_type": "execute_result"
    }
   ],
   "source": [
    "from array import array\n",
    "array('b', [1, 2, 3])"
   ]
  },
  {
   "cell_type": "code",
   "execution_count": 1,
   "metadata": {},
   "outputs": [
    {
     "data": {
      "text/plain": [
       "b'1234'"
      ]
     },
     "execution_count": 1,
     "metadata": {},
     "output_type": "execute_result"
    }
   ],
   "source": [
    "b'12' + b'34' # bytes支持连接"
   ]
  },
  {
   "cell_type": "code",
   "execution_count": 3,
   "metadata": {},
   "outputs": [
    {
     "data": {
      "text/plain": [
       "'b\"12\"'"
      ]
     },
     "execution_count": 3,
     "metadata": {},
     "output_type": "execute_result"
    }
   ],
   "source": [
    "f'b\"12\"' # 使用f-stringbo"
   ]
  },
  {
   "cell_type": "code",
   "execution_count": null,
   "metadata": {},
   "outputs": [],
   "source": [
    "#"
   ]
  }
 ],
 "metadata": {
  "kernelspec": {
   "display_name": "Python 3",
   "language": "python",
   "name": "python3"
  },
  "language_info": {
   "codemirror_mode": {
    "name": "ipython",
    "version": 3
   },
   "file_extension": ".py",
   "mimetype": "text/x-python",
   "name": "python",
   "nbconvert_exporter": "python",
   "pygments_lexer": "ipython3",
   "version": "3.7.6"
  }
 },
 "nbformat": 4,
 "nbformat_minor": 4
}
