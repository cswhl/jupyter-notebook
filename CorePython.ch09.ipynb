{
 "cells": [
  {
   "cell_type": "code",
   "execution_count": 2,
   "metadata": {},
   "outputs": [
    {
     "ename": "ModuleNotFoundError",
     "evalue": "No module named 'HTMLParser'",
     "output_type": "error",
     "traceback": [
      "\u001b[1;31m---------------------------------------------------------------------------\u001b[0m",
      "\u001b[1;31mModuleNotFoundError\u001b[0m                       Traceback (most recent call last)",
      "\u001b[1;32m<ipython-input-2-35a1d5bbed91>\u001b[0m in \u001b[0;36m<module>\u001b[1;34m\u001b[0m\n\u001b[0;32m      1\u001b[0m \u001b[1;31m#!/usr/bin/env python\u001b[0m\u001b[1;33m\u001b[0m\u001b[1;33m\u001b[0m\u001b[1;33m\u001b[0m\u001b[0m\n\u001b[0;32m      2\u001b[0m \u001b[1;33m\u001b[0m\u001b[0m\n\u001b[1;32m----> 3\u001b[1;33m \u001b[1;32mfrom\u001b[0m \u001b[0mHTMLParser\u001b[0m \u001b[1;32mimport\u001b[0m \u001b[0mHTMLParser\u001b[0m\u001b[1;33m\u001b[0m\u001b[1;33m\u001b[0m\u001b[0m\n\u001b[0m\u001b[0;32m      4\u001b[0m \u001b[1;32mfrom\u001b[0m \u001b[0mcStringIO\u001b[0m \u001b[1;32mimport\u001b[0m \u001b[0mStringIO\u001b[0m\u001b[1;33m\u001b[0m\u001b[1;33m\u001b[0m\u001b[0m\n\u001b[0;32m      5\u001b[0m \u001b[1;32mfrom\u001b[0m \u001b[0murllib2\u001b[0m \u001b[1;32mimport\u001b[0m \u001b[0murlopen\u001b[0m\u001b[1;33m\u001b[0m\u001b[1;33m\u001b[0m\u001b[0m\n",
      "\u001b[1;31mModuleNotFoundError\u001b[0m: No module named 'HTMLParser'"
     ]
    }
   ],
   "source": [
    "#!/usr/bin/env python\n",
    "\n",
    "from HTMLParser. import HTMLParser\n",
    "from cStringIO import StringIO\n",
    "from urllib2 import urlopen\n",
    "from urlparse import urljoin\n",
    "\n",
    "from BeautifulSoup import BeautifulSoup, SoupStrainer\n",
    "from html5lib import parse, treebuilders\n",
    "\n",
    "URLS = (\n",
    "    'http://python.org',\n",
    "    'http://google.com',\n",
    ")\n",
    "\n",
    "def output(x):\n",
    "    print('\\n'.join(sorted(set(x))))\n",
    "\n",
    "def simpleBS(url, f):\n",
    "    'simpleBS() - use BeautifulSoup to parse all tags to get anchors'\n",
    "    output(urljoin(url, x['href']) for x in BeautifulSoup(\n",
    "        f).findAll('a'))\n",
    "\n",
    "def fasterBS(url, f):\n",
    "    'fasterBS() - use BeautifulSoup to parse only anchor tags'\n",
    "    output(urljoin(url, x['href']) for x in BeautifulSoup(\n",
    "        f, parseOnlyThese=SoupStrainer('a')))\n",
    "\n",
    "def htmlparser(url, f):\n",
    "    'htmlparser() - use HTMLParser to parse anchor tags'\n",
    "    class AnchorParser(HTMLParser):\n",
    "        def handle_starttag(self, tag, attrs):\n",
    "            if tag != 'a':\n",
    "                return\n",
    "            if not hasattr(self, 'data'):\n",
    "                self.data = []\n",
    "            for attr in attrs:\n",
    "                if attr[0] == 'href':\n",
    "                    self.data.append(attr[1])\n",
    "    parser = AnchorParser()\n",
    "    parser.feed(f.read())\n",
    "    output(urljoin(url, x) for x in parser.data)\n",
    "\n",
    "def html5libparse(url, f):\n",
    "    'html5libparse() - use html5lib to parse anchor tags'\n",
    "    output(urljoin(url, x.attributes['href']) \\\n",
    "        for x in parse(f) if isinstance(x,\n",
    "        treebuilders.simpletree.Element) and \\\n",
    "        x.name == 'a')\n",
    "\n",
    "def process(url, data):\n",
    "    print('\\n*** simple BS')\n",
    "    simpleBS(url, data)\n",
    "    data.seek(0)\n",
    "    print('\\n*** faster BS')\n",
    "    fasterBS(url, data)\n",
    "    data.seek(0)\n",
    "    print('\\n*** HTMLParser')\n",
    "    htmlparser(url, data)\n",
    "    data.seek(0)\n",
    "    print('\\n*** HTML5lib')\n",
    "    html5libparse(url, data)\n",
    "\n",
    "def main():\n",
    "    for url in URLS:\n",
    "        f = urlopen(url)\n",
    "        data = StringIO(f.read())\n",
    "        f.close()\n",
    "        process(url, data)\n",
    "\n",
    "if __name__ == '__main__':\n",
    "    main()"
   ]
  }
 ],
 "metadata": {
  "kernelspec": {
   "display_name": "Python 3",
   "language": "python",
   "name": "python3"
  },
  "language_info": {
   "codemirror_mode": {
    "name": "ipython",
    "version": 3
   },
   "file_extension": ".py",
   "mimetype": "text/x-python",
   "name": "python",
   "nbconvert_exporter": "python",
   "pygments_lexer": "ipython3",
   "version": "3.7.6"
  }
 },
 "nbformat": 4,
 "nbformat_minor": 4
}
