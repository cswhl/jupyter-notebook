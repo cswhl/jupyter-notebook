{
 "cells": [
  {
   "cell_type": "code",
   "execution_count": 2,
   "metadata": {},
   "outputs": [
    {
     "name": "stdout",
     "output_type": "stream",
     "text": [
      "['__class__', '__del__', '__delattr__', '__dict__', '__dir__', '__doc__', '__enter__', '__eq__', '__exit__', '__format__', '__ge__', '__getattribute__', '__gt__', '__hash__', '__init__', '__init_subclass__', '__le__', '__lt__', '__module__', '__ne__', '__new__', '__reduce__', '__reduce_ex__', '__repr__', '__setattr__', '__sizeof__', '__str__', '__subclasshook__', '__weakref__', '_check_timeout', '_child_created', '_closed_child_pipe_fds', '_communicate', '_communication_started', '_execute_child', '_filter_handle_list', '_get_devnull', '_get_handles', '_handle', '_input', '_internal_poll', '_make_inheritable', '_readerthread', '_remaining_time', '_sigint_wait_secs', '_stdin_write', '_translate_newlines', '_wait', '_waitpid_lock', 'args', 'communicate', 'encoding', 'errors', 'kill', 'pid', 'poll', 'returncode', 'send_signal', 'stderr', 'stdin', 'stdout', 'terminate', 'text_mode', 'universal_newlines', 'wait']\n",
      "('hello\\n', '')\n"
     ]
    }
   ],
   "source": [
    "import subprocess\n",
    "\n",
    "p4 = subprocess.Popen([\"python\"], stdout=subprocess.PIPE,\n",
    "                      stdin=subprocess.PIPE, stderr=subprocess.PIPE, universal_newlines=True)\n",
    "print(dir(p4))\n",
    "p4.stdin.write(\"print('hello')\")\n",
    "output = p4.communicate()\n",
    "print(output)       # 结果：('hello\\n', '')"
   ]
  },
  {
   "cell_type": "code",
   "execution_count": 3,
   "metadata": {
    "scrolled": true
   },
   "outputs": [
    {
     "name": "stdout",
     "output_type": "stream",
     "text": [
      "out=environ({'ALLUSERSPROFILE': 'C:\\\\ProgramData', 'APPDATA': 'C:\\\\Users\\\\cs\\\\AppData\\\\Roaming', 'BADUK': 'D:\\\\application\\\\AiGo', 'CLICOLOR': '1', 'COMMONPROGRAMFILES': 'C:\\\\Program Files\\\\Common Files', 'COMMONPROGRAMFILES(X86)': 'C:\\\\Program Files (x86)\\\\Common Files', 'COMMONPROGRAMW6432': 'C:\\\\Program Files\\\\Common Files', 'COMPUTERNAME': 'CSPC', 'COMSPEC': 'C:\\\\WINDOWS\\\\system32\\\\cmd.exe', 'DRIVERDATA': 'C:\\\\Windows\\\\System32\\\\Drivers\\\\DriverData', 'GIT_PAGER': 'cat', 'HOME': 'C:\\\\home', 'HOMEDRIVE': 'C:', 'HOMEPATH': '\\\\Users\\\\cs', 'INCLUDE': 'D:\\\\program_soft\\\\VC98\\\\atl\\\\include;D:\\\\program_soft\\\\VC98\\\\mfc\\\\include;D:\\\\program_soft\\\\VC98\\\\include', 'ISUPDATE': 'Y', 'LIB': 'D:\\\\program_soft\\\\VC98\\\\mfc\\\\lib;D:\\\\program_soft\\\\VC98\\\\lib', 'LOCALAPPDATA': 'C:\\\\Users\\\\cs\\\\AppData\\\\Local', 'LOGONSERVER': '\\\\\\\\CSPC', 'LZVER': '275', 'MPLBACKEND': 'module://ipykernel.pylab.backend_inline', 'MPVER': '200824', 'MSDEVDIR': 'D:\\\\program_soft\\\\VC++ 6.0\\\\MSDev98', 'NUMBER_OF_PROCESSORS': '4', 'ONEDRIVE': 'C:\\\\Users\\\\cs\\\\OneDrive', 'OS': 'Windows_NT', 'PAGER': 'cat', 'PATH': 'D:\\\\application\\\\Anaconda3;D:\\\\application\\\\Anaconda3\\\\Library\\\\mingw-w64\\\\bin;D:\\\\application\\\\Anaconda3\\\\Library\\\\usr\\\\bin;D:\\\\application\\\\Anaconda3\\\\Library\\\\bin;D:\\\\application\\\\Anaconda3\\\\Scripts;C:\\\\Program Files (x86)\\\\Common Files\\\\Oracle\\\\Java\\\\javapath;D:\\\\application\\\\Xshell6\\\\;C:\\\\Program Files (x86)\\\\STMicroelectronics\\\\st_toolset\\\\asm;C:\\\\Program Files (x86)\\\\Intel\\\\iCLS Client\\\\;C:\\\\Program Files\\\\Intel\\\\iCLS Client\\\\;C:\\\\WINDOWS\\\\system32;C:\\\\WINDOWS;C:\\\\WINDOWS\\\\System32\\\\Wbem;C:\\\\WINDOWS\\\\System32\\\\WindowsPowerShell\\\\v1.0\\\\;C:\\\\Program Files (x86)\\\\Intel\\\\Intel(R) Management Engine Components\\\\DAL;C:\\\\Program Files\\\\Intel\\\\Intel(R) Management Engine Components\\\\DAL;C:\\\\Program Files (x86)\\\\Intel\\\\Intel(R) Management Engine Components\\\\IPT;C:\\\\Program Files\\\\Intel\\\\Intel(R) Management Engine Components\\\\IPT;C:\\\\WINDOWS\\\\System32\\\\OpenSSH\\\\;D:\\\\application\\\\GAME\\\\W3MapHackghfvs531\\\\W3MapHackghfvs531;D:\\\\application\\\\python2.7.18;D:\\\\application\\\\pyhon3.6;D:\\\\application\\\\Notepad++;C:\\\\Program Files (x86)\\\\Renesas\\\\Hew\\\\hmake.exe;C:\\\\Program Files (x86)\\\\AirPinPcSender;D:\\\\python;D:\\\\Shortcut;D:\\\\application\\\\Vim\\\\vim81;D:\\\\application\\\\Vim\\\\vim81\\\\exe;D:\\\\application\\\\MinGW\\\\mingw32\\\\bin;D:\\\\application\\\\Git\\\\cmd;D:\\\\application\\\\PuTTY\\\\;C:\\\\Program Files (x86)\\\\Windows Kits\\\\8.1\\\\Windows Performance Toolkit\\\\;D:\\\\application\\\\Anaconda3\\\\envs\\\\py_django\\\\Lib\\\\site-packages\\\\twisted\\\\scripts\\\\twistd.py;D:\\\\program_soft\\\\VC++ 6.0\\\\Tools\\\\WinNT;D:\\\\program_soft\\\\VC++ 6.0\\\\MSDev98\\\\Bin;D:\\\\program_soft\\\\VC++ 6.0\\\\Tools;D:\\\\program_soft\\\\VC98\\\\bin;C:\\\\Users\\\\cs\\\\AppData\\\\Local\\\\Microsoft\\\\WindowsApps;C:\\\\Program Files (x86)\\\\COSMIC\\\\CXSTM8_32K;D:\\\\PyCharm 2019.3.4\\\\bin;;%PyCharm Community Edition with Anaconda plugin%;D:\\\\application\\\\PyCharm Professional Edition with Anaconda plugin 2019.3.1\\\\bin;;D:\\\\application\\\\python2.7.18;D:\\\\application\\\\pyhon3.6\\\\;D:\\\\application\\\\pyhon3.6\\\\Scripts\\\\;D:\\\\application\\\\Anaconda3\\\\envs\\\\py_django\\\\Lib\\\\site-packages\\\\twisted\\\\scripts\\\\twistd.py;;D:\\\\application\\\\Fiddler;D:\\\\TOOLS\\\\Microsoft VS Code\\\\bin', 'PATHEXT': '.COM;.EXE;.BAT;.CMD;.VBS;.VBE;.JS;.JSE;.WSF;.WSH;.MSC;.PY;', 'PROCESSOR_ARCHITECTURE': 'AMD64', 'PROCESSOR_IDENTIFIER': 'Intel64 Family 6 Model 94 Stepping 3, GenuineIntel', 'PROCESSOR_LEVEL': '6', 'PROCESSOR_REVISION': '5e03', 'PROGRAMDATA': 'C:\\\\ProgramData', 'PROGRAMFILES': 'C:\\\\Program Files', 'PROGRAMFILES(X86)': 'C:\\\\Program Files (x86)', 'PROGRAMW6432': 'C:\\\\Program Files', 'PROMPT': '$P$G', 'PSMODULEPATH': 'C:\\\\Program Files\\\\WindowsPowerShell\\\\Modules;C:\\\\WINDOWS\\\\system32\\\\WindowsPowerShell\\\\v1.0\\\\Modules', 'PT7HOME': 'D:\\\\application\\\\Cisco Packet Tracer 7.2.2', 'PUBLIC': 'C:\\\\Users\\\\Public', 'PYCHARM': 'D:\\\\PyCharm 2019.3.4\\\\bin;', 'PYCHARM PROFESSIONAL EDITION WITH ANACONDA PLUGIN': 'D:\\\\application\\\\PyCharm Professional Edition with Anaconda plugin 2019.3.1\\\\bin;', 'QT_DEVICE_PIXEL_RATIO': 'auto', 'SAIVER': '458', 'SESSIONNAME': 'Console', 'SSLKEYLOGFILE': 'D:\\\\TOOLS\\\\sslkeylog.log', 'SYSTEMDRIVE': 'C:', 'SYSTEMROOT': 'C:\\\\WINDOWS', 'TEMP': 'C:\\\\Users\\\\cs\\\\AppData\\\\Local\\\\Temp', 'TERM': 'xterm-color', 'TMP': 'C:\\\\Users\\\\cs\\\\AppData\\\\Local\\\\Temp', 'USERDOMAIN': 'CSPC', 'USERDOMAIN_ROAMINGPROFILE': 'CSPC', 'USERNAME': 'cs', 'USERPROFILE': 'C:\\\\Users\\\\cs', 'VIDEO': '3', 'VS140COMNTOOLS': 'C:\\\\Program Files (x86)\\\\Microsoft Visual Studio 14.0\\\\Common7\\\\Tools\\\\', 'WINDIR': 'C:\\\\WINDOWS', 'CONDA_PREFIX': 'D:\\\\application\\\\Anaconda3', 'KERNEL_LAUNCH_TIMEOUT': '40', 'JPY_INTERRUPT_EVENT': '5224', 'IPY_INTERRUPT_EVENT': '5224', 'JPY_PARENT_PID': '5228'})\r\n",
      "\n",
      "error=\n"
     ]
    }
   ],
   "source": [
    "import subprocess\n",
    "\n",
    "s = subprocess.Popen(\"python\", stdout=subprocess.PIPE, stderr= subprocess.PIPE, stdin=subprocess.PIPE, shell=True)\n",
    "with s.stdin:\n",
    "    s.stdin.write(b\"import os\\n\")\n",
    "    s.stdin.write(b\"print(os.environ)\")\n",
    "\n",
    "with s.stdout:\n",
    "    out = s.stdout.read().decode(\"GBK\")\n",
    "\n",
    "with s.stderr:\n",
    "    error = s.stderr.read().decode(\"GBK\")\n",
    "\n",
    "print(f'out={out}')\n",
    "print(f'error={error}')"
   ]
  }
 ],
 "metadata": {
  "kernelspec": {
   "display_name": "Python 3",
   "language": "python",
   "name": "python3"
  },
  "language_info": {
   "codemirror_mode": {
    "name": "ipython",
    "version": 3
   },
   "file_extension": ".py",
   "mimetype": "text/x-python",
   "name": "python",
   "nbconvert_exporter": "python",
   "pygments_lexer": "ipython3",
   "version": "3.7.6"
  }
 },
 "nbformat": 4,
 "nbformat_minor": 4
}
